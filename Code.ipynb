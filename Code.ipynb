{
  "nbformat": 4,
  "nbformat_minor": 0,
  "metadata": {
    "colab": {
      "provenance": []
    },
    "kernelspec": {
      "name": "python3",
      "display_name": "Python 3"
    },
    "language_info": {
      "name": "python"
    }
  },
  "cells": [
    {
      "cell_type": "code",
      "execution_count": 1,
      "metadata": {
        "colab": {
          "base_uri": "https://localhost:8080/"
        },
        "id": "mRvLzmYqj_pv",
        "outputId": "b3a043a6-5883-40f8-9180-d7662953e18e"
      },
      "outputs": [
        {
          "output_type": "stream",
          "name": "stdout",
          "text": [
            "Collecting rembg\n",
            "  Downloading rembg-2.0.56-py3-none-any.whl (32 kB)\n",
            "Requirement already satisfied: jsonschema in /usr/local/lib/python3.10/dist-packages (from rembg) (4.19.2)\n",
            "Requirement already satisfied: numpy in /usr/local/lib/python3.10/dist-packages (from rembg) (1.25.2)\n",
            "Collecting onnxruntime (from rembg)\n",
            "  Downloading onnxruntime-1.17.3-cp310-cp310-manylinux_2_27_x86_64.manylinux_2_28_x86_64.whl (6.8 MB)\n",
            "\u001b[2K     \u001b[90m━━━━━━━━━━━━━━━━━━━━━━━━━━━━━━━━━━━━━━━━\u001b[0m \u001b[32m6.8/6.8 MB\u001b[0m \u001b[31m12.5 MB/s\u001b[0m eta \u001b[36m0:00:00\u001b[0m\n",
            "\u001b[?25hRequirement already satisfied: opencv-python-headless in /usr/local/lib/python3.10/dist-packages (from rembg) (4.9.0.80)\n",
            "Requirement already satisfied: pillow in /usr/local/lib/python3.10/dist-packages (from rembg) (9.4.0)\n",
            "Requirement already satisfied: pooch in /usr/local/lib/python3.10/dist-packages (from rembg) (1.8.1)\n",
            "Collecting pymatting (from rembg)\n",
            "  Downloading PyMatting-1.1.12-py3-none-any.whl (52 kB)\n",
            "\u001b[2K     \u001b[90m━━━━━━━━━━━━━━━━━━━━━━━━━━━━━━━━━━━━━━━━\u001b[0m \u001b[32m53.0/53.0 kB\u001b[0m \u001b[31m3.5 MB/s\u001b[0m eta \u001b[36m0:00:00\u001b[0m\n",
            "\u001b[?25hRequirement already satisfied: scikit-image in /usr/local/lib/python3.10/dist-packages (from rembg) (0.19.3)\n",
            "Requirement already satisfied: scipy in /usr/local/lib/python3.10/dist-packages (from rembg) (1.11.4)\n",
            "Requirement already satisfied: tqdm in /usr/local/lib/python3.10/dist-packages (from rembg) (4.66.2)\n",
            "Requirement already satisfied: attrs>=22.2.0 in /usr/local/lib/python3.10/dist-packages (from jsonschema->rembg) (23.2.0)\n",
            "Requirement already satisfied: jsonschema-specifications>=2023.03.6 in /usr/local/lib/python3.10/dist-packages (from jsonschema->rembg) (2023.12.1)\n",
            "Requirement already satisfied: referencing>=0.28.4 in /usr/local/lib/python3.10/dist-packages (from jsonschema->rembg) (0.34.0)\n",
            "Requirement already satisfied: rpds-py>=0.7.1 in /usr/local/lib/python3.10/dist-packages (from jsonschema->rembg) (0.18.0)\n",
            "Collecting coloredlogs (from onnxruntime->rembg)\n",
            "  Downloading coloredlogs-15.0.1-py2.py3-none-any.whl (46 kB)\n",
            "\u001b[2K     \u001b[90m━━━━━━━━━━━━━━━━━━━━━━━━━━━━━━━━━━━━━━━━\u001b[0m \u001b[32m46.0/46.0 kB\u001b[0m \u001b[31m4.0 MB/s\u001b[0m eta \u001b[36m0:00:00\u001b[0m\n",
            "\u001b[?25hRequirement already satisfied: flatbuffers in /usr/local/lib/python3.10/dist-packages (from onnxruntime->rembg) (24.3.25)\n",
            "Requirement already satisfied: packaging in /usr/local/lib/python3.10/dist-packages (from onnxruntime->rembg) (24.0)\n",
            "Requirement already satisfied: protobuf in /usr/local/lib/python3.10/dist-packages (from onnxruntime->rembg) (3.20.3)\n",
            "Requirement already satisfied: sympy in /usr/local/lib/python3.10/dist-packages (from onnxruntime->rembg) (1.12)\n",
            "Requirement already satisfied: platformdirs>=2.5.0 in /usr/local/lib/python3.10/dist-packages (from pooch->rembg) (4.2.0)\n",
            "Requirement already satisfied: requests>=2.19.0 in /usr/local/lib/python3.10/dist-packages (from pooch->rembg) (2.31.0)\n",
            "Requirement already satisfied: numba!=0.49.0 in /usr/local/lib/python3.10/dist-packages (from pymatting->rembg) (0.58.1)\n",
            "Requirement already satisfied: networkx>=2.2 in /usr/local/lib/python3.10/dist-packages (from scikit-image->rembg) (3.3)\n",
            "Requirement already satisfied: imageio>=2.4.1 in /usr/local/lib/python3.10/dist-packages (from scikit-image->rembg) (2.31.6)\n",
            "Requirement already satisfied: tifffile>=2019.7.26 in /usr/local/lib/python3.10/dist-packages (from scikit-image->rembg) (2024.4.18)\n",
            "Requirement already satisfied: PyWavelets>=1.1.1 in /usr/local/lib/python3.10/dist-packages (from scikit-image->rembg) (1.6.0)\n",
            "Requirement already satisfied: llvmlite<0.42,>=0.41.0dev0 in /usr/local/lib/python3.10/dist-packages (from numba!=0.49.0->pymatting->rembg) (0.41.1)\n",
            "Requirement already satisfied: charset-normalizer<4,>=2 in /usr/local/lib/python3.10/dist-packages (from requests>=2.19.0->pooch->rembg) (3.3.2)\n",
            "Requirement already satisfied: idna<4,>=2.5 in /usr/local/lib/python3.10/dist-packages (from requests>=2.19.0->pooch->rembg) (3.7)\n",
            "Requirement already satisfied: urllib3<3,>=1.21.1 in /usr/local/lib/python3.10/dist-packages (from requests>=2.19.0->pooch->rembg) (2.0.7)\n",
            "Requirement already satisfied: certifi>=2017.4.17 in /usr/local/lib/python3.10/dist-packages (from requests>=2.19.0->pooch->rembg) (2024.2.2)\n",
            "Collecting humanfriendly>=9.1 (from coloredlogs->onnxruntime->rembg)\n",
            "  Downloading humanfriendly-10.0-py2.py3-none-any.whl (86 kB)\n",
            "\u001b[2K     \u001b[90m━━━━━━━━━━━━━━━━━━━━━━━━━━━━━━━━━━━━━━━━\u001b[0m \u001b[32m86.8/86.8 kB\u001b[0m \u001b[31m7.4 MB/s\u001b[0m eta \u001b[36m0:00:00\u001b[0m\n",
            "\u001b[?25hRequirement already satisfied: mpmath>=0.19 in /usr/local/lib/python3.10/dist-packages (from sympy->onnxruntime->rembg) (1.3.0)\n",
            "Installing collected packages: humanfriendly, pymatting, coloredlogs, onnxruntime, rembg\n",
            "Successfully installed coloredlogs-15.0.1 humanfriendly-10.0 onnxruntime-1.17.3 pymatting-1.1.12 rembg-2.0.56\n"
          ]
        }
      ],
      "source": [
        "!pip install rembg"
      ]
    },
    {
      "cell_type": "code",
      "source": [
        "from rembg import remove\n",
        "import requests\n",
        "from PIL import Image\n",
        "from io import BytesIO\n",
        "import os\n"
      ],
      "metadata": {
        "id": "clrkk4MPkDek"
      },
      "execution_count": 2,
      "outputs": []
    },
    {
      "cell_type": "code",
      "source": [
        "os.makedirs(\"original\",exist_ok = True)\n",
        "os.makedirs(\"masked\",exist_ok = True)"
      ],
      "metadata": {
        "id": "nmjCLDtbkDcD"
      },
      "execution_count": 3,
      "outputs": []
    },
    {
      "cell_type": "code",
      "source": [
        "img_url = \"/content/original/product3.jpg\""
      ],
      "metadata": {
        "id": "F0o6LUIakDZX"
      },
      "execution_count": 4,
      "outputs": []
    },
    {
      "cell_type": "code",
      "source": [
        "img_name = img_url.split('/')[-1]"
      ],
      "metadata": {
        "id": "HFMMNWfukDWt"
      },
      "execution_count": 5,
      "outputs": []
    },
    {
      "cell_type": "code",
      "source": [
        "img = Image.open(\"/content/original/product3.jpg\")"
      ],
      "metadata": {
        "id": "_Qf_NmI_kDUe"
      },
      "execution_count": 6,
      "outputs": []
    },
    {
      "cell_type": "code",
      "source": [
        "img.save('original/' +img_name, format = 'jpeg')"
      ],
      "metadata": {
        "id": "Ehsp55dDkDR3"
      },
      "execution_count": null,
      "outputs": []
    },
    {
      "cell_type": "code",
      "source": [
        "output_pATH = 'masked/' + img_name"
      ],
      "metadata": {
        "id": "F0JmDKsbkDPO"
      },
      "execution_count": 7,
      "outputs": []
    },
    {
      "cell_type": "code",
      "source": [
        "output_pATH\n"
      ],
      "metadata": {
        "colab": {
          "base_uri": "https://localhost:8080/",
          "height": 35
        },
        "id": "_VCGg8CxkDMr",
        "outputId": "19d644ca-a04e-4fff-988c-715fc8e9b292"
      },
      "execution_count": 8,
      "outputs": [
        {
          "output_type": "execute_result",
          "data": {
            "text/plain": [
              "'masked/product3.jpg'"
            ],
            "application/vnd.google.colaboratory.intrinsic+json": {
              "type": "string"
            }
          },
          "metadata": {},
          "execution_count": 8
        }
      ]
    },
    {
      "cell_type": "code",
      "source": [
        "with open(output_pATH, 'wb') as f:\n",
        "  input = open('original/' +img_name, 'rb').read()\n",
        "  subject = remove(input)\n",
        "  f.write(subject)"
      ],
      "metadata": {
        "colab": {
          "base_uri": "https://localhost:8080/"
        },
        "id": "A1jCvssokDKn",
        "outputId": "ca5bcba9-f25d-4a5f-8cec-56b99dcfaa3f"
      },
      "execution_count": 9,
      "outputs": [
        {
          "output_type": "stream",
          "name": "stderr",
          "text": [
            "Downloading data from 'https://github.com/danielgatis/rembg/releases/download/v0.0.0/u2net.onnx' to file '/root/.u2net/u2net.onnx'.\n",
            "100%|████████████████████████████████████████| 176M/176M [00:00<00:00, 108GB/s]\n"
          ]
        }
      ]
    },
    {
      "cell_type": "code",
      "source": [
        "background_img = \"/content/background_images/3.jpg\""
      ],
      "metadata": {
        "id": "AHFdJ4ppkDIR"
      },
      "execution_count": 16,
      "outputs": []
    },
    {
      "cell_type": "code",
      "source": [
        "background_img = Image.open(\"/content/background_images/3.jpeg\")"
      ],
      "metadata": {
        "id": "O3kP5Mghls8l"
      },
      "execution_count": 17,
      "outputs": []
    },
    {
      "cell_type": "code",
      "source": [
        "background_img = background_img.resize((img.width, img.height))"
      ],
      "metadata": {
        "id": "c7XqYBZsls5Z"
      },
      "execution_count": 18,
      "outputs": []
    },
    {
      "cell_type": "code",
      "source": [
        "foreground_img = Image.open(output_pATH)\n",
        "background_img.paste(foreground_img,(440,-70),foreground_img)\n",
        "background_img.save('masked/background.jpg',format = 'jpeg')"
      ],
      "metadata": {
        "id": "5P2uAGezls22"
      },
      "execution_count": 19,
      "outputs": []
    },
    {
      "cell_type": "code",
      "source": [
        "from PIL import Image, ImageFilter, ImageEnhance, ImageOps, ImageChops\n",
        "import PIL\n",
        "\n",
        "foreground_img = Image.open(output_pATH)\n",
        "background_img = Image.open(\"/content/background_images/3.jpeg\")\n",
        "new_width = 370\n",
        "new_height = 370\n",
        "foreground_img = foreground_img.resize((new_width, new_height))\n",
        "angle = 0\n",
        "foreground_img = foreground_img.rotate(angle, expand = True)\n",
        "background_img.paste(foreground_img, (270,5), foreground_img)\n",
        "background_img.save('masked/background.jpg',format = 'JPEG')\n",
        "\n",
        "#backgroundd = foreground_img.rotate(270, PIL.Image.NEAREST, expand = 1)\n",
        "#vertical_img = img.transpose(method=Image.FLIP_TOP_BOTTOM)\n",
        "#vertical_img.show()\n"
      ],
      "metadata": {
        "id": "0FuRYMN8ls0f"
      },
      "execution_count": 278,
      "outputs": []
    },
    {
      "cell_type": "code",
      "source": [
        "i1 = Image.open('/content/masked/product3.jpg')\n",
        "i2 = Image.open('/content/background_images/3.jpeg')\n",
        "print(i1.size,i1.mode)\n",
        "print(i2.size,i2.mode)\n",
        "if i1.size[0] < i2.size[0] and i1.size[1] < i2.size[1]:\n",
        "    i1 = i1.resize(i2.size)\n",
        "else:\n",
        "    i2 = i2.resize(i1.size)\n",
        "\n",
        "i2 = i2.convert(i1.mode)\n",
        "\n",
        "print(i1.size,i1.mode)\n",
        "print(i2.size,i2.mode)"
      ],
      "metadata": {
        "colab": {
          "base_uri": "https://localhost:8080/"
        },
        "id": "8XUXiHjulsyG",
        "outputId": "2cc3bd86-7d49-4c61-8bbe-e523cbbe7a20"
      },
      "execution_count": 279,
      "outputs": [
        {
          "output_type": "stream",
          "name": "stdout",
          "text": [
            "(2400, 2400) RGBA\n",
            "(722, 433) RGB\n",
            "(2400, 2400) RGBA\n",
            "(2400, 2400) RGBA\n"
          ]
        }
      ]
    },
    {
      "cell_type": "code",
      "source": [
        "image = Image.open('/content/masked/background.jpg')\n",
        "image_detail = image.filter(ImageFilter.DETAIL)\n",
        "#image_sharp = image_detail.filter(ImageFilter.SHARPEN)\n",
        "image_smooth = image_detail.filter(ImageFilter.SMOOTH)\n",
        "image_detailed = image_smooth.filter(ImageFilter.DETAIL)\n",
        "image_detailedd = image_detailed.filter(ImageFilter.DETAIL)\n",
        "#image_contour = image.filter(ImageFilter.SMOOTH_MORE)\n",
        "#image_edge = image_detailedd.filter(ImageFilter.EDGE_ENHANCE)\n",
        "#image_find_edges = image_sharp.filter(ImageFilter.FIND_EDGES)\n",
        "color_enhancer = ImageEnhance.Color(image_detailedd)\n",
        "sharpness_enhancer = ImageEnhance.Sharpness(image_detailedd)\n",
        "enhanced_image = color_enhancer.enhance(1.5)\n",
        "\n",
        "brightness_enhancer = ImageEnhance.Brightness(enhanced_image) # contrast\n",
        "brighter = brightness_enhancer.enhance(1)\n",
        "\n",
        "contrast_enhancer = ImageEnhance.Contrast(brighter) # contrast\n",
        "brighterr = contrast_enhancer.enhance(0.9)\n",
        "\n",
        "brighterr.show()\n",
        "brighterr.save('masked/background.jpg',format = 'JPEG')\n",
        "#brighterr.save('background.jpg')"
      ],
      "metadata": {
        "id": "UNqcC5BllsvQ"
      },
      "execution_count": 280,
      "outputs": []
    },
    {
      "cell_type": "code",
      "source": [
        "#background2/5.jpg"
      ],
      "metadata": {
        "id": "UZNBx9azlss1"
      },
      "execution_count": null,
      "outputs": []
    },
    {
      "cell_type": "code",
      "source": [
        "from PIL import Image, ImageFilter, ImageEnhance, ImageOps, ImageChops, ImageDraw, ImageFont\n",
        "import PIL\n",
        "\n",
        "foreground_img = Image.open(output_pATH)\n",
        "background_img2 = Image.open(\"/content/background_images/5.jpeg\")\n",
        "new_width = 445\n",
        "new_height = 445\n",
        "foreground_img = foreground_img.resize((new_width, new_height))\n",
        "angle = 0\n",
        "foreground_img = foreground_img.rotate(angle, expand = True)\n",
        "background_img2.paste(foreground_img, (159,89), foreground_img)\n",
        "background_img2.save('masked/background2.jpg',format = 'JPEG')\n",
        "\n",
        "#backgroundd = foreground_img.rotate(270, PIL.Image.NEAREST, expand = 1)\n",
        "#vertical_img = img.transpose(method=Image.FLIP_TOP_BOTTOM)\n",
        "#vertical_img.show()\n"
      ],
      "metadata": {
        "id": "u5qLesCAlsqO"
      },
      "execution_count": 371,
      "outputs": []
    },
    {
      "cell_type": "code",
      "source": [
        "i1 = Image.open('/content/masked/product3.jpg')\n",
        "i2 = Image.open('/content/background_images/5.jpeg')\n",
        "print(i1.size,i1.mode)\n",
        "print(i2.size,i2.mode)\n",
        "if i1.size[0] < i2.size[0] and i1.size[1] < i2.size[1]:\n",
        "    i1 = i1.resize(i2.size)\n",
        "else:\n",
        "    i2 = i2.resize(i1.size)\n",
        "\n",
        "i2 = i2.convert(i1.mode)\n",
        "\n",
        "print(i1.size,i1.mode)\n",
        "print(i2.size,i2.mode)"
      ],
      "metadata": {
        "colab": {
          "base_uri": "https://localhost:8080/"
        },
        "id": "i_9vtI9nlsnz",
        "outputId": "1449d7a4-0062-49bd-b584-ee9be149e29d"
      },
      "execution_count": 372,
      "outputs": [
        {
          "output_type": "stream",
          "name": "stdout",
          "text": [
            "(2400, 2400) RGBA\n",
            "(749, 738) RGB\n",
            "(2400, 2400) RGBA\n",
            "(2400, 2400) RGBA\n"
          ]
        }
      ]
    },
    {
      "cell_type": "code",
      "source": [
        "image = Image.open('/content/masked/background2.jpg')\n",
        "image_detail = image.filter(ImageFilter.DETAIL)\n",
        "#image_sharp = image_detail.filter(ImageFilter.SHARPEN)\n",
        "image_smooth = image_detail.filter(ImageFilter.SMOOTH)\n",
        "image_detailed = image_smooth.filter(ImageFilter.DETAIL)\n",
        "image_detailedd = image_detailed.filter(ImageFilter.DETAIL)\n",
        "#image_contour = image.filter(ImageFilter.SMOOTH_MORE)\n",
        "#image_edge = image_detailedd.filter(ImageFilter.EDGE_ENHANCE)\n",
        "#image_find_edges = image_sharp.filter(ImageFilter.FIND_EDGES)\n",
        "color_enhancer = ImageEnhance.Color(image_detailedd)\n",
        "sharpness_enhancer = ImageEnhance.Sharpness(image_detailedd)\n",
        "enhanced_image = color_enhancer.enhance(1.5)\n",
        "\n",
        "brightness_enhancer = ImageEnhance.Brightness(enhanced_image) # contrast\n",
        "brighter = brightness_enhancer.enhance(1)\n",
        "\n",
        "contrast_enhancer = ImageEnhance.Contrast(brighter) # contrast\n",
        "brighterr = contrast_enhancer.enhance(0.9)\n",
        "\n",
        "brighterr.show()\n",
        "brighterr.save('masked/background2.jpg',format = 'JPEG')\n",
        "#brighterr.save('background.jpg')"
      ],
      "metadata": {
        "id": "_1z6TQnclslV"
      },
      "execution_count": 373,
      "outputs": []
    },
    {
      "cell_type": "code",
      "source": [
        "from PIL import Image, ImageEnhance\n",
        "\n",
        "# Load the image\n",
        "image_path = \"masked/background2.jpg\"  # Replace with the path to your image\n",
        "image = Image.open(image_path)\n",
        "\n",
        "# Adjust brightness\n",
        "brightness_factor = 1  # Increase or decrease as needed (1.0 means no change)\n",
        "enhancer_brightness = ImageEnhance.Brightness(image)\n",
        "image = enhancer_brightness.enhance(brightness_factor)\n",
        "\n",
        "# Adjust contrast\n",
        "contrast_factor = 1.2  # Increase or decrease as needed (1.0 means no change)\n",
        "enhancer_contrast = ImageEnhance.Contrast(image)\n",
        "image = enhancer_contrast.enhance(contrast_factor)\n",
        "\n",
        "# Save or display the resulting image\n",
        "image.show()  # Display the image\n",
        "image.save(\"output_image.jpg\")  # Save the image\n"
      ],
      "metadata": {
        "id": "GGtHTS5Seea6"
      },
      "execution_count": 374,
      "outputs": []
    },
    {
      "cell_type": "code",
      "source": [
        "#for font\n",
        "# Load the image\n",
        "#image_path = \"your_image.jpg\"  # Replace with the path to your image\n",
        "image = Image.open('/content/outputs/output_image.jpg')\n",
        "\n",
        "# Initialize the drawing context\n",
        "draw = ImageDraw.Draw(image)\n",
        "\n",
        "# Define the text to be added\n",
        "text = \"Aftershave Lavanille\"\n",
        "\n",
        "# Define the font size and font type\n",
        "font_size = 40\n",
        "font = ImageFont.truetype(\"/content/fonts/calibri-regular.ttf\",font_size)\n",
        "# Determine the position to place the text\n",
        "text_position = (240, 680)  # Adjust the coordinates as needed\n",
        "\n",
        "# Define text color\n",
        "text_color = (102, 51, 0)  # White color in RGB format\n",
        "\n",
        "# Add the text to the image\n",
        "draw.text(text_position, text, fill=text_color, font=font)\n",
        "\n",
        "# Save or display the resulting image\n",
        "image.show()  # Display the image with the added text\n",
        "image.save(\"/content/outputs/background2.jpg\")  # Save the image with the added text\n"
      ],
      "metadata": {
        "id": "jg3MtBNGefTd"
      },
      "execution_count": 390,
      "outputs": []
    },
    {
      "cell_type": "code",
      "source": [
        "from PIL import Image\n",
        "\n",
        "# Load the shampoo bottle image with a transparent backgr  # Replace with the path to your shampoo bottle image\n",
        "bottle_image = Image.open('/content/masked/reflection.png')\n",
        "bottle_image = bottle_image.convert(\"RGBA\")\n",
        "\n",
        "# Display the image properties\n",
        "print(\"Image mode:\", bottle_image.mode)  # Should display \"RGBA\" for an image with transparency\n",
        "print(\"Image size:\", bottle_image.size)  # Display the dimensions of the image\n"
      ],
      "metadata": {
        "colab": {
          "base_uri": "https://localhost:8080/"
        },
        "id": "8xzMZHr2XaF-",
        "outputId": "938d359f-500e-46b0-f8ec-fc5dd10a6411"
      },
      "execution_count": 391,
      "outputs": [
        {
          "output_type": "stream",
          "name": "stdout",
          "text": [
            "Image mode: RGBA\n",
            "Image size: (1200, 1200)\n"
          ]
        }
      ]
    },
    {
      "cell_type": "code",
      "source": [],
      "metadata": {
        "id": "E0TezGpE7TDJ"
      },
      "execution_count": null,
      "outputs": []
    },
    {
      "cell_type": "code",
      "source": [
        "#background3"
      ],
      "metadata": {
        "id": "Pf2CHEsqlcLI"
      },
      "execution_count": null,
      "outputs": []
    },
    {
      "cell_type": "code",
      "source": [
        "from PIL import Image, ImageFilter, ImageEnhance, ImageOps, ImageChops, ImageDraw, ImageFont\n",
        "import PIL\n",
        "\n",
        "foreground_img = Image.open(output_pATH)\n",
        "foreground_imgg = Image.open(output_pATH)\n",
        "foreground_img1 = Image.open('/content/background_images/vanilla-flower-png-3.png')\n",
        "#foreground_img2 = Image.open('/content/background_images/9.png')\n",
        "background_img2 = Image.open(\"/content/background_images/10.jpg\")\n",
        "new_width = 1900\n",
        "new_height = 1900\n",
        "\n",
        "new_widthh = 2000\n",
        "new_heightt = 2000\n",
        "\n",
        "new_widthkh = 2000\n",
        "new_heightit = 2000\n",
        "\n",
        "new_widthhh = 900\n",
        "new_heighttt = 900\n",
        "\n",
        "foreground_img = foreground_img.resize((new_width, new_height))\n",
        "foreground_imgg = foreground_imgg.resize((new_widthh, new_heightt))\n",
        "foreground_img1 = foreground_img1.resize((new_widthhh, new_heighttt))\n",
        "#foreground_img2 = foreground_img2.resize((new_widthkh, new_heightit))\n",
        "angle = 0\n",
        "anglee = 358\n",
        "foreground_img = foreground_img.rotate(angle, expand = True)\n",
        "foreground_imgg = foreground_imgg.rotate(angle, expand = True)\n",
        "foreground_img1 = foreground_img1.rotate(anglee, expand = True)\n",
        "#foreground_img2 = foreground_img2.rotate(angle, expand = True)\n",
        "\n",
        "\n",
        "\n",
        "background_img2.paste(foreground_img, (1100,450), foreground_img)\n",
        "background_img2.paste(foreground_imgg, (1560,541), foreground_imgg)\n",
        "background_img2.paste(foreground_img1, (1375,1530), foreground_img1)\n",
        "#background_img2.paste(foreground_img2, (1400,200), foreground_img2)\n",
        "\n",
        "background_img2.save('masked/background3.jpg',format = 'JPEG')\n",
        "\n",
        "#2190,1570\n",
        "\n",
        "#backgroundd = foreground_img.rotate(270, PIL.Image.NEAREST, expand = 1)\n",
        "#vertical_img = img.transpose(method=Image.FLIP_TOP_BOTTOM)\n",
        "#vertical_img.show()\n"
      ],
      "metadata": {
        "id": "Y9bmdz2QlcHt"
      },
      "execution_count": 564,
      "outputs": []
    },
    {
      "cell_type": "code",
      "source": [
        "#background 4"
      ],
      "metadata": {
        "id": "I3P83JnllcCx"
      },
      "execution_count": null,
      "outputs": []
    },
    {
      "cell_type": "code",
      "source": [
        "from PIL import Image, ImageFilter, ImageEnhance, ImageOps, ImageChops, ImageDraw, ImageFont\n",
        "import PIL\n",
        "\n",
        "foreground_img = Image.open(output_pATH)\n",
        "foreground_img2 = Image.open('/content/background_images/9.png')\n",
        "foreground_img3 = Image.open('/content/background_images/van.png')\n",
        "background_img4 = Image.open(\"/content/background_images/unfinished-wood-tray-1.jpg\")\n",
        "new_width = 1000\n",
        "new_height = 950\n",
        "\n",
        "wid = 500\n",
        "hi = 500\n",
        "\n",
        "wee = 300\n",
        "hee = 300\n",
        "foreground_img = foreground_img.resize((new_width, new_height))\n",
        "foreground_img2 = foreground_img2.resize((wid, hi))\n",
        "foreground_img3 = foreground_img3.resize((wee, hee))\n",
        "angle = 0\n",
        "anglee = 35\n",
        "angleee = 4\n",
        "foreground_img = foreground_img.rotate(angle, expand = True)\n",
        "foreground_img2 = foreground_img2.rotate(anglee, expand = True)\n",
        "foreground_img3 = foreground_img3.rotate(angleee, expand = True)\n",
        "background_img4.paste(foreground_img2, (740,100), foreground_img2)\n",
        "background_img4.paste(foreground_img, (400,-135), foreground_img)\n",
        "background_img4.paste(foreground_img3, (590,460), foreground_img3)\n",
        "background_img4.save('masked/background4.jpg',format = 'JPEG')\n",
        "\n",
        "#backgroundd = foreground_img.rotate(270, PIL.Image.NEAREST, expand = 1)\n",
        "#vertical_img = img.transpose(method=Image.FLIP_TOP_BOTTOM)\n",
        "#vertical_img.show()\n"
      ],
      "metadata": {
        "id": "du6GiXe6lcAe"
      },
      "execution_count": 670,
      "outputs": []
    },
    {
      "cell_type": "code",
      "source": [
        "image = Image.open('/content/masked/background4.jpg')\n",
        "image_detail = image.filter(ImageFilter.DETAIL)\n",
        "#image_sharp = image_detail.filter(ImageFilter.SHARPEN)\n",
        "image_smooth = image_detail.filter(ImageFilter.SMOOTH)\n",
        "image_detailed = image_smooth.filter(ImageFilter.DETAIL)\n",
        "image_detailedd = image_detailed.filter(ImageFilter.DETAIL)\n",
        "#image_contour = image.filter(ImageFilter.SMOOTH_MORE)\n",
        "#image_edge = image_detailedd.filter(ImageFilter.EDGE_ENHANCE)\n",
        "#image_find_edges = image_sharp.filter(ImageFilter.FIND_EDGES)\n",
        "color_enhancer = ImageEnhance.Color(image_detailedd)\n",
        "sharpness_enhancer = ImageEnhance.Sharpness(image_detailedd)\n",
        "enhanced_image = color_enhancer.enhance(1)\n",
        "\n",
        "brightness_enhancer = ImageEnhance.Brightness(enhanced_image) # contrast\n",
        "brighter = brightness_enhancer.enhance(1)\n",
        "\n",
        "contrast_enhancer = ImageEnhance.Contrast(brighter) # contrast\n",
        "brighterr = contrast_enhancer.enhance(0.9)\n",
        "\n",
        "brighterr.show()\n",
        "brighterr.save('masked/background4.jpg',format = 'JPEG')\n",
        "#brighterr.save('background.jpg')"
      ],
      "metadata": {
        "id": "53gnGymolb9p"
      },
      "execution_count": 671,
      "outputs": []
    },
    {
      "cell_type": "code",
      "source": [
        "from PIL import Image, ImageEnhance\n",
        "\n",
        "# Load the image\n",
        "image_path = \"masked/background4.jpg\"  # Replace with the path to your image\n",
        "image = Image.open(image_path)\n",
        "\n",
        "# Adjust brightness\n",
        "brightness_factor = 1  # Increase or decrease as needed (1.0 means no change)\n",
        "enhancer_brightness = ImageEnhance.Brightness(image)\n",
        "image = enhancer_brightness.enhance(brightness_factor)\n",
        "\n",
        "# Adjust contrast\n",
        "contrast_factor = 1  # Increase or decrease as needed (1.0 means no change)\n",
        "enhancer_contrast = ImageEnhance.Contrast(image)\n",
        "image = enhancer_contrast.enhance(contrast_factor)\n",
        "\n",
        "# Save or display the resulting image\n",
        "image.show()  # Display the image\n",
        "image.save('outputs/background4.jpg',format = 'JPEG')  # Save the image\n"
      ],
      "metadata": {
        "id": "x2BaopQAlb7O"
      },
      "execution_count": 673,
      "outputs": []
    },
    {
      "cell_type": "code",
      "source": [],
      "metadata": {
        "id": "ekF6mzVKMeSS"
      },
      "execution_count": null,
      "outputs": []
    },
    {
      "cell_type": "code",
      "source": [
        "#background 5"
      ],
      "metadata": {
        "id": "euP5ofYWlb4r"
      },
      "execution_count": null,
      "outputs": []
    },
    {
      "cell_type": "code",
      "source": [
        "from PIL import Image, ImageFilter, ImageEnhance, ImageOps, ImageChops, ImageDraw, ImageFont\n",
        "import PIL\n",
        "\n",
        "foreground_img = Image.open(output_pATH)\n",
        "background_img5 = Image.open(\"/content/background_images/17.jpg\")\n",
        "new_width = 500\n",
        "new_height = 500\n",
        "foreground_img = foreground_img.resize((new_width, new_height))\n",
        "angle = 0\n",
        "foreground_img = foreground_img.rotate(angle, expand = True)\n",
        "background_img5.paste(foreground_img, (62,92), foreground_img)\n",
        "background_img5.save('masked/background5.jpg',format = 'JPEG')\n",
        "\n",
        "#backgroundd = foreground_img.rotate(270, PIL.Image.NEAREST, expand = 1)\n",
        "#vertical_img = img.transpose(method=Image.FLIP_TOP_BOTTOM)\n",
        "#vertical_img.show()\n"
      ],
      "metadata": {
        "id": "qExUK_BjYhDu"
      },
      "execution_count": 697,
      "outputs": []
    },
    {
      "cell_type": "code",
      "source": [
        "image = Image.open('/content/masked/background5.jpg')\n",
        "image_detail = image.filter(ImageFilter.DETAIL)\n",
        "#image_sharp = image_detail.filter(ImageFilter.SHARPEN)\n",
        "image_smooth = image_detail.filter(ImageFilter.SMOOTH)\n",
        "image_detailed = image_smooth.filter(ImageFilter.DETAIL)\n",
        "image_detailedd = image_detailed.filter(ImageFilter.DETAIL)\n",
        "#image_contour = image.filter(ImageFilter.SMOOTH_MORE)\n",
        "#image_edge = image_detailedd.filter(ImageFilter.EDGE_ENHANCE)\n",
        "#image_find_edges = image_sharp.filter(ImageFilter.FIND_EDGES)\n",
        "color_enhancer = ImageEnhance.Color(image_detailedd)\n",
        "sharpness_enhancer = ImageEnhance.Sharpness(image_detailedd)\n",
        "enhanced_image = color_enhancer.enhance(1.5)\n",
        "\n",
        "brightness_enhancer = ImageEnhance.Brightness(enhanced_image) # contrast\n",
        "brighter = brightness_enhancer.enhance(1)\n",
        "\n",
        "contrast_enhancer = ImageEnhance.Contrast(brighter) # contrast\n",
        "brighterr = contrast_enhancer.enhance(0.9)\n",
        "\n",
        "brighterr.show()\n",
        "brighterr.save('masked/background5.jpg',format = 'JPEG')\n",
        "#brighterr.save('background.jpg')"
      ],
      "metadata": {
        "id": "Vwb5H3kJYhAK"
      },
      "execution_count": 698,
      "outputs": []
    },
    {
      "cell_type": "code",
      "source": [
        "from PIL import Image, ImageEnhance\n",
        "\n",
        "# Load the image\n",
        "image_path = \"masked/background5.jpg\"  # Replace with the path to your image\n",
        "image = Image.open(image_path)\n",
        "\n",
        "# Adjust brightness\n",
        "brightness_factor = 1  # Increase or decrease as needed (1.0 means no change)\n",
        "enhancer_brightness = ImageEnhance.Brightness(image)\n",
        "image = enhancer_brightness.enhance(brightness_factor)\n",
        "\n",
        "# Adjust contrast\n",
        "contrast_factor = 1  # Increase or decrease as needed (1.0 means no change)\n",
        "enhancer_contrast = ImageEnhance.Contrast(image)\n",
        "image = enhancer_contrast.enhance(contrast_factor)\n",
        "\n",
        "# Save or display the resulting image\n",
        "image.show()  # Display the image\n",
        "image.save('masked/background5.jpg',format = 'JPEG')  # Save the image\n"
      ],
      "metadata": {
        "id": "uFbZRA8YYg9u"
      },
      "execution_count": 706,
      "outputs": []
    },
    {
      "cell_type": "code",
      "source": [
        "#for font\n",
        "# Load the image\n",
        "#image_path = \"your_image.jpg\"  # Replace with the path to your image\n",
        "image = Image.open('masked/background5.jpg')\n",
        "\n",
        "# Initialize the drawing context\n",
        "draw = ImageDraw.Draw(image)\n",
        "\n",
        "# Define the text to be added\n",
        "text = \"LAVANILLE\"\n",
        "\n",
        "# Define the font size and font type\n",
        "font_size = 30\n",
        "font = ImageFont.truetype(\"/content/fonts/arial.ttf\",font_size)\n",
        "# Determine the position to place the text\n",
        "text_position = (250, 576)  # Adjust the coordinates as needed\n",
        "\n",
        "# Define text color\n",
        "text_color = (245, 2545, 220)  # White color in RGB format\n",
        "\n",
        "# Add the text to the image\n",
        "draw.text(text_position, text, fill=text_color, font=font)\n",
        "\n",
        "# Save or display the resulting image\n",
        "image.show()  # Display the image with the added text\n",
        "image.save(\"/content/outputs/background5.jpg\")  # Save the image with the added text\n"
      ],
      "metadata": {
        "id": "Zkgsjn7VYg7U"
      },
      "execution_count": 1048,
      "outputs": []
    },
    {
      "cell_type": "code",
      "source": [],
      "metadata": {
        "id": "blZyfpMKYg42"
      },
      "execution_count": null,
      "outputs": []
    },
    {
      "cell_type": "code",
      "source": [
        "#product 1/ Background 1"
      ],
      "metadata": {
        "id": "aJAAYeYYYg2U"
      },
      "execution_count": null,
      "outputs": []
    },
    {
      "cell_type": "code",
      "source": [
        "img2_url = \"/content/original/product1.jpg\""
      ],
      "metadata": {
        "id": "7v5DPOwUMknQ"
      },
      "execution_count": 726,
      "outputs": []
    },
    {
      "cell_type": "code",
      "source": [
        "img_name = img2_url.split('/')[-1]"
      ],
      "metadata": {
        "id": "FiBD5nQtMmsq"
      },
      "execution_count": 727,
      "outputs": []
    },
    {
      "cell_type": "code",
      "source": [
        "img = Image.open(\"/content/original/product1.jpg\")"
      ],
      "metadata": {
        "id": "1LpHyP-rMtfe"
      },
      "execution_count": 729,
      "outputs": []
    },
    {
      "cell_type": "code",
      "source": [
        "img.save('original/' +img_name, format = 'jpeg')"
      ],
      "metadata": {
        "id": "2gNZN6EGMtcC"
      },
      "execution_count": 730,
      "outputs": []
    },
    {
      "cell_type": "code",
      "source": [
        "output_pATHH = 'masked/' + img_name"
      ],
      "metadata": {
        "id": "MHXratvgMtZ2"
      },
      "execution_count": 732,
      "outputs": []
    },
    {
      "cell_type": "code",
      "source": [
        "with open(output_pATHH, 'wb') as f:\n",
        "  input = open('original/' +img_name, 'rb').read()\n",
        "  subject = remove(input)\n",
        "  f.write(subject)"
      ],
      "metadata": {
        "id": "LeDs00eHMtXy"
      },
      "execution_count": 734,
      "outputs": []
    },
    {
      "cell_type": "code",
      "source": [
        "background_img = Image.open(\"/content/background_images/3.jpeg\")"
      ],
      "metadata": {
        "id": "VHA8KH6rNDEW"
      },
      "execution_count": 737,
      "outputs": []
    },
    {
      "cell_type": "code",
      "source": [
        "background_img = background_img.resize((img.width, img.height))"
      ],
      "metadata": {
        "id": "kc7jYHHjNDA9"
      },
      "execution_count": 738,
      "outputs": []
    },
    {
      "cell_type": "code",
      "source": [
        "foreground_img = Image.open(output_pATHH)\n",
        "background_img.paste(foreground_img,(440,-70),foreground_img)\n",
        "background_img.save('masked/background.jpg',format = 'jpeg')"
      ],
      "metadata": {
        "id": "8j9nE1cGNC-6"
      },
      "execution_count": 739,
      "outputs": []
    },
    {
      "cell_type": "code",
      "source": [
        "from PIL import Image, ImageFilter, ImageEnhance, ImageOps, ImageChops\n",
        "import PIL\n",
        "\n",
        "\n",
        "background_img = Image.open(\"/content/background_images/dirt.jpg\")\n",
        "foreground_img = Image.open(output_pATHH)\n",
        "foreground_img1 = Image.open('/content/background_images/hand.png')\n",
        "\n",
        "\n",
        "new_width = 1000\n",
        "new_height = 1000\n",
        "new_w = 1279\n",
        "new_h = 517\n",
        "\n",
        "\n",
        "foreground_img = foreground_img.resize((new_width, new_height))\n",
        "foreground_img1 = foreground_img1.resize((new_w, new_h))\n",
        "\n",
        "angle = 0\n",
        "anglee = 0\n",
        "\n",
        "foreground_img1 = foreground_img1.rotate(anglee, expand = True)\n",
        "background_img.paste(foreground_img1, (325,900), foreground_img1)\n",
        "\n",
        "foreground_img = foreground_img.rotate(angle, expand = True)\n",
        "background_img.paste(foreground_img, (160,280), foreground_img)\n",
        "\n",
        "\n",
        "\n",
        "\n",
        "\n",
        "background_img.save('masked/background11.jpg',format = 'JPEG')\n",
        "\n",
        "#backgroundd = foreground_img.rotate(270, PIL.Image.NEAREST, expand = 1)\n",
        "#vertical_img = img.transpose(method=Image.FLIP_TOP_BOTTOM)\n",
        "#vertical_img.show()\n",
        "\n"
      ],
      "metadata": {
        "id": "xce92VJGNC8i"
      },
      "execution_count": 812,
      "outputs": []
    },
    {
      "cell_type": "code",
      "source": [
        "image = Image.open('/content/masked/background11.jpg')\n",
        "image_detail = image.filter(ImageFilter.DETAIL)\n",
        "#image_sharp = image_detail.filter(ImageFilter.SHARPEN)\n",
        "image_smooth = image_detail.filter(ImageFilter.SMOOTH)\n",
        "image_detailed = image_smooth.filter(ImageFilter.DETAIL)\n",
        "image_detailedd = image_detailed.filter(ImageFilter.DETAIL)\n",
        "#image_contour = image.filter(ImageFilter.SMOOTH_MORE)\n",
        "#image_edge = image_detailedd.filter(ImageFilter.EDGE_ENHANCE)\n",
        "#image_find_edges = image_sharp.filter(ImageFilter.FIND_EDGES)\n",
        "color_enhancer = ImageEnhance.Color(image_detailedd)\n",
        "sharpness_enhancer = ImageEnhance.Sharpness(image_detailedd)\n",
        "enhanced_image = color_enhancer.enhance(1.5)\n",
        "\n",
        "brightness_enhancer = ImageEnhance.Brightness(enhanced_image) # contrast\n",
        "brighter = brightness_enhancer.enhance(1)\n",
        "\n",
        "contrast_enhancer = ImageEnhance.Contrast(brighter) # contrast\n",
        "brighterr = contrast_enhancer.enhance(0.9)\n",
        "\n",
        "brighterr.show()\n",
        "brighterr.save('masked/background11.jpg',format = 'JPEG')\n",
        "#brighterr.save('background.jpg')\n"
      ],
      "metadata": {
        "id": "1onS4-ZVNC6g"
      },
      "execution_count": 813,
      "outputs": []
    },
    {
      "cell_type": "code",
      "source": [
        "#for font\n",
        "# Load the image\n",
        "#image_path = \"your_image.jpg\"  # Replace with the path to your image\n",
        "image = Image.open('masked/background11.jpg')\n",
        "\n",
        "# Initialize the drawing context\n",
        "draw = ImageDraw.Draw(image)\n",
        "\n",
        "# Define the text to be added\n",
        "text = \"SEVILLE\"\n",
        "\n",
        "# Define the font size and font type\n",
        "font_size = 30\n",
        "font = ImageFont.truetype(\"/content/fonts/arial.ttf\",font_size)\n",
        "# Determine the position to place the text\n",
        "text_position = (185, 570)  # Adjust the coordinates as needed\n",
        "\n",
        "# Define text color\n",
        "text_color = (102, 51, 0)  # White color in RGB format\n",
        "\n",
        "# Add the text to the image\n",
        "draw.text(text_position, text, fill=text_color, font=font)\n",
        "\n",
        "# Save or display the resulting image\n",
        "image.show()  # Display the image with the added text\n",
        "image.save(\"/content/outputs/background11.jpg\")  # Save the image with the added text\n"
      ],
      "metadata": {
        "id": "WsGqS2LfVhWH"
      },
      "execution_count": 814,
      "outputs": []
    },
    {
      "cell_type": "code",
      "source": [
        "#background 22/1 product.jpg"
      ],
      "metadata": {
        "id": "GvFdCSH0NC4J"
      },
      "execution_count": null,
      "outputs": []
    },
    {
      "cell_type": "code",
      "source": [
        "from PIL import Image, ImageFilter, ImageEnhance, ImageOps, ImageChops, ImageDraw, ImageFont\n",
        "import PIL\n",
        "\n",
        "foreground_img = Image.open(output_pATHH)\n",
        "foreground_img2 = Image.open('/content/background_images/poll.png')\n",
        "background_img2 = Image.open(\"/content/background_images/white.jpg\")\n",
        "new_width = 1200\n",
        "new_height = 1200\n",
        "newwid =  1568\n",
        "newhei =  700\n",
        "foreground_img = foreground_img.resize((new_width, new_height))\n",
        "foreground_img2 = foreground_img2.resize((newwid, newhei))\n",
        "angle = 2\n",
        "anglee = 7\n",
        "foreground_img2 = foreground_img2.rotate(anglee, expand = True)\n",
        "background_img2.paste(foreground_img2, (200,250), foreground_img2)\n",
        "\n",
        "foreground_img = foreground_img.rotate(angle, expand = True)\n",
        "background_img2.paste(foreground_img, (400,10), foreground_img)\n",
        "\n",
        "\n",
        "background_img2.save('masked/background22.jpg',format = 'JPEG')\n",
        "\n",
        "#backgroundd = foreground_img.rotate(270, PIL.Image.NEAREST, expand = 1)\n",
        "#vertical_img = img.transpose(method=Image.FLIP_TOP_BOTTOM)\n",
        "#vertical_img.show()\n"
      ],
      "metadata": {
        "id": "JwmJupKYXaBu"
      },
      "execution_count": 906,
      "outputs": []
    },
    {
      "cell_type": "code",
      "source": [
        "image = Image.open('/content/masked/background22.jpg')\n",
        "image_detail = image.filter(ImageFilter.DETAIL)\n",
        "#image_sharp = image_detail.filter(ImageFilter.SHARPEN)\n",
        "image_smooth = image_detail.filter(ImageFilter.SMOOTH)\n",
        "image_detailed = image_smooth.filter(ImageFilter.DETAIL)\n",
        "image_detailedd = image_detailed.filter(ImageFilter.DETAIL)\n",
        "#image_contour = image.filter(ImageFilter.SMOOTH_MORE)\n",
        "#image_edge = image_detailedd.filter(ImageFilter.EDGE_ENHANCE)\n",
        "#image_find_edges = image_sharp.filter(ImageFilter.FIND_EDGES)\n",
        "color_enhancer = ImageEnhance.Color(image_detailedd)\n",
        "sharpness_enhancer = ImageEnhance.Sharpness(image_detailedd)\n",
        "enhanced_image = color_enhancer.enhance(1)\n",
        "\n",
        "brightness_enhancer = ImageEnhance.Brightness(enhanced_image) # contrast\n",
        "brighter = brightness_enhancer.enhance(1)\n",
        "\n",
        "contrast_enhancer = ImageEnhance.Contrast(brighter) # contrast\n",
        "brighterr = contrast_enhancer.enhance(0.9)\n",
        "\n",
        "brighterr.show()\n",
        "brighterr.save('masked/background22.jpg',format = 'JPEG')\n",
        "#brighterr.save('background.jpg')\n"
      ],
      "metadata": {
        "id": "jUgY4FCyXZ-s"
      },
      "execution_count": 907,
      "outputs": []
    },
    {
      "cell_type": "code",
      "source": [
        "from PIL import Image, ImageEnhance\n",
        "\n",
        "# Load the image\n",
        "image_path = \"masked/background22.jpg\"  # Replace with the path to your image\n",
        "image = Image.open(image_path)\n",
        "\n",
        "# Adjust brightness\n",
        "brightness_factor = 1  # Increase or decrease as needed (1.0 means no change)\n",
        "enhancer_brightness = ImageEnhance.Brightness(image)\n",
        "image = enhancer_brightness.enhance(brightness_factor)\n",
        "\n",
        "# Adjust contrast\n",
        "contrast_factor = 1  # Increase or decrease as needed (1.0 means no change)\n",
        "enhancer_contrast = ImageEnhance.Contrast(image)\n",
        "image = enhancer_contrast.enhance(contrast_factor)\n",
        "\n",
        "# Save or display the resulting image\n",
        "image.show()  # Display the image\n",
        "image.save('masked/backgroun22.jpg',format = 'JPEG')  # Save the image\n"
      ],
      "metadata": {
        "id": "-pI6BrD1XZ9T"
      },
      "execution_count": 908,
      "outputs": []
    },
    {
      "cell_type": "code",
      "source": [
        "#for font\n",
        "# Load the image\n",
        "#image_path = \"your_image.jpg\"  # Replace with the path to your image\n",
        "image = Image.open('masked/background22.jpg')\n",
        "\n",
        "# Initialize the drawing context\n",
        "draw = ImageDraw.Draw(image)\n",
        "\n",
        "# Define the text to be added\n",
        "text = \"SEVILLE\"\n",
        "\n",
        "# Define the font size and font type\n",
        "font_size = 90\n",
        "font = ImageFont.truetype(\"/content/fonts/calibri-bold.ttf\",font_size)\n",
        "# Determine the position to place the text\n",
        "text_position = (950, 1100)  # Adjust the coordinates as needed\n",
        "\n",
        "# Define text color\n",
        "text_color = (255, 69, 0)  # White color in RGB format\n",
        "\n",
        "# Add the text to the image\n",
        "draw.text(text_position, text, fill=text_color, font=font)\n",
        "\n",
        "# Save or display the resulting image\n",
        "image.show()  # Display the image with the added text\n",
        "image.save(\"/content/outputs/background22.jpg\")  # Save the image with the added text\n"
      ],
      "metadata": {
        "id": "nvbkPhqMXZ7x"
      },
      "execution_count": 909,
      "outputs": []
    },
    {
      "cell_type": "code",
      "source": [
        "#background 33"
      ],
      "metadata": {
        "id": "o_pXhlTIXZ6I"
      },
      "execution_count": null,
      "outputs": []
    },
    {
      "cell_type": "code",
      "source": [
        "from PIL import Image, ImageFilter, ImageEnhance, ImageOps, ImageChops, ImageDraw, ImageFont\n",
        "import PIL\n",
        "\n",
        "foreground_img = Image.open(output_pATHH)\n",
        "foreground_img2 = Image.open('/content/background_images/soapp.png')\n",
        "background_img2 = Image.open(\"/content/background_images/orange.jpg\")\n",
        "new_width = 2500\n",
        "new_height = 2500\n",
        "newwid = 4900\n",
        "newhei =  4900\n",
        "foreground_img = foreground_img.resize((new_width, new_height))\n",
        "foreground_img2 = foreground_img2.resize((newwid, newhei))\n",
        "angle = 2\n",
        "anglee = 5\n",
        "foreground_img2 = foreground_img2.rotate(anglee, expand = True)\n",
        "background_img2.paste(foreground_img2, (2000,-100), foreground_img2)\n",
        "\n",
        "foreground_img = foreground_img.rotate(angle, expand = True)\n",
        "background_img2.paste(foreground_img, (2500,10), foreground_img)\n",
        "\n",
        "\n",
        "background_img2.save('masked/background33.jpg',format = 'JPEG')\n",
        "\n",
        "#backgroundd = foreground_img.rotate(270, PIL.Image.NEAREST, expand = 1)\n",
        "#vertical_img = img.transpose(method=Image.FLIP_TOP_BOTTOM)\n",
        "#vertical_img.show()\n"
      ],
      "metadata": {
        "id": "hgidnZOpXZ4q"
      },
      "execution_count": 943,
      "outputs": []
    },
    {
      "cell_type": "code",
      "source": [
        "image = Image.open('/content/masked/background33.jpg')\n",
        "image_detail = image.filter(ImageFilter.DETAIL)\n",
        "#image_sharp = image_detail.filter(ImageFilter.SHARPEN)\n",
        "image_smooth = image_detail.filter(ImageFilter.SMOOTH)\n",
        "image_detailed = image_smooth.filter(ImageFilter.DETAIL)\n",
        "image_detailedd = image_detailed.filter(ImageFilter.DETAIL)\n",
        "#image_contour = image.filter(ImageFilter.SMOOTH_MORE)\n",
        "#image_edge = image_detailedd.filter(ImageFilter.EDGE_ENHANCE)\n",
        "#image_find_edges = image_sharp.filter(ImageFilter.FIND_EDGES)\n",
        "color_enhancer = ImageEnhance.Color(image_detailedd)\n",
        "sharpness_enhancer = ImageEnhance.Sharpness(image_detailedd)\n",
        "enhanced_image = color_enhancer.enhance(1)\n",
        "\n",
        "brightness_enhancer = ImageEnhance.Brightness(enhanced_image) # contrast\n",
        "brighter = brightness_enhancer.enhance(1)\n",
        "\n",
        "contrast_enhancer = ImageEnhance.Contrast(brighter) # contrast\n",
        "brighterr = contrast_enhancer.enhance(0.9)\n",
        "\n",
        "brighterr.show()\n",
        "brighterr.save('masked/background33.jpg',format = 'JPEG')\n",
        "#brighterr.save('background.jpg')\n"
      ],
      "metadata": {
        "id": "4MB4EbvNXZ3e"
      },
      "execution_count": 944,
      "outputs": []
    },
    {
      "cell_type": "code",
      "source": [
        "from PIL import Image, ImageEnhance\n",
        "\n",
        "# Load the image\n",
        "image_path = \"masked/background33.jpg\"  # Replace with the path to your image\n",
        "image = Image.open(image_path)\n",
        "\n",
        "# Adjust brightness\n",
        "brightness_factor = 1  # Increase or decrease as needed (1.0 means no change)\n",
        "enhancer_brightness = ImageEnhance.Brightness(image)\n",
        "image = enhancer_brightness.enhance(brightness_factor)\n",
        "\n",
        "# Adjust contrast\n",
        "contrast_factor = 1  # Increase or decrease as needed (1.0 means no change)\n",
        "enhancer_contrast = ImageEnhance.Contrast(image)\n",
        "image = enhancer_contrast.enhance(contrast_factor)\n",
        "\n",
        "# Save or display the resulting image\n",
        "image.show()  # Display the image\n",
        "image.save('masked/backgroun33.jpg',format = 'JPEG')  # Save the image\n"
      ],
      "metadata": {
        "id": "k3AC8tXwXZ16"
      },
      "execution_count": 945,
      "outputs": []
    },
    {
      "cell_type": "code",
      "source": [
        "#for font\n",
        "# Load the image\n",
        "#image_path = \"your_image.jpg\"  # Replace with the path to your image\n",
        "image = Image.open('masked/background33.jpg')\n",
        "\n",
        "# Initialize the drawing context\n",
        "draw = ImageDraw.Draw(image)\n",
        "\n",
        "# Define the text to be added\n",
        "text = \"SEVILLE\"\n",
        "\n",
        "# Define the font size and font type\n",
        "font_size = 500\n",
        "font = ImageFont.truetype(\"/content/fonts/calibri-bold.ttf\",font_size)\n",
        "# Determine the position to place the text\n",
        "text_position = (550, 1100)  # Adjust the coordinates as needed\n",
        "\n",
        "# Define text color\n",
        "text_color = (105, 105, 105)  # White color in RGB format\n",
        "\n",
        "# Add the text to the image\n",
        "draw.text(text_position, text, fill=text_color, font=font)\n",
        "\n",
        "# Save or display the resulting image\n",
        "image.show()  # Display the image with the added text\n",
        "image.save(\"/content/outputs/background33.jpg\")  # Save the image with the added text\n"
      ],
      "metadata": {
        "id": "U3CawUuBXZ0A"
      },
      "execution_count": 954,
      "outputs": []
    },
    {
      "cell_type": "code",
      "source": [
        "#background 44"
      ],
      "metadata": {
        "id": "h18y3j-fg0Ue"
      },
      "execution_count": null,
      "outputs": []
    },
    {
      "cell_type": "code",
      "source": [
        "from PIL import Image, ImageFilter, ImageEnhance, ImageOps, ImageChops\n",
        "import PIL\n",
        "\n",
        "\n",
        "background_img = Image.open(\"/content/background_images/abstarct.jpg\")\n",
        "foreground_img = Image.open(output_pATHH)\n",
        "foreground_img1 = Image.open('/content/background_images/poll.png')\n",
        "\n",
        "\n",
        "new_width = 1000\n",
        "new_height = 1000\n",
        "new_w = 1279\n",
        "new_h = 517\n",
        "\n",
        "\n",
        "foreground_img = foreground_img.resize((new_width, new_height))\n",
        "foreground_img1 = foreground_img1.resize((new_w, new_h))\n",
        "\n",
        "angle = 7\n",
        "anglee = 9\n",
        "\n",
        "foreground_img1 = foreground_img1.rotate(anglee, expand = True)\n",
        "background_img.paste(foreground_img1, (350,300), foreground_img1)\n",
        "\n",
        "foreground_img = foreground_img.rotate(angle, expand = True)\n",
        "background_img.paste(foreground_img, (400,-10), foreground_img)\n",
        "\n",
        "\n",
        "\n",
        "\n",
        "\n",
        "background_img.save('masked/background44.jpg',format = 'JPEG')\n",
        "\n",
        "#backgroundd = foreground_img.rotate(270, PIL.Image.NEAREST, expand = 1)\n",
        "#vertical_img = img.transpose(method=Image.FLIP_TOP_BOTTOM)\n",
        "#vertical_img.show()\n",
        "\n"
      ],
      "metadata": {
        "id": "HlUXXlwbXZyt"
      },
      "execution_count": 989,
      "outputs": []
    },
    {
      "cell_type": "code",
      "source": [
        "image = Image.open('/content/masked/background44.jpg')\n",
        "image_detail = image.filter(ImageFilter.DETAIL)\n",
        "#image_sharp = image_detail.filter(ImageFilter.SHARPEN)\n",
        "image_smooth = image_detail.filter(ImageFilter.SMOOTH)\n",
        "image_detailed = image_smooth.filter(ImageFilter.DETAIL)\n",
        "image_detailedd = image_detailed.filter(ImageFilter.DETAIL)\n",
        "#image_contour = image.filter(ImageFilter.SMOOTH_MORE)\n",
        "#image_edge = image_detailedd.filter(ImageFilter.EDGE_ENHANCE)\n",
        "#image_find_edges = image_sharp.filter(ImageFilter.FIND_EDGES)\n",
        "color_enhancer = ImageEnhance.Color(image_detailedd)\n",
        "sharpness_enhancer = ImageEnhance.Sharpness(image_detailedd)\n",
        "enhanced_image = color_enhancer.enhance(1)\n",
        "\n",
        "brightness_enhancer = ImageEnhance.Brightness(enhanced_image) # contrast\n",
        "brighter = brightness_enhancer.enhance(1)\n",
        "\n",
        "contrast_enhancer = ImageEnhance.Contrast(brighter) # contrast\n",
        "brighterr = contrast_enhancer.enhance(0.9)\n",
        "\n",
        "brighterr.show()\n",
        "brighterr.save('masked/background44.jpg',format = 'JPEG')\n",
        "#brighterr.save('background.jpg')\n"
      ],
      "metadata": {
        "id": "5-B-fH36XZxR"
      },
      "execution_count": 990,
      "outputs": []
    },
    {
      "cell_type": "code",
      "source": [
        "from PIL import Image, ImageEnhance\n",
        "\n",
        "# Load the image\n",
        "image_path = \"masked/background44.jpg\"  # Replace with the path to your image\n",
        "image = Image.open(image_path)\n",
        "\n",
        "# Adjust brightness\n",
        "brightness_factor = 1  # Increase or decrease as needed (1.0 means no change)\n",
        "enhancer_brightness = ImageEnhance.Brightness(image)\n",
        "image = enhancer_brightness.enhance(brightness_factor)\n",
        "\n",
        "# Adjust contrast\n",
        "contrast_factor = 1  # Increase or decrease as needed (1.0 means no change)\n",
        "enhancer_contrast = ImageEnhance.Contrast(image)\n",
        "image = enhancer_contrast.enhance(contrast_factor)\n",
        "\n",
        "# Save or display the resulting image\n",
        "image.show()  # Display the image\n",
        "image.save('outputs/backgroun44.jpg',format = 'JPEG')  # Save the image\n"
      ],
      "metadata": {
        "id": "WpZIM7ShkVdw"
      },
      "execution_count": 991,
      "outputs": []
    },
    {
      "cell_type": "code",
      "source": [
        "#background 55"
      ],
      "metadata": {
        "id": "DTSvB_6IXZvf"
      },
      "execution_count": 984,
      "outputs": []
    },
    {
      "cell_type": "code",
      "source": [
        "from PIL import Image, ImageFilter, ImageEnhance, ImageOps, ImageChops\n",
        "import PIL\n",
        "\n",
        "\n",
        "background_img = Image.open(\"/content/background_images/6.jpeg\")\n",
        "foreground_img = Image.open(output_pATHH)\n",
        "foreground_img1 = Image.open('/content/background_images/pud.png')\n",
        "\n",
        "\n",
        "new_width = 350\n",
        "new_height = 350\n",
        "new_w = 100\n",
        "new_h = 100\n",
        "\n",
        "\n",
        "foreground_img = foreground_img.resize((new_width, new_height))\n",
        "foreground_img1 = foreground_img1.resize((new_w, new_h))\n",
        "\n",
        "angle = 7\n",
        "anglee = 9\n",
        "\n",
        "foreground_img1 = foreground_img1.rotate(anglee, expand = True)\n",
        "background_img.paste(foreground_img1, (350,300), foreground_img1)\n",
        "\n",
        "foreground_img = foreground_img.rotate(angle, expand = True)\n",
        "background_img.paste(foreground_img, (190,35), foreground_img)\n",
        "\n",
        "\n",
        "\n",
        "\n",
        "\n",
        "background_img.save('masked/background55.jpg',format = 'JPEG')\n",
        "\n",
        "#backgroundd = foreground_img.rotate(270, PIL.Image.NEAREST, expand = 1)\n",
        "#vertical_img = img.transpose(method=Image.FLIP_TOP_BOTTOM)\n",
        "#vertical_img.show()\n",
        "\n"
      ],
      "metadata": {
        "id": "AdkFdjSRXZuG"
      },
      "execution_count": 1012,
      "outputs": []
    },
    {
      "cell_type": "code",
      "source": [
        "image = Image.open('/content/masked/background55.jpg')\n",
        "image_detail = image.filter(ImageFilter.DETAIL)\n",
        "#image_sharp = image_detail.filter(ImageFilter.SHARPEN)\n",
        "image_smooth = image_detail.filter(ImageFilter.SMOOTH)\n",
        "image_detailed = image_smooth.filter(ImageFilter.DETAIL)\n",
        "image_detailedd = image_detailed.filter(ImageFilter.DETAIL)\n",
        "#image_contour = image.filter(ImageFilter.SMOOTH_MORE)\n",
        "#image_edge = image_detailedd.filter(ImageFilter.EDGE_ENHANCE)\n",
        "#image_find_edges = image_sharp.filter(ImageFilter.FIND_EDGES)\n",
        "color_enhancer = ImageEnhance.Color(image_detailedd)\n",
        "sharpness_enhancer = ImageEnhance.Sharpness(image_detailedd)\n",
        "enhanced_image = color_enhancer.enhance(1)\n",
        "\n",
        "brightness_enhancer = ImageEnhance.Brightness(enhanced_image) # contrast\n",
        "brighter = brightness_enhancer.enhance(0.7)\n",
        "\n",
        "contrast_enhancer = ImageEnhance.Contrast(brighter) # contrast\n",
        "brighterr = contrast_enhancer.enhance(1)\n",
        "\n",
        "brighterr.show()\n",
        "brighterr.save('masked/background55.jpg',format = 'JPEG')\n",
        "#brighterr.save('background.jpg')\n"
      ],
      "metadata": {
        "id": "At34QYMLmMNj"
      },
      "execution_count": 1013,
      "outputs": []
    },
    {
      "cell_type": "code",
      "source": [
        "from PIL import Image, ImageEnhance\n",
        "\n",
        "# Load the image\n",
        "image_path = \"masked/background55.jpg\"  # Replace with the path to your image\n",
        "image = Image.open(image_path)\n",
        "\n",
        "# Adjust brightness\n",
        "brightness_factor = 1  # Increase or decrease as needed (1.0 means no change)\n",
        "enhancer_brightness = ImageEnhance.Brightness(image)\n",
        "image = enhancer_brightness.enhance(brightness_factor)\n",
        "\n",
        "# Adjust contrast\n",
        "contrast_factor = 1  # Increase or decrease as needed (1.0 means no change)\n",
        "enhancer_contrast = ImageEnhance.Contrast(image)\n",
        "image = enhancer_contrast.enhance(contrast_factor)\n",
        "\n",
        "# Save or display the resulting image\n",
        "image.show()  # Display the image\n",
        "image.save('masked/backgroun55.jpg',format = 'JPEG')  # Save the image\n"
      ],
      "metadata": {
        "id": "tA6qYQOKXZst"
      },
      "execution_count": 1015,
      "outputs": []
    },
    {
      "cell_type": "code",
      "source": [
        "from PIL import Image, ImageDraw, ImageFont\n",
        "\n",
        "# Load the image # Replace with the path to your image\n",
        "image = Image.open('masked/background55.jpg')\n",
        "\n",
        "# Initialize the drawing context\n",
        "draw = ImageDraw.Draw(image)\n",
        "\n",
        "# Define the text to be added\n",
        "text = \"SERVILLE\"\n",
        "\n",
        "# Define the font size and font type\n",
        "font_size = 40\n",
        "font = ImageFont.truetype(\"/content/fonts/calibri-bold.ttf\", font_size)  # You can specify the path to your desired font file\n",
        "\n",
        "# Determine the position to place the text\n",
        "text_position = (340, 440)  # Adjust the coordinates as needed\n",
        "\n",
        "# Define text color\n",
        "text_color = (0, 0, 0)  # White color in RGB format\n",
        "\n",
        "# Add the text to the image\n",
        "draw.text(text_position, text, fill=text_color, font=font)\n",
        "\n",
        "# Save or display the resulting image\n",
        "image.show()  # Display the image with the added text\n",
        "# image.save(\"output_image_with_text.jpg\")\n",
        "image.save('/content/outputs/background55.jpg') # Save the image with the added text\n"
      ],
      "metadata": {
        "id": "8yrhyd5UXZq3"
      },
      "execution_count": 1039,
      "outputs": []
    },
    {
      "cell_type": "code",
      "source": [],
      "metadata": {
        "id": "QAFpBPb0XZpV"
      },
      "execution_count": null,
      "outputs": []
    },
    {
      "cell_type": "code",
      "source": [
        "#product 3 background 111"
      ],
      "metadata": {
        "id": "7HbdG2KTXZn-"
      },
      "execution_count": null,
      "outputs": []
    },
    {
      "cell_type": "code",
      "source": [
        "img3_url = \"/content/original/product1.jpg\""
      ],
      "metadata": {
        "id": "qjwdxlu3XZmB"
      },
      "execution_count": null,
      "outputs": []
    },
    {
      "cell_type": "code",
      "source": [],
      "metadata": {
        "id": "yVcpPrvEXZks"
      },
      "execution_count": null,
      "outputs": []
    },
    {
      "cell_type": "code",
      "source": [],
      "metadata": {
        "id": "9-PoRHx3XZi4"
      },
      "execution_count": null,
      "outputs": []
    },
    {
      "cell_type": "code",
      "source": [],
      "metadata": {
        "id": "LyFnhi0GXZha"
      },
      "execution_count": null,
      "outputs": []
    },
    {
      "cell_type": "code",
      "source": [],
      "metadata": {
        "id": "qFdVXc3QXZf4"
      },
      "execution_count": null,
      "outputs": []
    },
    {
      "cell_type": "code",
      "source": [],
      "metadata": {
        "id": "jZbtD2aQXZeK"
      },
      "execution_count": null,
      "outputs": []
    },
    {
      "cell_type": "code",
      "source": [],
      "metadata": {
        "id": "oh18sCCWXZcn"
      },
      "execution_count": null,
      "outputs": []
    },
    {
      "cell_type": "code",
      "source": [],
      "metadata": {
        "id": "AFi49G8RXZbE"
      },
      "execution_count": null,
      "outputs": []
    },
    {
      "cell_type": "code",
      "source": [],
      "metadata": {
        "id": "-yVsBO_5XZZQ"
      },
      "execution_count": null,
      "outputs": []
    },
    {
      "cell_type": "code",
      "source": [],
      "metadata": {
        "id": "8o1uULhzXZXs"
      },
      "execution_count": null,
      "outputs": []
    },
    {
      "cell_type": "code",
      "source": [],
      "metadata": {
        "id": "CJHHLWTkXZVs"
      },
      "execution_count": null,
      "outputs": []
    },
    {
      "cell_type": "code",
      "source": [],
      "metadata": {
        "id": "Of_hUahGXZUa"
      },
      "execution_count": null,
      "outputs": []
    },
    {
      "cell_type": "code",
      "source": [],
      "metadata": {
        "id": "VrIh1FHrXZSu"
      },
      "execution_count": null,
      "outputs": []
    },
    {
      "cell_type": "code",
      "source": [],
      "metadata": {
        "id": "y7BLlVFUXZRb"
      },
      "execution_count": null,
      "outputs": []
    },
    {
      "cell_type": "code",
      "source": [],
      "metadata": {
        "id": "WMqPYgpyXZOo"
      },
      "execution_count": null,
      "outputs": []
    },
    {
      "cell_type": "code",
      "source": [],
      "metadata": {
        "id": "KLFV20GlXZKT"
      },
      "execution_count": null,
      "outputs": []
    },
    {
      "cell_type": "code",
      "source": [],
      "metadata": {
        "id": "2yLb8DVKXZIW"
      },
      "execution_count": null,
      "outputs": []
    },
    {
      "cell_type": "code",
      "source": [],
      "metadata": {
        "id": "EQRMwJwAXZG3"
      },
      "execution_count": null,
      "outputs": []
    },
    {
      "cell_type": "code",
      "source": [],
      "metadata": {
        "id": "iRX2Iia5XZFs"
      },
      "execution_count": null,
      "outputs": []
    },
    {
      "cell_type": "code",
      "source": [],
      "metadata": {
        "id": "vY6JLfsRXZDa"
      },
      "execution_count": null,
      "outputs": []
    },
    {
      "cell_type": "code",
      "source": [],
      "metadata": {
        "id": "lfaDGAWnXZCQ"
      },
      "execution_count": null,
      "outputs": []
    },
    {
      "cell_type": "code",
      "source": [],
      "metadata": {
        "id": "J5wEZI7oXZAN"
      },
      "execution_count": null,
      "outputs": []
    },
    {
      "cell_type": "code",
      "source": [],
      "metadata": {
        "id": "gcVJ2M60XY-y"
      },
      "execution_count": null,
      "outputs": []
    },
    {
      "cell_type": "code",
      "source": [],
      "metadata": {
        "id": "x4O9uioyXY8-"
      },
      "execution_count": null,
      "outputs": []
    },
    {
      "cell_type": "code",
      "source": [],
      "metadata": {
        "id": "uexU-iDcXY7K"
      },
      "execution_count": null,
      "outputs": []
    },
    {
      "cell_type": "code",
      "source": [],
      "metadata": {
        "id": "Fuhc4E-6XY5N"
      },
      "execution_count": null,
      "outputs": []
    },
    {
      "cell_type": "code",
      "source": [],
      "metadata": {
        "id": "th8Gv7KPXY3m"
      },
      "execution_count": null,
      "outputs": []
    },
    {
      "cell_type": "code",
      "source": [],
      "metadata": {
        "id": "kyzR8q4nXY1u"
      },
      "execution_count": null,
      "outputs": []
    },
    {
      "cell_type": "code",
      "source": [],
      "metadata": {
        "id": "sMW2oZ-qXYz1"
      },
      "execution_count": null,
      "outputs": []
    },
    {
      "cell_type": "code",
      "source": [],
      "metadata": {
        "id": "59U-zQZ0XYyA"
      },
      "execution_count": null,
      "outputs": []
    },
    {
      "cell_type": "code",
      "source": [],
      "metadata": {
        "id": "-t-YXGwuXYwb"
      },
      "execution_count": null,
      "outputs": []
    },
    {
      "cell_type": "code",
      "source": [],
      "metadata": {
        "id": "d-deRvm_XYug"
      },
      "execution_count": null,
      "outputs": []
    },
    {
      "cell_type": "code",
      "source": [],
      "metadata": {
        "id": "C6SO66CCXYsy"
      },
      "execution_count": null,
      "outputs": []
    },
    {
      "cell_type": "code",
      "source": [],
      "metadata": {
        "id": "-rmqgfKHXYq3"
      },
      "execution_count": null,
      "outputs": []
    },
    {
      "cell_type": "code",
      "source": [],
      "metadata": {
        "id": "ORmTIPm0XYpG"
      },
      "execution_count": null,
      "outputs": []
    },
    {
      "cell_type": "code",
      "source": [],
      "metadata": {
        "id": "qcBzQng0XYnR"
      },
      "execution_count": null,
      "outputs": []
    },
    {
      "cell_type": "code",
      "source": [],
      "metadata": {
        "id": "CiukDox8XYlk"
      },
      "execution_count": null,
      "outputs": []
    },
    {
      "cell_type": "code",
      "source": [],
      "metadata": {
        "id": "rNOgyT5tXYjw"
      },
      "execution_count": null,
      "outputs": []
    },
    {
      "cell_type": "code",
      "source": [],
      "metadata": {
        "id": "zmS0ug3aXYh9"
      },
      "execution_count": null,
      "outputs": []
    },
    {
      "cell_type": "code",
      "source": [],
      "metadata": {
        "id": "TgQUG3M8XYf2"
      },
      "execution_count": null,
      "outputs": []
    },
    {
      "cell_type": "code",
      "source": [],
      "metadata": {
        "id": "bfXSGERuXYeS"
      },
      "execution_count": null,
      "outputs": []
    },
    {
      "cell_type": "code",
      "source": [],
      "metadata": {
        "id": "WvaBi7skXYch"
      },
      "execution_count": null,
      "outputs": []
    },
    {
      "cell_type": "code",
      "source": [],
      "metadata": {
        "id": "n04QDqFAXYav"
      },
      "execution_count": null,
      "outputs": []
    },
    {
      "cell_type": "code",
      "source": [],
      "metadata": {
        "id": "kTfkuertXYY_"
      },
      "execution_count": null,
      "outputs": []
    },
    {
      "cell_type": "code",
      "source": [],
      "metadata": {
        "id": "mL4chFIDXYXj"
      },
      "execution_count": null,
      "outputs": []
    },
    {
      "cell_type": "code",
      "source": [],
      "metadata": {
        "id": "gbtCBFTeXYV2"
      },
      "execution_count": null,
      "outputs": []
    },
    {
      "cell_type": "code",
      "source": [],
      "metadata": {
        "id": "s11vYZUtXYUU"
      },
      "execution_count": null,
      "outputs": []
    },
    {
      "cell_type": "code",
      "source": [],
      "metadata": {
        "id": "--bEh6Y-XYSh"
      },
      "execution_count": null,
      "outputs": []
    },
    {
      "cell_type": "code",
      "source": [],
      "metadata": {
        "id": "F2tGKNuUXYQw"
      },
      "execution_count": null,
      "outputs": []
    },
    {
      "cell_type": "code",
      "source": [],
      "metadata": {
        "id": "TV_xJI1NXYO1"
      },
      "execution_count": null,
      "outputs": []
    },
    {
      "cell_type": "code",
      "source": [],
      "metadata": {
        "id": "Kk7zJIEZXYKJ"
      },
      "execution_count": null,
      "outputs": []
    },
    {
      "cell_type": "code",
      "source": [],
      "metadata": {
        "id": "awEV_ZopXYIc"
      },
      "execution_count": null,
      "outputs": []
    },
    {
      "cell_type": "code",
      "source": [],
      "metadata": {
        "id": "ohNLtnzkXYHO"
      },
      "execution_count": null,
      "outputs": []
    },
    {
      "cell_type": "code",
      "source": [],
      "metadata": {
        "id": "dd_Y552fXYEc"
      },
      "execution_count": null,
      "outputs": []
    },
    {
      "cell_type": "code",
      "source": [],
      "metadata": {
        "id": "NtMvBGigXYA6"
      },
      "execution_count": null,
      "outputs": []
    },
    {
      "cell_type": "code",
      "source": [],
      "metadata": {
        "id": "R4W-83RSXX-s"
      },
      "execution_count": null,
      "outputs": []
    },
    {
      "cell_type": "code",
      "source": [],
      "metadata": {
        "id": "o41hbHPIXX8R"
      },
      "execution_count": null,
      "outputs": []
    },
    {
      "cell_type": "code",
      "source": [],
      "metadata": {
        "id": "rjLRb0W5XX5u"
      },
      "execution_count": null,
      "outputs": []
    },
    {
      "cell_type": "code",
      "source": [],
      "metadata": {
        "id": "O-6DOmDwXX3b"
      },
      "execution_count": null,
      "outputs": []
    },
    {
      "cell_type": "code",
      "source": [],
      "metadata": {
        "id": "Mx2b-m4sXX0u"
      },
      "execution_count": null,
      "outputs": []
    },
    {
      "cell_type": "code",
      "source": [],
      "metadata": {
        "id": "wa-vdtDPXXyb"
      },
      "execution_count": null,
      "outputs": []
    },
    {
      "cell_type": "code",
      "source": [],
      "metadata": {
        "id": "L0N5zNQcXXvl"
      },
      "execution_count": null,
      "outputs": []
    },
    {
      "cell_type": "code",
      "source": [],
      "metadata": {
        "id": "r62I4vfhXXtE"
      },
      "execution_count": null,
      "outputs": []
    },
    {
      "cell_type": "code",
      "source": [],
      "metadata": {
        "id": "p45RhC44XXqp"
      },
      "execution_count": null,
      "outputs": []
    },
    {
      "cell_type": "code",
      "source": [],
      "metadata": {
        "id": "e4QYyq2zXXoD"
      },
      "execution_count": null,
      "outputs": []
    },
    {
      "cell_type": "code",
      "source": [],
      "metadata": {
        "id": "pCDzOIP3XXli"
      },
      "execution_count": null,
      "outputs": []
    },
    {
      "cell_type": "code",
      "source": [],
      "metadata": {
        "id": "QBT-MkLwXXjK"
      },
      "execution_count": null,
      "outputs": []
    },
    {
      "cell_type": "code",
      "source": [],
      "metadata": {
        "id": "--1joEHBXXgy"
      },
      "execution_count": null,
      "outputs": []
    },
    {
      "cell_type": "code",
      "source": [],
      "metadata": {
        "id": "R_FLQE7cXXbx"
      },
      "execution_count": null,
      "outputs": []
    },
    {
      "cell_type": "code",
      "source": [],
      "metadata": {
        "id": "W5-Abg8FXXYI"
      },
      "execution_count": null,
      "outputs": []
    },
    {
      "cell_type": "code",
      "source": [],
      "metadata": {
        "id": "Fu8w3dRqXXVo"
      },
      "execution_count": null,
      "outputs": []
    },
    {
      "cell_type": "code",
      "source": [],
      "metadata": {
        "id": "CIMvJ3xVXXTA"
      },
      "execution_count": null,
      "outputs": []
    },
    {
      "cell_type": "code",
      "source": [],
      "metadata": {
        "id": "bLhnVF2OXXQa"
      },
      "execution_count": null,
      "outputs": []
    },
    {
      "cell_type": "code",
      "source": [
        "#shadow"
      ],
      "metadata": {
        "id": "bT2htjBLF4_G"
      },
      "execution_count": null,
      "outputs": []
    },
    {
      "cell_type": "code",
      "source": [],
      "metadata": {
        "colab": {
          "base_uri": "https://localhost:8080/"
        },
        "id": "OwVW3KkQMUxM",
        "outputId": "2d4a594b-202e-440c-e39c-36f53bcd902a"
      },
      "execution_count": 306,
      "outputs": [
        {
          "output_type": "stream",
          "name": "stdout",
          "text": [
            "(1200, 1200) (1200, 1200)\n"
          ]
        }
      ]
    },
    {
      "cell_type": "code",
      "source": [],
      "metadata": {
        "id": "1mOe1jJ-TA_i"
      },
      "execution_count": 367,
      "outputs": []
    },
    {
      "cell_type": "code",
      "source": [],
      "metadata": {
        "id": "5qNaVzavTA71"
      },
      "execution_count": null,
      "outputs": []
    },
    {
      "cell_type": "code",
      "source": [],
      "metadata": {
        "id": "XvNIaJI6TA5J"
      },
      "execution_count": null,
      "outputs": []
    },
    {
      "cell_type": "code",
      "source": [],
      "metadata": {
        "id": "9sEqJntNTA2K"
      },
      "execution_count": null,
      "outputs": []
    },
    {
      "cell_type": "code",
      "source": [],
      "metadata": {
        "id": "XMKFFooZTAsw"
      },
      "execution_count": null,
      "outputs": []
    },
    {
      "cell_type": "code",
      "source": [],
      "metadata": {
        "id": "5rFhR-HhU_r8"
      },
      "execution_count": null,
      "outputs": []
    },
    {
      "cell_type": "code",
      "source": [],
      "metadata": {
        "id": "FJpR85nBU_oa"
      },
      "execution_count": null,
      "outputs": []
    },
    {
      "cell_type": "code",
      "source": [],
      "metadata": {
        "id": "dLdDiaf1U_l6"
      },
      "execution_count": null,
      "outputs": []
    },
    {
      "cell_type": "code",
      "source": [],
      "metadata": {
        "id": "UiaEypIvU_jK"
      },
      "execution_count": null,
      "outputs": []
    },
    {
      "cell_type": "code",
      "source": [],
      "metadata": {
        "id": "SFzkVJtHU_gr"
      },
      "execution_count": null,
      "outputs": []
    },
    {
      "cell_type": "code",
      "source": [],
      "metadata": {
        "id": "HySrYuTJU_dl"
      },
      "execution_count": null,
      "outputs": []
    },
    {
      "cell_type": "code",
      "source": [],
      "metadata": {
        "id": "eZCU41J6U_a2"
      },
      "execution_count": null,
      "outputs": []
    },
    {
      "cell_type": "code",
      "source": [
        "ref_img = Image.open('/content/masked/reflection.png')\n",
        "new_image = Image.new(\"RGBA\", ref_img.size, (0, 0, 0, 0))\n",
        "for x in range(ref_img.width):\n",
        "    for y in range(ref_img.height):\n",
        "        pixel_color = ref_img.getpixel((x, y))\n",
        "        if len(pixel_color) == 4 and pixel_color[3] > 0:\n",
        "            new_image.putpixel((x, y), pixel_color)\n",
        "\n",
        "new_image.save(\"image_without_background.png\")"
      ],
      "metadata": {
        "id": "x6zPvr6mR9pu"
      },
      "execution_count": 248,
      "outputs": []
    },
    {
      "cell_type": "code",
      "source": [
        "original_image = Image.open(\"/content/masked/background2.jpg\")\n",
        "reflection_image = Image.open(\"/content/masked/reflection.png\")\n",
        "\n",
        "reflection_image = reflection_image.resize((200, 200))\n",
        "reflection_position = (original_image.width - reflection_image.width, original_image.height - reflection_image.height)\n",
        "original_image.paste(reflection_image, reflection_position, reflection_image)\n",
        "\n",
        "reflection_image = reflection_image.resize((original_image.width, int(original_image.height / 4)))\n",
        "#reflection_image = reflection_image.transpose(Image.FLIP_LEFT_RIGHT)\n",
        "original_image.paste(reflection_image, (0, original_image.height - reflection_image.height), reflection_image)\n",
        "original_image.save(\"/content/masked/result_image.jpg\")"
      ],
      "metadata": {
        "id": "G4sj899gMUtq"
      },
      "execution_count": 245,
      "outputs": []
    },
    {
      "cell_type": "code",
      "source": [],
      "metadata": {
        "id": "Ybp3D3oBMUcl"
      },
      "execution_count": null,
      "outputs": []
    },
    {
      "cell_type": "code",
      "source": [],
      "metadata": {
        "id": "hMy9s95-MUYp"
      },
      "execution_count": null,
      "outputs": []
    },
    {
      "cell_type": "code",
      "source": [],
      "metadata": {
        "id": "3W6zh7vMRUAP"
      },
      "execution_count": null,
      "outputs": []
    },
    {
      "cell_type": "code",
      "source": [],
      "metadata": {
        "id": "8pDLbYfIRT8y"
      },
      "execution_count": null,
      "outputs": []
    },
    {
      "cell_type": "code",
      "source": [],
      "metadata": {
        "id": "esssgT31RT6R"
      },
      "execution_count": null,
      "outputs": []
    },
    {
      "cell_type": "code",
      "source": [],
      "metadata": {
        "id": "Zd9dtpjDRT3y"
      },
      "execution_count": null,
      "outputs": []
    },
    {
      "cell_type": "code",
      "source": [],
      "metadata": {
        "id": "XNtz2-7jRT1K"
      },
      "execution_count": null,
      "outputs": []
    },
    {
      "cell_type": "code",
      "source": [],
      "metadata": {
        "id": "_aS7IDhHMUVC"
      },
      "execution_count": null,
      "outputs": []
    },
    {
      "cell_type": "code",
      "source": [],
      "metadata": {
        "id": "yu0KTZTclsi5"
      },
      "execution_count": 248,
      "outputs": []
    },
    {
      "cell_type": "code",
      "source": [],
      "metadata": {
        "id": "BROzMoHkMTKP"
      },
      "execution_count": null,
      "outputs": []
    },
    {
      "cell_type": "code",
      "source": [],
      "metadata": {
        "id": "M9KNq90elsgV"
      },
      "execution_count": 249,
      "outputs": []
    },
    {
      "cell_type": "code",
      "source": [],
      "metadata": {
        "id": "4FPnOMOWlsdq"
      },
      "execution_count": 232,
      "outputs": []
    }
  ]
}
