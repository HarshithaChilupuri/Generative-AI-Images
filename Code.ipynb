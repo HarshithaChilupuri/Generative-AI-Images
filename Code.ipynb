{
  "cells": [
    {
      "cell_type": "code",
      "execution_count": 1,
      "metadata": {
        "colab": {
          "base_uri": "https://localhost:8080/"
        },
        "id": "mRvLzmYqj_pv",
        "outputId": "cfb8c5b3-8577-4bb9-f098-e375808020a7"
      },
      "outputs": [
        {
          "output_type": "stream",
          "name": "stdout",
          "text": [
            "Collecting rembg\n",
            "  Downloading rembg-2.0.56-py3-none-any.whl (32 kB)\n",
            "Requirement already satisfied: jsonschema in /usr/local/lib/python3.10/dist-packages (from rembg) (4.19.2)\n",
            "Requirement already satisfied: numpy in /usr/local/lib/python3.10/dist-packages (from rembg) (1.25.2)\n",
            "Collecting onnxruntime (from rembg)\n",
            "  Downloading onnxruntime-1.17.3-cp310-cp310-manylinux_2_27_x86_64.manylinux_2_28_x86_64.whl (6.8 MB)\n",
            "\u001b[2K     \u001b[90m━━━━━━━━━━━━━━━━━━━━━━━━━━━━━━━━━━━━━━━━\u001b[0m \u001b[32m6.8/6.8 MB\u001b[0m \u001b[31m44.6 MB/s\u001b[0m eta \u001b[36m0:00:00\u001b[0m\n",
            "\u001b[?25hRequirement already satisfied: opencv-python-headless in /usr/local/lib/python3.10/dist-packages (from rembg) (4.9.0.80)\n",
            "Requirement already satisfied: pillow in /usr/local/lib/python3.10/dist-packages (from rembg) (9.4.0)\n",
            "Requirement already satisfied: pooch in /usr/local/lib/python3.10/dist-packages (from rembg) (1.8.1)\n",
            "Collecting pymatting (from rembg)\n",
            "  Downloading PyMatting-1.1.12-py3-none-any.whl (52 kB)\n",
            "\u001b[2K     \u001b[90m━━━━━━━━━━━━━━━━━━━━━━━━━━━━━━━━━━━━━━━━\u001b[0m \u001b[32m53.0/53.0 kB\u001b[0m \u001b[31m4.8 MB/s\u001b[0m eta \u001b[36m0:00:00\u001b[0m\n",
            "\u001b[?25hRequirement already satisfied: scikit-image in /usr/local/lib/python3.10/dist-packages (from rembg) (0.19.3)\n",
            "Requirement already satisfied: scipy in /usr/local/lib/python3.10/dist-packages (from rembg) (1.11.4)\n",
            "Requirement already satisfied: tqdm in /usr/local/lib/python3.10/dist-packages (from rembg) (4.66.2)\n",
            "Requirement already satisfied: attrs>=22.2.0 in /usr/local/lib/python3.10/dist-packages (from jsonschema->rembg) (23.2.0)\n",
            "Requirement already satisfied: jsonschema-specifications>=2023.03.6 in /usr/local/lib/python3.10/dist-packages (from jsonschema->rembg) (2023.12.1)\n",
            "Requirement already satisfied: referencing>=0.28.4 in /usr/local/lib/python3.10/dist-packages (from jsonschema->rembg) (0.35.0)\n",
            "Requirement already satisfied: rpds-py>=0.7.1 in /usr/local/lib/python3.10/dist-packages (from jsonschema->rembg) (0.18.0)\n",
            "Collecting coloredlogs (from onnxruntime->rembg)\n",
            "  Downloading coloredlogs-15.0.1-py2.py3-none-any.whl (46 kB)\n",
            "\u001b[2K     \u001b[90m━━━━━━━━━━━━━━━━━━━━━━━━━━━━━━━━━━━━━━━━\u001b[0m \u001b[32m46.0/46.0 kB\u001b[0m \u001b[31m4.0 MB/s\u001b[0m eta \u001b[36m0:00:00\u001b[0m\n",
            "\u001b[?25hRequirement already satisfied: flatbuffers in /usr/local/lib/python3.10/dist-packages (from onnxruntime->rembg) (24.3.25)\n",
            "Requirement already satisfied: packaging in /usr/local/lib/python3.10/dist-packages (from onnxruntime->rembg) (24.0)\n",
            "Requirement already satisfied: protobuf in /usr/local/lib/python3.10/dist-packages (from onnxruntime->rembg) (3.20.3)\n",
            "Requirement already satisfied: sympy in /usr/local/lib/python3.10/dist-packages (from onnxruntime->rembg) (1.12)\n",
            "Requirement already satisfied: platformdirs>=2.5.0 in /usr/local/lib/python3.10/dist-packages (from pooch->rembg) (4.2.1)\n",
            "Requirement already satisfied: requests>=2.19.0 in /usr/local/lib/python3.10/dist-packages (from pooch->rembg) (2.31.0)\n",
            "Requirement already satisfied: numba!=0.49.0 in /usr/local/lib/python3.10/dist-packages (from pymatting->rembg) (0.58.1)\n",
            "Requirement already satisfied: networkx>=2.2 in /usr/local/lib/python3.10/dist-packages (from scikit-image->rembg) (3.3)\n",
            "Requirement already satisfied: imageio>=2.4.1 in /usr/local/lib/python3.10/dist-packages (from scikit-image->rembg) (2.31.6)\n",
            "Requirement already satisfied: tifffile>=2019.7.26 in /usr/local/lib/python3.10/dist-packages (from scikit-image->rembg) (2024.4.24)\n",
            "Requirement already satisfied: PyWavelets>=1.1.1 in /usr/local/lib/python3.10/dist-packages (from scikit-image->rembg) (1.6.0)\n",
            "Requirement already satisfied: llvmlite<0.42,>=0.41.0dev0 in /usr/local/lib/python3.10/dist-packages (from numba!=0.49.0->pymatting->rembg) (0.41.1)\n",
            "Requirement already satisfied: charset-normalizer<4,>=2 in /usr/local/lib/python3.10/dist-packages (from requests>=2.19.0->pooch->rembg) (3.3.2)\n",
            "Requirement already satisfied: idna<4,>=2.5 in /usr/local/lib/python3.10/dist-packages (from requests>=2.19.0->pooch->rembg) (3.7)\n",
            "Requirement already satisfied: urllib3<3,>=1.21.1 in /usr/local/lib/python3.10/dist-packages (from requests>=2.19.0->pooch->rembg) (2.0.7)\n",
            "Requirement already satisfied: certifi>=2017.4.17 in /usr/local/lib/python3.10/dist-packages (from requests>=2.19.0->pooch->rembg) (2024.2.2)\n",
            "Collecting humanfriendly>=9.1 (from coloredlogs->onnxruntime->rembg)\n",
            "  Downloading humanfriendly-10.0-py2.py3-none-any.whl (86 kB)\n",
            "\u001b[2K     \u001b[90m━━━━━━━━━━━━━━━━━━━━━━━━━━━━━━━━━━━━━━━━\u001b[0m \u001b[32m86.8/86.8 kB\u001b[0m \u001b[31m7.8 MB/s\u001b[0m eta \u001b[36m0:00:00\u001b[0m\n",
            "\u001b[?25hRequirement already satisfied: mpmath>=0.19 in /usr/local/lib/python3.10/dist-packages (from sympy->onnxruntime->rembg) (1.3.0)\n",
            "Installing collected packages: humanfriendly, pymatting, coloredlogs, onnxruntime, rembg\n",
            "Successfully installed coloredlogs-15.0.1 humanfriendly-10.0 onnxruntime-1.17.3 pymatting-1.1.12 rembg-2.0.56\n"
          ]
        }
      ],
      "source": [
        "!pip install rembg"
      ]
    },
    {
      "cell_type": "code",
      "execution_count": 2,
      "metadata": {
        "id": "clrkk4MPkDek"
      },
      "outputs": [],
      "source": [
        "from rembg import remove\n",
        "import requests\n",
        "from PIL import Image\n",
        "from io import BytesIO\n",
        "import os\n"
      ]
    },
    {
      "cell_type": "code",
      "execution_count": 3,
      "metadata": {
        "id": "nmjCLDtbkDcD"
      },
      "outputs": [],
      "source": [
        "os.makedirs(\"original\",exist_ok = True)\n",
        "os.makedirs(\"masked\",exist_ok = True)\n",
        "os.makedirs(\"background_images\",exist_ok = True)\n",
        "os.makedirs(\"outputs\",exist_ok = True)\n",
        "os.makedirs(\"fonts\",exist_ok = True)"
      ]
    },
    {
      "cell_type": "code",
      "execution_count": 4,
      "metadata": {
        "id": "F0o6LUIakDZX"
      },
      "outputs": [],
      "source": [
        "img_url = \"/content/original/product3.jpg\""
      ]
    },
    {
      "cell_type": "code",
      "execution_count": 5,
      "metadata": {
        "id": "HFMMNWfukDWt"
      },
      "outputs": [],
      "source": [
        "img_name = img_url.split('/')[-1]"
      ]
    },
    {
      "cell_type": "code",
      "execution_count": 6,
      "metadata": {
        "id": "_Qf_NmI_kDUe",
        "colab": {
          "base_uri": "https://localhost:8080/",
          "height": 263
        },
        "outputId": "9a5e2be9-a5c9-41d9-c916-cf7e968ae5cc"
      },
      "outputs": [
        {
          "output_type": "error",
          "ename": "FileNotFoundError",
          "evalue": "[Errno 2] No such file or directory: '/content/original/product3.jpg'",
          "traceback": [
            "\u001b[0;31m---------------------------------------------------------------------------\u001b[0m",
            "\u001b[0;31mFileNotFoundError\u001b[0m                         Traceback (most recent call last)",
            "\u001b[0;32m<ipython-input-6-5d3b4cbb315b>\u001b[0m in \u001b[0;36m<cell line: 1>\u001b[0;34m()\u001b[0m\n\u001b[0;32m----> 1\u001b[0;31m \u001b[0mimg\u001b[0m \u001b[0;34m=\u001b[0m \u001b[0mImage\u001b[0m\u001b[0;34m.\u001b[0m\u001b[0mopen\u001b[0m\u001b[0;34m(\u001b[0m\u001b[0;34m\"/content/original/product3.jpg\"\u001b[0m\u001b[0;34m)\u001b[0m\u001b[0;34m\u001b[0m\u001b[0;34m\u001b[0m\u001b[0m\n\u001b[0m",
            "\u001b[0;32m/usr/local/lib/python3.10/dist-packages/PIL/Image.py\u001b[0m in \u001b[0;36mopen\u001b[0;34m(fp, mode, formats)\u001b[0m\n\u001b[1;32m   3225\u001b[0m \u001b[0;34m\u001b[0m\u001b[0m\n\u001b[1;32m   3226\u001b[0m     \u001b[0;32mif\u001b[0m \u001b[0mfilename\u001b[0m\u001b[0;34m:\u001b[0m\u001b[0;34m\u001b[0m\u001b[0;34m\u001b[0m\u001b[0m\n\u001b[0;32m-> 3227\u001b[0;31m         \u001b[0mfp\u001b[0m \u001b[0;34m=\u001b[0m \u001b[0mbuiltins\u001b[0m\u001b[0;34m.\u001b[0m\u001b[0mopen\u001b[0m\u001b[0;34m(\u001b[0m\u001b[0mfilename\u001b[0m\u001b[0;34m,\u001b[0m \u001b[0;34m\"rb\"\u001b[0m\u001b[0;34m)\u001b[0m\u001b[0;34m\u001b[0m\u001b[0;34m\u001b[0m\u001b[0m\n\u001b[0m\u001b[1;32m   3228\u001b[0m         \u001b[0mexclusive_fp\u001b[0m \u001b[0;34m=\u001b[0m \u001b[0;32mTrue\u001b[0m\u001b[0;34m\u001b[0m\u001b[0;34m\u001b[0m\u001b[0m\n\u001b[1;32m   3229\u001b[0m \u001b[0;34m\u001b[0m\u001b[0m\n",
            "\u001b[0;31mFileNotFoundError\u001b[0m: [Errno 2] No such file or directory: '/content/original/product3.jpg'"
          ]
        }
      ],
      "source": [
        "img = Image.open(\"/content/original/product3.jpg\")"
      ]
    },
    {
      "cell_type": "code",
      "execution_count": null,
      "metadata": {
        "id": "Ehsp55dDkDR3"
      },
      "outputs": [],
      "source": [
        "img.save('original/' +img_name, format = 'jpeg')"
      ]
    },
    {
      "cell_type": "code",
      "execution_count": null,
      "metadata": {
        "id": "F0JmDKsbkDPO"
      },
      "outputs": [],
      "source": [
        "output_pATH = 'masked/' + img_name"
      ]
    },
    {
      "cell_type": "code",
      "execution_count": null,
      "metadata": {
        "id": "_VCGg8CxkDMr"
      },
      "outputs": [],
      "source": [
        "output_pATH\n"
      ]
    },
    {
      "cell_type": "code",
      "execution_count": null,
      "metadata": {
        "id": "A1jCvssokDKn"
      },
      "outputs": [],
      "source": [
        "with open(output_pATH, 'wb') as f:\n",
        "  input = open('original/' +img_name, 'rb').read()\n",
        "  subject = remove(input)\n",
        "  f.write(subject)"
      ]
    },
    {
      "cell_type": "code",
      "execution_count": null,
      "metadata": {
        "id": "AHFdJ4ppkDIR"
      },
      "outputs": [],
      "source": [
        "background_img = \"/content/background_images/blackpedal.jpg\""
      ]
    },
    {
      "cell_type": "code",
      "execution_count": null,
      "metadata": {
        "id": "O3kP5Mghls8l"
      },
      "outputs": [],
      "source": [
        "background_img = Image.open(\"/content/background_images/blackpedal.jpg\")"
      ]
    },
    {
      "cell_type": "code",
      "execution_count": null,
      "metadata": {
        "id": "c7XqYBZsls5Z"
      },
      "outputs": [],
      "source": [
        "background_img = background_img.resize((img.width, img.height))"
      ]
    },
    {
      "cell_type": "code",
      "execution_count": null,
      "metadata": {
        "id": "5P2uAGezls22"
      },
      "outputs": [],
      "source": [
        "foreground_img = Image.open(output_pATH)\n",
        "background_img.paste(foreground_img,(440,-70),foreground_img)\n",
        "background_img.save('masked/background.jpg',format = 'jpeg')"
      ]
    },
    {
      "cell_type": "code",
      "execution_count": null,
      "metadata": {
        "id": "0FuRYMN8ls0f"
      },
      "outputs": [],
      "source": [
        "from PIL import Image, ImageFilter, ImageEnhance, ImageOps, ImageChops\n",
        "import PIL\n",
        "\n",
        "foreground_img = Image.open(output_pATH)\n",
        "foreground_img1 = Image.open('/content/background_images/van2.png')\n",
        "foreground_img2 = Image.open('/content/background_images/van2.png')\n",
        "background_img = Image.open(\"/content/background_images/blackpedal.jpg\")\n",
        "\n",
        "new_width1 = 110\n",
        "new_height2=  110\n",
        "\n",
        "new_width11 = 110\n",
        "new_height22=  110\n",
        "\n",
        "new_width = 370\n",
        "new_height = 370\n",
        "\n",
        "foreground_img = foreground_img.resize((new_width, new_height))\n",
        "foreground_img1 = foreground_img1.resize((new_width1, new_height2))\n",
        "foreground_img2 = foreground_img2.resize((new_width11, new_height22))\n",
        "\n",
        "angle = 0\n",
        "anglee = 4\n",
        "angleee = 323\n",
        "\n",
        "foreground_img = foreground_img.rotate(angle, expand = True)\n",
        "background_img.paste(foreground_img, (275,5), foreground_img)\n",
        "\n",
        "foreground_img1 = foreground_img1.rotate(anglee, expand = True)\n",
        "background_img.paste(foreground_img1, (468,248), foreground_img1)\n",
        "\n",
        "foreground_img2 = foreground_img2.rotate(angleee, expand = True)\n",
        "background_img.paste(foreground_img2, (100,214), foreground_img2)\n",
        "\n",
        "background_img.save('masked/background1.jpg',format = 'JPEG')\n",
        "\n",
        "#backgroundd = foreground_img.rotate(270, PIL.Image.NEAREST, expand = 1)\n",
        "#vertical_img = img.transpose(method=Image.FLIP_TOP_BOTTOM)\n",
        "#vertical_img.show()\n"
      ]
    },
    {
      "cell_type": "code",
      "execution_count": null,
      "metadata": {
        "id": "8XUXiHjulsyG"
      },
      "outputs": [],
      "source": [
        "i1 = Image.open('/content/masked/product3.jpg')\n",
        "i2 = Image.open('/content/background_images/blackpedal.jpg')\n",
        "print(i1.size,i1.mode)\n",
        "print(i2.size,i2.mode)\n",
        "if i1.size[0] < i2.size[0] and i1.size[1] < i2.size[1]:\n",
        "    i1 = i1.resize(i2.size)\n",
        "else:\n",
        "    i2 = i2.resize(i1.size)\n",
        "\n",
        "i2 = i2.convert(i1.mode)\n",
        "\n",
        "print(i1.size,i1.mode)\n",
        "print(i2.size,i2.mode)"
      ]
    },
    {
      "cell_type": "code",
      "execution_count": null,
      "metadata": {
        "id": "UNqcC5BllsvQ"
      },
      "outputs": [],
      "source": [
        "image = Image.open('/content/masked/background1.jpg')\n",
        "image_detail = image.filter(ImageFilter.DETAIL)\n",
        "#image_sharp = image_detail.filter(ImageFilter.SHARPEN)\n",
        "image_smooth = image_detail.filter(ImageFilter.SMOOTH)\n",
        "image_detailed = image_smooth.filter(ImageFilter.DETAIL)\n",
        "image_detailedd = image_detailed.filter(ImageFilter.DETAIL)\n",
        "#image_contour = image.filter(ImageFilter.SMOOTH_MORE)\n",
        "#image_edge = image_detailedd.filter(ImageFilter.EDGE_ENHANCE)\n",
        "#image_find_edges = image_sharp.filter(ImageFilter.FIND_EDGES)\n",
        "color_enhancer = ImageEnhance.Color(image_detailedd)\n",
        "sharpness_enhancer = ImageEnhance.Sharpness(image_detailedd)\n",
        "enhanced_image = color_enhancer.enhance(1.5)\n",
        "\n",
        "brightness_enhancer = ImageEnhance.Brightness(enhanced_image) # contrast\n",
        "brighter = brightness_enhancer.enhance(1)\n",
        "\n",
        "contrast_enhancer = ImageEnhance.Contrast(brighter) # contrast\n",
        "brighterr = contrast_enhancer.enhance(0.9)\n",
        "\n",
        "brighterr.show()\n",
        "brighterr.save('/content/outputs/background1.jpg',format = 'JPEG')\n",
        "#brighterr.save('background.jpg')"
      ]
    },
    {
      "cell_type": "code",
      "execution_count": null,
      "metadata": {
        "id": "UZNBx9azlss1"
      },
      "outputs": [],
      "source": [
        "#background2/5.jpg"
      ]
    },
    {
      "cell_type": "code",
      "execution_count": null,
      "metadata": {
        "id": "u5qLesCAlsqO"
      },
      "outputs": [],
      "source": [
        "from PIL import Image, ImageFilter, ImageEnhance, ImageOps, ImageChops, ImageDraw, ImageFont\n",
        "import PIL\n",
        "\n",
        "foreground_img = Image.open(output_pATH)\n",
        "background_img2 = Image.open(\"/content/background_images/5.jpeg\")\n",
        "new_width = 445\n",
        "new_height = 445\n",
        "foreground_img = foreground_img.resize((new_width, new_height))\n",
        "angle = 0\n",
        "foreground_img = foreground_img.rotate(angle, expand = True)\n",
        "background_img2.paste(foreground_img, (159,84), foreground_img)\n",
        "background_img2.save('masked/background2.jpg',format = 'JPEG')\n",
        "\n",
        "#backgroundd = foreground_img.rotate(270, PIL.Image.NEAREST, expand = 1)\n",
        "#vertical_img = img.transpose(method=Image.FLIP_TOP_BOTTOM)\n",
        "#vertical_img.show()\n"
      ]
    },
    {
      "cell_type": "code",
      "execution_count": null,
      "metadata": {
        "id": "i_9vtI9nlsnz"
      },
      "outputs": [],
      "source": [
        "i1 = Image.open('/content/masked/product3.jpg')\n",
        "i2 = Image.open('/content/background_images/5.jpeg')\n",
        "print(i1.size,i1.mode)\n",
        "print(i2.size,i2.mode)\n",
        "if i1.size[0] < i2.size[0] and i1.size[1] < i2.size[1]:\n",
        "    i1 = i1.resize(i2.size)\n",
        "else:\n",
        "    i2 = i2.resize(i1.size)\n",
        "\n",
        "i2 = i2.convert(i1.mode)\n",
        "\n",
        "print(i1.size,i1.mode)\n",
        "print(i2.size,i2.mode)"
      ]
    },
    {
      "cell_type": "code",
      "execution_count": null,
      "metadata": {
        "id": "_1z6TQnclslV"
      },
      "outputs": [],
      "source": [
        "image = Image.open('/content/masked/background2.jpg')\n",
        "image_detail = image.filter(ImageFilter.DETAIL)\n",
        "#image_sharp = image_detail.filter(ImageFilter.SHARPEN)\n",
        "image_smooth = image_detail.filter(ImageFilter.SMOOTH)\n",
        "image_detailed = image_smooth.filter(ImageFilter.DETAIL)\n",
        "image_detailedd = image_detailed.filter(ImageFilter.DETAIL)\n",
        "#image_contour = image.filter(ImageFilter.SMOOTH_MORE)\n",
        "#image_edge = image_detailedd.filter(ImageFilter.EDGE_ENHANCE)\n",
        "#image_find_edges = image_sharp.filter(ImageFilter.FIND_EDGES)\n",
        "color_enhancer = ImageEnhance.Color(image_detailedd)\n",
        "sharpness_enhancer = ImageEnhance.Sharpness(image_detailedd)\n",
        "enhanced_image = color_enhancer.enhance(1.5)\n",
        "\n",
        "brightness_enhancer = ImageEnhance.Brightness(enhanced_image) # contrast\n",
        "brighter = brightness_enhancer.enhance(1)\n",
        "\n",
        "contrast_enhancer = ImageEnhance.Contrast(brighter) # contrast\n",
        "brighterr = contrast_enhancer.enhance(0.9)\n",
        "\n",
        "brighterr.show()\n",
        "brighterr.save('masked/background2.jpg',format = 'JPEG')\n",
        "#brighterr.save('background.jpg')"
      ]
    },
    {
      "cell_type": "code",
      "execution_count": null,
      "metadata": {
        "id": "GGtHTS5Seea6"
      },
      "outputs": [],
      "source": [
        "from PIL import Image, ImageEnhance\n",
        "\n",
        "# Load the image\n",
        "image_path = \"masked/background2.jpg\"  # Replace with the path to your image\n",
        "image = Image.open(image_path)\n",
        "\n",
        "# Adjust brightness\n",
        "brightness_factor = 1  # Increase or decrease as needed (1.0 means no change)\n",
        "enhancer_brightness = ImageEnhance.Brightness(image)\n",
        "image = enhancer_brightness.enhance(brightness_factor)\n",
        "\n",
        "# Adjust contrast\n",
        "contrast_factor = 1.2  # Increase or decrease as needed (1.0 means no change)\n",
        "enhancer_contrast = ImageEnhance.Contrast(image)\n",
        "image = enhancer_contrast.enhance(contrast_factor)\n",
        "\n",
        "# Save or display the resulting image\n",
        "image.show()  # Display the image\n",
        "image.save(\"output_image.jpg\")  # Save the image\n"
      ]
    },
    {
      "cell_type": "code",
      "execution_count": null,
      "metadata": {
        "id": "jg3MtBNGefTd"
      },
      "outputs": [],
      "source": [
        "#for font\n",
        "# Load the image\n",
        "#image_path = \"your_image.jpg\"  # Replace with the path to your image\n",
        "image = Image.open('/content/output_image.jpg')\n",
        "\n",
        "# Initialize the drawing context\n",
        "draw = ImageDraw.Draw(image)\n",
        "\n",
        "# Define the text to be added\n",
        "text = \"LA VANILLE\"\n",
        "\n",
        "# Define the font size and font type\n",
        "font_size = 40\n",
        "font = ImageFont.truetype(\"/content/fonts/calibri-italic.ttf\",font_size)\n",
        "# Determine the position to place the text\n",
        "text_position = (299, 50)  # Adjust the coordinates as needed\n",
        "\n",
        "# Define text color\n",
        "text_color = (102, 51, 0)  # White color in RGB format\n",
        "\n",
        "# Add the text to the image\n",
        "draw.text(text_position, text, fill=text_color, font=font)\n",
        "\n",
        "# Save or display the resulting image\n",
        "image.show()  # Display the image with the added text\n",
        "image.save(\"/content/outputs/background2.jpg\")  # Save the image with the added text\n"
      ]
    },
    {
      "cell_type": "code",
      "execution_count": null,
      "metadata": {
        "id": "8xzMZHr2XaF-"
      },
      "outputs": [],
      "source": [
        "#from PIL import Image\n",
        "\n",
        "# Load the shampoo bottle image with a transparent backgr  # Replace with the path to your shampoo bottle image\n",
        "#bottle_image = Image.open('/content/masked/reflection.png')\n",
        "#bottle_image = bottle_image.convert(\"RGBA\")\n",
        "\n",
        "# Display the image properties\n",
        "#print(\"Image mode:\", bottle_image.mode)  # Should display \"RGBA\" for an image with transparency\n",
        "#print(\"Image size:\", bottle_image.size)  # Display the dimensions of the image\n"
      ]
    },
    {
      "cell_type": "code",
      "execution_count": null,
      "metadata": {
        "id": "E0TezGpE7TDJ"
      },
      "outputs": [],
      "source": []
    },
    {
      "cell_type": "code",
      "execution_count": null,
      "metadata": {
        "id": "Pf2CHEsqlcLI"
      },
      "outputs": [],
      "source": [
        "#background3"
      ]
    },
    {
      "cell_type": "code",
      "execution_count": null,
      "metadata": {
        "id": "Y9bmdz2QlcHt"
      },
      "outputs": [],
      "source": [
        "from PIL import Image, ImageFilter, ImageEnhance, ImageOps, ImageChops, ImageDraw, ImageFont\n",
        "import PIL\n",
        "\n",
        "foreground_img = Image.open(output_pATH)\n",
        "foreground_imgg = Image.open(output_pATH)\n",
        "foreground_img1 = Image.open('/content/background_images/van2.png')\n",
        "foreground_img2 = Image.open('/content/background_images/van2.png')\n",
        "foreground_img3 = Image.open('/content/background_images/van2.png')\n",
        "\n",
        "background_img2 = Image.open(\"/content/background_images/10.jpg\")\n",
        "new_width = 1900\n",
        "new_height = 1900\n",
        "\n",
        "new_widthh = 2000\n",
        "new_heightt = 2000\n",
        "\n",
        "new_widthhhh = 700\n",
        "new_heightttt = 700\n",
        "\n",
        "new_widthhh = 800\n",
        "new_heighttt = 800\n",
        "\n",
        "\n",
        "new_widthhhk = 200\n",
        "new_heightttk = 200\n",
        "\n",
        "foreground_img = foreground_img.resize((new_width, new_height))\n",
        "foreground_imgg = foreground_imgg.resize((new_widthh, new_heightt))\n",
        "foreground_img1 = foreground_img1.resize((new_widthhh, new_heighttt))\n",
        "foreground_img2 = foreground_img2.resize((new_widthhhh, new_heightttt))\n",
        "foreground_img3 = foreground_img3.resize((new_widthhhk, new_heightttk))\n",
        "#foreground_img4 = foreground_img3.resize((new_widthhhk, new_heightttk))\n",
        "\n",
        "angle = 0\n",
        "angle = 0\n",
        "anglee = 358\n",
        "yangle = 95\n",
        "\n",
        "foreground_img = foreground_img.rotate(angle, expand = True)\n",
        "foreground_imgg = foreground_imgg.rotate(angle, expand = True)\n",
        "foreground_img1 = foreground_img1.rotate(anglee, expand = True)\n",
        "foreground_img2 = foreground_img2.rotate(anglee, expand = True)\n",
        "foreground_img3 = foreground_img3.rotate(yangle, expand = True)\n",
        "\n",
        "background_img2.paste(foreground_img3, (340,1800), foreground_img3)\n",
        "background_img2.paste(foreground_img, (1100,450), foreground_img)\n",
        "background_img2.paste(foreground_img2, (2500,1490), foreground_img2)\n",
        "background_img2.paste(foreground_imgg, (1560,541), foreground_imgg)\n",
        "background_img2.paste(foreground_img1, (1441,1710), foreground_img1)\n",
        "\n",
        "background_img2.save('masked/background3.jpg',format = 'JPEG')\n",
        "\n",
        "#2190,1570\n",
        "\n",
        "#backgroundd = foreground_img.rotate(270, PIL.Image.NEAREST, expand = 1)\n",
        "#vertical_img = img.transpose(method=Image.FLIP_TOP_BOTTOM)\n",
        "#vertical_img.show()\n"
      ]
    },
    {
      "cell_type": "code",
      "execution_count": null,
      "metadata": {
        "id": "TUEef38R9FGY"
      },
      "outputs": [],
      "source": [
        "image = Image.open('/content/masked/background3.jpg')\n",
        "image_detail = image.filter(ImageFilter.DETAIL)\n",
        "#image_sharp = image_detail.filter(ImageFilter.SHARPEN)\n",
        "image_smooth = image_detail.filter(ImageFilter.SMOOTH)\n",
        "image_detailed = image_smooth.filter(ImageFilter.DETAIL)\n",
        "image_detailedd = image_detailed.filter(ImageFilter.DETAIL)\n",
        "#image_contour = image.filter(ImageFilter.SMOOTH_MORE)\n",
        "#image_edge = image_detailedd.filter(ImageFilter.EDGE_ENHANCE)\n",
        "#image_find_edges = image_sharp.filter(ImageFilter.FIND_EDGES)\n",
        "color_enhancer = ImageEnhance.Color(image_detailedd)\n",
        "sharpness_enhancer = ImageEnhance.Sharpness(image_detailedd)\n",
        "enhanced_image = color_enhancer.enhance(1.5)\n",
        "\n",
        "brightness_enhancer = ImageEnhance.Brightness(enhanced_image) # contrast\n",
        "brighter = brightness_enhancer.enhance(1)\n",
        "\n",
        "contrast_enhancer = ImageEnhance.Contrast(brighter) # contrast\n",
        "brighterr = contrast_enhancer.enhance(0.9)\n",
        "\n",
        "brighterr.show()\n",
        "brighterr.save('/content/outputs/background3.jpg')\n",
        "#brighterr.save('background.jpg')"
      ]
    },
    {
      "cell_type": "code",
      "execution_count": null,
      "metadata": {
        "id": "GwG_6SW69Ews"
      },
      "outputs": [],
      "source": []
    },
    {
      "cell_type": "code",
      "execution_count": null,
      "metadata": {
        "id": "I3P83JnllcCx"
      },
      "outputs": [],
      "source": [
        "#background 4"
      ]
    },
    {
      "cell_type": "code",
      "execution_count": null,
      "metadata": {
        "id": "du6GiXe6lcAe"
      },
      "outputs": [],
      "source": [
        "from PIL import Image, ImageFilter, ImageEnhance, ImageOps, ImageChops, ImageDraw, ImageFont\n",
        "import PIL\n",
        "\n",
        "foreground_img = Image.open(output_pATH)\n",
        "foreground_img2 = Image.open('/content/background_images/twig.png')\n",
        "foreground_img3 = Image.open('/content/background_images/van2.png')\n",
        "foreground_img4 = Image.open('/content/background_images/twig.png')\n",
        "foreground_img5 = Image.open('/content/background_images/van2.png')\n",
        "foreground_img6 = Image.open('/content/background_images/van2.png')\n",
        "\n",
        "background_img4 = Image.open(\"/content/background_images/unfinished-wood-tray-1.jpg\")\n",
        "new_width = 1000\n",
        "new_height = 950\n",
        "\n",
        "wid = 161\n",
        "hi = 670\n",
        "\n",
        "wee = 250\n",
        "hee = 250\n",
        "\n",
        "wid1 = 181\n",
        "heig1 = 679\n",
        "\n",
        "w1 = 200\n",
        "h1= 200\n",
        "\n",
        "w2 = 150\n",
        "h2= 150\n",
        "\n",
        "foreground_img = foreground_img.resize((new_width, new_height))\n",
        "foreground_img2 = foreground_img2.resize((wid, hi))\n",
        "foreground_img3 = foreground_img3.resize((wee, hee))\n",
        "foreground_img4 = foreground_img4.resize((wid1, heig1))\n",
        "foreground_img5 = foreground_img5.resize((w1, h1))\n",
        "foreground_img6 = foreground_img6.resize((w2, h2))\n",
        "angle = 0\n",
        "anglee = 91\n",
        "angleee = 40\n",
        "yangle = 98\n",
        "angl = 0\n",
        "an = 160\n",
        "\n",
        "foreground_img = foreground_img.rotate(angle, expand = True)\n",
        "foreground_img2 = foreground_img2.rotate(anglee, expand = True)\n",
        "foreground_img3 = foreground_img3.rotate(angleee, expand = True)\n",
        "foreground_img4 = foreground_img4.rotate(yangle, expand = True)\n",
        "foreground_img5 = foreground_img5.rotate(angl, expand = True)\n",
        "foreground_img6 = foreground_img6.rotate(an, expand = True)\n",
        "\n",
        "\n",
        "background_img4.paste(foreground_img2, (440,430), foreground_img2)\n",
        "background_img4.paste(foreground_img4, (450,450), foreground_img4)\n",
        "background_img4.paste(foreground_img3, (950,360), foreground_img3)\n",
        "background_img4.paste(foreground_img5, (1000,360), foreground_img5)\n",
        "background_img4.paste(foreground_img, (420,-135), foreground_img)\n",
        "background_img4.paste(foreground_img6, (712,585), foreground_img6)\n",
        "\n",
        "background_img4.save('masked/background4.jpg',format = 'JPEG')\n",
        "\n",
        "#backgroundd = foreground_img.rotate(270, PIL.Image.NEAREST, expand = 1)\n",
        "#vertical_img = img.transpose(method=Image.FLIP_TOP_BOTTOM)\n",
        "#vertical_img.show()\n"
      ]
    },
    {
      "cell_type": "code",
      "execution_count": null,
      "metadata": {
        "id": "53gnGymolb9p"
      },
      "outputs": [],
      "source": [
        "image = Image.open('/content/masked/background4.jpg')\n",
        "image_detail = image.filter(ImageFilter.DETAIL)\n",
        "#image_sharp = image_detail.filter(ImageFilter.SHARPEN)\n",
        "image_smooth = image_detail.filter(ImageFilter.SMOOTH)\n",
        "image_detailed = image_smooth.filter(ImageFilter.DETAIL)\n",
        "image_detailedd = image_detailed.filter(ImageFilter.DETAIL)\n",
        "#image_contour = image.filter(ImageFilter.SMOOTH_MORE)\n",
        "#image_edge = image_detailedd.filter(ImageFilter.EDGE_ENHANCE)\n",
        "#image_find_edges = image_sharp.filter(ImageFilter.FIND_EDGES)\n",
        "color_enhancer = ImageEnhance.Color(image_detailedd)\n",
        "sharpness_enhancer = ImageEnhance.Sharpness(image_detailedd)\n",
        "enhanced_image = color_enhancer.enhance(1)\n",
        "\n",
        "brightness_enhancer = ImageEnhance.Brightness(enhanced_image) # contrast\n",
        "brighter = brightness_enhancer.enhance(1)\n",
        "\n",
        "contrast_enhancer = ImageEnhance.Contrast(brighter) # contrast\n",
        "brighterr = contrast_enhancer.enhance(1.1)\n",
        "\n",
        "brighterr.show()\n",
        "brighterr.save('masked/background4.jpg',format = 'JPEG')\n",
        "#brighterr.save('background.jpg')"
      ]
    },
    {
      "cell_type": "code",
      "execution_count": null,
      "metadata": {
        "id": "x2BaopQAlb7O"
      },
      "outputs": [],
      "source": [
        "from PIL import Image, ImageEnhance\n",
        "\n",
        "# Load the image\n",
        "image_path = \"masked/background4.jpg\"  # Replace with the path to your image\n",
        "image = Image.open(image_path)\n",
        "\n",
        "# Adjust brightness\n",
        "brightness_factor = 1  # Increase or decrease as needed (1.0 means no change)\n",
        "enhancer_brightness = ImageEnhance.Brightness(image)\n",
        "image = enhancer_brightness.enhance(brightness_factor)\n",
        "\n",
        "# Adjust contrast\n",
        "contrast_factor = 1  # Increase or decrease as needed (1.0 means no change)\n",
        "enhancer_contrast = ImageEnhance.Contrast(image)\n",
        "image = enhancer_contrast.enhance(contrast_factor)\n",
        "\n",
        "# Save or display the resulting image\n",
        "image.show()  # Display the image\n",
        "image.save('outputs/background4.jpg',format = 'JPEG')  # Save the image\n"
      ]
    },
    {
      "cell_type": "code",
      "execution_count": null,
      "metadata": {
        "id": "ekF6mzVKMeSS"
      },
      "outputs": [],
      "source": []
    },
    {
      "cell_type": "code",
      "execution_count": null,
      "metadata": {
        "id": "euP5ofYWlb4r"
      },
      "outputs": [],
      "source": [
        "#background 5"
      ]
    },
    {
      "cell_type": "code",
      "execution_count": null,
      "metadata": {
        "id": "qExUK_BjYhDu"
      },
      "outputs": [],
      "source": [
        "from PIL import Image, ImageFilter, ImageEnhance, ImageOps, ImageChops, ImageDraw, ImageFont\n",
        "import PIL\n",
        "\n",
        "foreground_img = Image.open(output_pATH)\n",
        "foreground_img1 = Image.open('/content/background_images/van2.png')\n",
        "foreground_img2 = Image.open('/content/background_images/van2.png')\n",
        "foreground_img3 = Image.open('/content/background_images/van2.png')\n",
        "foreground_img4 = Image.open('/content/background_images/van2.png')\n",
        "foreground_img5 = Image.open('/content/background_images/van2.png')\n",
        "\n",
        "\n",
        "background_img5 = Image.open(\"/content/background_images/17.jpg\")\n",
        "new_width = 500\n",
        "new_height = 500\n",
        "\n",
        "new_width1 = 45\n",
        "new_height1 = 45\n",
        "\n",
        "new_width2 = 50\n",
        "new_height2 = 50\n",
        "\n",
        "\n",
        "foreground_img1 = foreground_img1.resize((new_width1, new_height1))\n",
        "foreground_img2 = foreground_img2.resize((new_width2, new_height2))\n",
        "foreground_img3 = foreground_img3.resize((new_width1, new_height1))\n",
        "foreground_img4 = foreground_img4.resize((new_width2, new_height2))\n",
        "foreground_img5 = foreground_img5.resize((new_width2, new_height2))\n",
        "\n",
        "foreground_img = foreground_img.resize((new_width, new_height))\n",
        "angle = 0\n",
        "angle1= 140\n",
        "angle2 = 180\n",
        "angle22 = 260\n",
        "angle3 = 175\n",
        "\n",
        "foreground_img = foreground_img.rotate(angle, expand = True)\n",
        "background_img5.paste(foreground_img, (62,92), foreground_img)\n",
        "\n",
        "foreground_img1 = foreground_img1.rotate(angle1, expand = True)\n",
        "background_img5.paste(foreground_img1, (115,75), foreground_img1)\n",
        "\n",
        "foreground_img2 = foreground_img2.rotate(angle3, expand = True)\n",
        "background_img5.paste(foreground_img2, (95,625), foreground_img2)\n",
        "\n",
        "foreground_img3 = foreground_img3.rotate(angle2, expand = True)\n",
        "background_img5.paste(foreground_img3, (540,295), foreground_img3)\n",
        "\n",
        "foreground_img4 = foreground_img4.rotate(angle22, expand = True)\n",
        "background_img5.paste(foreground_img4, (357,495), foreground_img4)\n",
        "\n",
        "foreground_img5 = foreground_img5.rotate(angle2, expand = True)\n",
        "background_img5.paste(foreground_img5, (420,-10), foreground_img5)\n",
        "\n",
        "background_img5.save('masked/background5.jpg',format = 'JPEG')\n",
        "\n",
        "#backgroundd = foreground_img.rotate(270, PIL.Image.NEAREST, expand = 1)\n",
        "#vertical_img = img.transpose(method=Image.FLIP_TOP_BOTTOM)\n",
        "#vertical_img.show()\n"
      ]
    },
    {
      "cell_type": "code",
      "execution_count": null,
      "metadata": {
        "id": "Vwb5H3kJYhAK"
      },
      "outputs": [],
      "source": [
        "image = Image.open('/content/masked/background5.jpg')\n",
        "image_detail = image.filter(ImageFilter.DETAIL)\n",
        "#image_sharp = image_detail.filter(ImageFilter.SHARPEN)\n",
        "image_smooth = image_detail.filter(ImageFilter.SMOOTH)\n",
        "image_detailed = image_smooth.filter(ImageFilter.DETAIL)\n",
        "image_detailedd = image_detailed.filter(ImageFilter.DETAIL)\n",
        "#image_contour = image.filter(ImageFilter.SMOOTH_MORE)\n",
        "#image_edge = image_detailedd.filter(ImageFilter.EDGE_ENHANCE)\n",
        "#image_find_edges = image_sharp.filter(ImageFilter.FIND_EDGES)\n",
        "color_enhancer = ImageEnhance.Color(image_detailedd)\n",
        "sharpness_enhancer = ImageEnhance.Sharpness(image_detailedd)\n",
        "enhanced_image = color_enhancer.enhance(1.5)\n",
        "\n",
        "brightness_enhancer = ImageEnhance.Brightness(enhanced_image) # contrast\n",
        "brighter = brightness_enhancer.enhance(1)\n",
        "\n",
        "contrast_enhancer = ImageEnhance.Contrast(brighter) # contrast\n",
        "brighterr = contrast_enhancer.enhance(0.9)\n",
        "\n",
        "brighterr.show()\n",
        "brighterr.save('masked/background5.jpg',format = 'JPEG')\n",
        "#brighterr.save('background.jpg')"
      ]
    },
    {
      "cell_type": "code",
      "execution_count": null,
      "metadata": {
        "id": "uFbZRA8YYg9u"
      },
      "outputs": [],
      "source": [
        "from PIL import Image, ImageEnhance\n",
        "\n",
        "# Load the image\n",
        "image_path = \"masked/background5.jpg\"  # Replace with the path to your image\n",
        "image = Image.open(image_path)\n",
        "\n",
        "# Adjust brightness\n",
        "brightness_factor = 1  # Increase or decrease as needed (1.0 means no change)\n",
        "enhancer_brightness = ImageEnhance.Brightness(image)\n",
        "image = enhancer_brightness.enhance(brightness_factor)\n",
        "\n",
        "# Adjust contrast\n",
        "contrast_factor = 1  # Increase or decrease as needed (1.0 means no change)\n",
        "enhancer_contrast = ImageEnhance.Contrast(image)\n",
        "image = enhancer_contrast.enhance(contrast_factor)\n",
        "\n",
        "# Save or display the resulting image\n",
        "image.show()  # Display the image\n",
        "image.save('masked/background5.jpg')  # Save the image\n"
      ]
    },
    {
      "cell_type": "code",
      "execution_count": null,
      "metadata": {
        "id": "Zkgsjn7VYg7U"
      },
      "outputs": [],
      "source": [
        "#for font\n",
        "# Load the image\n",
        "#image_path = \"your_image.jpg\"  # Replace with the path to your image\n",
        "image = Image.open('masked/background5.jpg')\n",
        "\n",
        "# Initialize the drawing context\n",
        "draw = ImageDraw.Draw(image)\n",
        "\n",
        "# Define the text to be added\n",
        "text = \"LA VANILLE\"\n",
        "\n",
        "# Define the font size and font type\n",
        "font_size = 30\n",
        "font = ImageFont.truetype(\"/content/fonts/calibri-italic.ttf\",font_size)\n",
        "# Determine the position to place the text\n",
        "text_position = (260, 576)  # Adjust the coordinates as needed\n",
        "\n",
        "# Define text color\n",
        "text_color = (245, 2545, 220)  # White color in RGB format\n",
        "\n",
        "# Add the text to the image\n",
        "draw.text(text_position, text, fill=text_color, font=font)\n",
        "\n",
        "# Save or display the resulting image\n",
        "image.show()  # Display the image with the added text\n",
        "image.save(\"/content/outputs/background5.jpg\")  # Save the image with the added text\n"
      ]
    },
    {
      "cell_type": "code",
      "execution_count": null,
      "metadata": {
        "id": "blZyfpMKYg42"
      },
      "outputs": [],
      "source": []
    },
    {
      "cell_type": "code",
      "execution_count": null,
      "metadata": {
        "id": "aJAAYeYYYg2U"
      },
      "outputs": [],
      "source": [
        "#product 1/ Background 1"
      ]
    },
    {
      "cell_type": "code",
      "execution_count": null,
      "metadata": {
        "id": "7v5DPOwUMknQ"
      },
      "outputs": [],
      "source": [
        "img2_url = \"/content/original/product1.jpg\""
      ]
    },
    {
      "cell_type": "code",
      "execution_count": null,
      "metadata": {
        "id": "FiBD5nQtMmsq"
      },
      "outputs": [],
      "source": [
        "img_name = img2_url.split('/')[-1]"
      ]
    },
    {
      "cell_type": "code",
      "execution_count": null,
      "metadata": {
        "id": "1LpHyP-rMtfe"
      },
      "outputs": [],
      "source": [
        "img = Image.open(\"/content/original/product1.jpg\")"
      ]
    },
    {
      "cell_type": "code",
      "execution_count": null,
      "metadata": {
        "id": "2gNZN6EGMtcC"
      },
      "outputs": [],
      "source": [
        "img.save('original/' +img_name, format = 'jpeg')"
      ]
    },
    {
      "cell_type": "code",
      "execution_count": null,
      "metadata": {
        "id": "MHXratvgMtZ2"
      },
      "outputs": [],
      "source": [
        "output_pATHH = 'masked/' + img_name"
      ]
    },
    {
      "cell_type": "code",
      "execution_count": null,
      "metadata": {
        "id": "LeDs00eHMtXy"
      },
      "outputs": [],
      "source": [
        "with open(output_pATHH, 'wb') as f:\n",
        "  input = open('original/' +img_name, 'rb').read()\n",
        "  subject = remove(input)\n",
        "  f.write(subject)"
      ]
    },
    {
      "cell_type": "code",
      "execution_count": null,
      "metadata": {
        "id": "VHA8KH6rNDEW"
      },
      "outputs": [],
      "source": [
        "background_img = Image.open(\"/content/background_images/blackpedal.jpg\")"
      ]
    },
    {
      "cell_type": "code",
      "execution_count": null,
      "metadata": {
        "id": "kc7jYHHjNDA9"
      },
      "outputs": [],
      "source": [
        "background_img = background_img.resize((img.width, img.height))"
      ]
    },
    {
      "cell_type": "code",
      "execution_count": null,
      "metadata": {
        "id": "8j9nE1cGNC-6"
      },
      "outputs": [],
      "source": [
        "foreground_img = Image.open(output_pATHH)\n",
        "background_img.paste(foreground_img,(440,-70),foreground_img)\n",
        "background_img.save('masked/background.jpg',format = 'jpeg')"
      ]
    },
    {
      "cell_type": "code",
      "execution_count": null,
      "metadata": {
        "id": "xce92VJGNC8i"
      },
      "outputs": [],
      "source": [
        "from PIL import Image, ImageFilter, ImageEnhance, ImageOps, ImageChops\n",
        "import PIL\n",
        "\n",
        "\n",
        "background_img = Image.open(\"/content/background_images/blackpedal.jpg\")\n",
        "foreground_img = Image.open(output_pATHH)\n",
        "foreground_img1 = Image.open('/content/background_images/blop.png')\n",
        "#foreground_img3 = Image.open('/content/background_images/blop.png')\n",
        "foreground_img2 = Image.open(output_pATHH)\n",
        "\n",
        "\n",
        "new_width = 400\n",
        "new_height = 400\n",
        "\n",
        "new_w1 = 80\n",
        "new_h1 = 80\n",
        "\n",
        "new_w2 = 200\n",
        "new_h2 = 200\n",
        "\n",
        "new_w3 = 100\n",
        "new_h3 = 100\n",
        "\n",
        "foreground_img = foreground_img.resize((new_width, new_height))\n",
        "foreground_img1 = foreground_img1.resize((new_w1, new_h1))\n",
        "foreground_img2 = foreground_img2.resize((new_w2, new_h2))\n",
        "#foreground_img3 = foreground_img3.resize((new_w3, new_h3))\n",
        "\n",
        "angle = 0\n",
        "anglee = 0\n",
        "\n",
        "foreground_img1 = foreground_img1.rotate(anglee, expand = True)\n",
        "background_img.paste(foreground_img1, (595,544), foreground_img1)\n",
        "\n",
        "foreground_img = foreground_img.rotate(angle, expand = True)\n",
        "background_img.paste(foreground_img, (315,194), foreground_img)\n",
        "\n",
        "foreground_img2 = foreground_img2.rotate(angle, expand = True)\n",
        "background_img.paste(foreground_img2, (620,448), foreground_img2)\n",
        "\n",
        "#foreground_img3 = foreground_img3.rotate(anglee, expand = True)\n",
        "#background_img.paste(foreground_img3, (530,425), foreground_img3)\n",
        "\n",
        "background_img.save('masked/background6.jpg',format = 'JPEG')\n",
        "\n",
        "#backgroundd = foreground_img.rotate(270, PIL.Image.NEAREST, expand = 1)\n",
        "#vertical_img = img.transpose(method=Image.FLIP_TOP_BOTTOM)\n",
        "#vertical_img.show()\n",
        "\n"
      ]
    },
    {
      "cell_type": "code",
      "execution_count": null,
      "metadata": {
        "id": "CD03z6f4EkFE"
      },
      "outputs": [],
      "source": [
        "image = Image.open('/content/masked/background6.jpg')\n",
        "image_detail = image.filter(ImageFilter.DETAIL)\n",
        "#image_sharp = image_detail.filter(ImageFilter.SHARPEN)\n",
        "image_smooth = image_detail.filter(ImageFilter.SMOOTH)\n",
        "image_detailed = image_smooth.filter(ImageFilter.DETAIL)\n",
        "image_detailedd = image_detailed.filter(ImageFilter.DETAIL)\n",
        "#image_contour = image.filter(ImageFilter.SMOOTH_MORE)\n",
        "#image_edge = image_detailedd.filter(ImageFilter.EDGE_ENHANCE)\n",
        "#image_find_edges = image_sharp.filter(ImageFilter.FIND_EDGES)\n",
        "color_enhancer = ImageEnhance.Color(image_detailedd)\n",
        "sharpness_enhancer = ImageEnhance.Sharpness(image_detailedd)\n",
        "enhanced_image = color_enhancer.enhance(1.5)\n",
        "\n",
        "brightness_enhancer = ImageEnhance.Brightness(enhanced_image) # contrast\n",
        "brighter = brightness_enhancer.enhance(1)\n",
        "\n",
        "contrast_enhancer = ImageEnhance.Contrast(brighter) # contrast\n",
        "brighterr = contrast_enhancer.enhance(0.9)\n",
        "\n",
        "brighterr.show()\n",
        "brighterr.save('masked/background6.jpg',format = 'JPEG')\n",
        "#brighterr.save('background.jpg')"
      ]
    },
    {
      "cell_type": "code",
      "execution_count": null,
      "metadata": {
        "id": "VmguIG_-JKoA"
      },
      "outputs": [],
      "source": [
        "from PIL import Image, ImageEnhance\n",
        "\n",
        "# Load the image\n",
        "image_path = \"masked/background6.jpg\"  # Replace with the path to your image\n",
        "image = Image.open(image_path)\n",
        "\n",
        "# Adjust brightness\n",
        "brightness_factor = 1  # Increase or decrease as needed (1.0 means no change)\n",
        "enhancer_brightness = ImageEnhance.Brightness(image)\n",
        "image = enhancer_brightness.enhance(brightness_factor)\n",
        "\n",
        "# Adjust contrast\n",
        "contrast_factor = 1  # Increase or decrease as needed (1.0 means no change)\n",
        "enhancer_contrast = ImageEnhance.Contrast(image)\n",
        "image = enhancer_contrast.enhance(contrast_factor)\n",
        "\n",
        "# Save or display the resulting image\n",
        "image.show()  # Display the image\n",
        "image.save('masked/background6.jpg')  # Save the image\n"
      ]
    },
    {
      "cell_type": "code",
      "execution_count": null,
      "metadata": {
        "id": "SZqBP3JGJKkW"
      },
      "outputs": [],
      "source": [
        "#for font\n",
        "# Load the image\n",
        "#image_path = \"your_image.jpg\"  # Replace with the path to your image\n",
        "image = Image.open('masked/background6.jpg')\n",
        "\n",
        "# Initialize the drawing context\n",
        "draw = ImageDraw.Draw(image)\n",
        "\n",
        "# Define the text to be added\n",
        "text = \"SEVILLE\"\n",
        "\n",
        "# Define the font size and font type\n",
        "font_size = 30\n",
        "font = ImageFont.truetype(\"/content/fonts/calibri-bold-italic.ttf\",font_size)\n",
        "# Determine the position to place the text\n",
        "text_position = (475, 630)  # Adjust the coordinates as needed\n",
        "\n",
        "# Define text color\n",
        "text_color = (245, 2545, 220)  # White color in RGB format\n",
        "\n",
        "# Add the text to the image\n",
        "draw.text(text_position, text, fill=text_color, font=font)\n",
        "\n",
        "# Save or display the resulting image\n",
        "image.show()  # Display the image with the added text\n",
        "image.save(\"/content/outputs/background6.jpg\")  # Save the image with the added text\n"
      ]
    },
    {
      "cell_type": "code",
      "execution_count": null,
      "metadata": {
        "id": "WsGqS2LfVhWH"
      },
      "outputs": [],
      "source": []
    },
    {
      "cell_type": "code",
      "execution_count": null,
      "metadata": {
        "id": "GvFdCSH0NC4J"
      },
      "outputs": [],
      "source": [
        "#background 22/1 product.jpg"
      ]
    },
    {
      "cell_type": "code",
      "execution_count": null,
      "metadata": {
        "id": "JwmJupKYXaBu"
      },
      "outputs": [],
      "source": [
        "from PIL import Image, ImageFilter, ImageEnhance, ImageOps, ImageChops, ImageDraw, ImageFont\n",
        "import PIL\n",
        "\n",
        "foreground_img = Image.open(output_pATHH)\n",
        "foreground_img2 = Image.open('/content/background_images/shave.png')\n",
        "foreground_img3 = Image.open('/content/background_images/shavingbowl.png')\n",
        "foreground_img4 = Image.open('/content/background_images/poll.png')\n",
        "background_img2 = Image.open(\"/content/background_images/brown.jpg\")\n",
        "\n",
        "new_width = 500\n",
        "new_height = 500\n",
        "\n",
        "newwid =  440\n",
        "newhei =  440\n",
        "\n",
        "neww1 = 450\n",
        "newh1 = 450\n",
        "\n",
        "neww2 = 450\n",
        "newh2 = 450\n",
        "\n",
        "foreground_img = foreground_img.resize((new_width, new_height))\n",
        "foreground_img2 = foreground_img2.resize((newwid, newhei))\n",
        "foreground_img3 = foreground_img3.resize((neww1, newh1))\n",
        "foreground_img4 = foreground_img4.resize((neww2, newh2))\n",
        "angle = 2\n",
        "anglee = 0\n",
        "angle1 = 0\n",
        "angle2 = 340\n",
        "\n",
        "\n",
        "foreground_img4 = foreground_img4.rotate(angle2, expand = True)\n",
        "background_img2.paste(foreground_img4, (220,120), foreground_img4)\n",
        "\n",
        "foreground_img3 = foreground_img3.rotate(angle1, expand = True)\n",
        "background_img2.paste(foreground_img3, (200,850), foreground_img3)\n",
        "\n",
        "foreground_img2 = foreground_img2.rotate(anglee, expand = True)\n",
        "background_img2.paste(foreground_img2, (445,780), foreground_img2)\n",
        "\n",
        "foreground_img = foreground_img.rotate(angle, expand = True)\n",
        "background_img2.paste(foreground_img, (320,900), foreground_img)\n",
        "\n",
        "background_img2.save('masked/background7.jpg',format = 'JPEG')\n",
        "\n",
        "#backgroundd = foreground_img.rotate(270, PIL.Image.NEAREST, expand = 1)\n",
        "#vertical_img = img.transpose(method=Image.FLIP_TOP_BOTTOM)\n",
        "#vertical_img.show()\n"
      ]
    },
    {
      "cell_type": "code",
      "execution_count": null,
      "metadata": {
        "id": "jUgY4FCyXZ-s"
      },
      "outputs": [],
      "source": [
        "image = Image.open('/content/masked/background7.jpg')\n",
        "image_detail = image.filter(ImageFilter.DETAIL)\n",
        "#image_sharp = image_detail.filter(ImageFilter.SHARPEN)\n",
        "image_smooth = image_detail.filter(ImageFilter.SMOOTH)\n",
        "image_detailed = image_smooth.filter(ImageFilter.DETAIL)\n",
        "image_detailedd = image_detailed.filter(ImageFilter.DETAIL)\n",
        "#image_contour = image.filter(ImageFilter.SMOOTH_MORE)\n",
        "#image_edge = image_detailedd.filter(ImageFilter.EDGE_ENHANCE)\n",
        "#image_find_edges = image_sharp.filter(ImageFilter.FIND_EDGES)\n",
        "color_enhancer = ImageEnhance.Color(image_detailedd)\n",
        "sharpness_enhancer = ImageEnhance.Sharpness(image_detailedd)\n",
        "enhanced_image = color_enhancer.enhance(1)\n",
        "\n",
        "brightness_enhancer = ImageEnhance.Brightness(enhanced_image) # contrast\n",
        "brighter = brightness_enhancer.enhance(1)\n",
        "\n",
        "contrast_enhancer = ImageEnhance.Contrast(brighter) # contrast\n",
        "brighterr = contrast_enhancer.enhance(1)\n",
        "\n",
        "brighterr.show()\n",
        "brighterr.save('masked/background7.jpg',format = 'JPEG')\n",
        "#brighterr.save('background.jpg')\n"
      ]
    },
    {
      "cell_type": "code",
      "execution_count": null,
      "metadata": {
        "id": "-pI6BrD1XZ9T"
      },
      "outputs": [],
      "source": [
        "from PIL import Image, ImageEnhance\n",
        "\n",
        "# Load the image\n",
        "image_path = \"masked/background7.jpg\"  # Replace with the path to your image\n",
        "image = Image.open(image_path)\n",
        "\n",
        "# Adjust brightness\n",
        "brightness_factor = 1  # Increase or decrease as needed (1.0 means no change)\n",
        "enhancer_brightness = ImageEnhance.Brightness(image)\n",
        "image = enhancer_brightness.enhance(brightness_factor)\n",
        "\n",
        "# Adjust contrast\n",
        "contrast_factor = 1.2  # Increase or decrease as needed (1.0 means no change)\n",
        "enhancer_contrast = ImageEnhance.Contrast(image)\n",
        "image = enhancer_contrast.enhance(contrast_factor)\n",
        "\n",
        "# Save or display the resulting image\n",
        "image.show()  # Display the image\n",
        "image.save('masked/background7.jpg',format = 'JPEG')  # Save the image\n"
      ]
    },
    {
      "cell_type": "code",
      "execution_count": null,
      "metadata": {
        "id": "nvbkPhqMXZ7x"
      },
      "outputs": [],
      "source": [
        "#for font\n",
        "# Load the image\n",
        "#image_path = \"your_image.jpg\"  # Replace with the path to your image\n",
        "image = Image.open('masked/background7.jpg')\n",
        "\n",
        "# Initialize the drawing context\n",
        "draw = ImageDraw.Draw(image)\n",
        "\n",
        "# Define the text to be added\n",
        "text = \"SEVILLE\"\n",
        "\n",
        "# Define the font size and font type\n",
        "font_size = 90\n",
        "font = ImageFont.truetype(\"/content/fonts/calibri-bold-italic.ttf\",font_size)\n",
        "# Determine the position to place the text\n",
        "text_position = (370, 340)  # Adjust the coordinates as needed\n",
        "\n",
        "# Define text color\n",
        "text_color = (178, 34, 34)  # White color in RGB format\n",
        "\n",
        "# Add the text to the image\n",
        "draw.text(text_position, text, fill=text_color, font=font)\n",
        "\n",
        "# Save or display the resulting image\n",
        "image.show()  # Display the image with the added text\n",
        "image.save(\"/content/outputs/background7.jpg\")  # Save the image with the added text\n"
      ]
    },
    {
      "cell_type": "code",
      "execution_count": null,
      "metadata": {
        "id": "o_pXhlTIXZ6I"
      },
      "outputs": [],
      "source": [
        "#background 33"
      ]
    },
    {
      "cell_type": "code",
      "execution_count": null,
      "metadata": {
        "id": "hgidnZOpXZ4q"
      },
      "outputs": [],
      "source": [
        "from PIL import Image, ImageFilter, ImageEnhance, ImageOps, ImageChops, ImageDraw, ImageFont\n",
        "import PIL\n",
        "\n",
        "foreground_img = Image.open(output_pATHH)\n",
        "foreground_img2 = Image.open('/content/background_images/chappak.png')\n",
        "foreground_img3 = Image.open('/content/background_images/drop.png')\n",
        "background_img2 = Image.open(\"/content/background_images/blue.jpg\")\n",
        "new_width = 500\n",
        "new_height = 500\n",
        "newwid = 900\n",
        "newhei =  900\n",
        "neww = 50\n",
        "newh = 50\n",
        "foreground_img = foreground_img.resize((new_width, new_height))\n",
        "foreground_img2 = foreground_img2.resize((newwid, newhei))\n",
        "foreground_img3 = foreground_img3.resize((neww, newh))\n",
        "\n",
        "angle = 0\n",
        "anglee = 0\n",
        "angl = 350\n",
        "\n",
        "foreground_img2 = foreground_img2.rotate(anglee, expand = True)\n",
        "background_img2.paste(foreground_img2, (60,-90), foreground_img2)\n",
        "\n",
        "\n",
        "foreground_img = foreground_img.rotate(angle, expand = True)\n",
        "background_img2.paste(foreground_img, (250,30), foreground_img)\n",
        "\n",
        "foreground_img3 = foreground_img3.rotate(angl, expand = True)\n",
        "background_img2.paste(foreground_img3, (420,370), foreground_img3)\n",
        "\n",
        "\n",
        "background_img2.save('masked/background8.jpg',format = 'JPEG')\n",
        "\n",
        "#backgroundd = foreground_img.rotate(270, PIL.Image.NEAREST, expand = 1)\n",
        "#vertical_img = img.transpose(method=Image.FLIP_TOP_BOTTOM)\n",
        "#vertical_img.show()\n"
      ]
    },
    {
      "cell_type": "code",
      "execution_count": null,
      "metadata": {
        "id": "4MB4EbvNXZ3e"
      },
      "outputs": [],
      "source": [
        "image = Image.open('/content/masked/background8.jpg')\n",
        "image_detail = image.filter(ImageFilter.DETAIL)\n",
        "#image_sharp = image_detail.filter(ImageFilter.SHARPEN)\n",
        "image_smooth = image_detail.filter(ImageFilter.SMOOTH)\n",
        "image_detailed = image_smooth.filter(ImageFilter.DETAIL)\n",
        "image_detailedd = image_detailed.filter(ImageFilter.DETAIL)\n",
        "#image_contour = image.filter(ImageFilter.SMOOTH_MORE)\n",
        "#image_edge = image_detailedd.filter(ImageFilter.EDGE_ENHANCE)\n",
        "#image_find_edges = image_sharp.filter(ImageFilter.FIND_EDGES)\n",
        "color_enhancer = ImageEnhance.Color(image_detailedd)\n",
        "sharpness_enhancer = ImageEnhance.Sharpness(image_detailedd)\n",
        "enhanced_image = color_enhancer.enhance(1)\n",
        "\n",
        "brightness_enhancer = ImageEnhance.Brightness(enhanced_image) # contrast\n",
        "brighter = brightness_enhancer.enhance(1)\n",
        "\n",
        "contrast_enhancer = ImageEnhance.Contrast(brighter) # contrast\n",
        "brighterr = contrast_enhancer.enhance(1.2)\n",
        "\n",
        "brighterr.show()\n",
        "brighterr.save('masked/background8.jpg',format = 'JPEG')\n",
        "#brighterr.save('background.jpg')\n"
      ]
    },
    {
      "cell_type": "code",
      "execution_count": null,
      "metadata": {
        "id": "k3AC8tXwXZ16"
      },
      "outputs": [],
      "source": [
        "from PIL import Image, ImageEnhance\n",
        "\n",
        "# Load the image\n",
        "image_path = \"masked/background8.jpg\"  # Replace with the path to your image\n",
        "image = Image.open(image_path)\n",
        "\n",
        "# Adjust brightness\n",
        "brightness_factor = 1  # Increase or decrease as needed (1.0 means no change)\n",
        "enhancer_brightness = ImageEnhance.Brightness(image)\n",
        "image = enhancer_brightness.enhance(brightness_factor)\n",
        "\n",
        "# Adjust contrast\n",
        "contrast_factor = 1  # Increase or decrease as needed (1.0 means no change)\n",
        "enhancer_contrast = ImageEnhance.Contrast(image)\n",
        "image = enhancer_contrast.enhance(contrast_factor)\n",
        "\n",
        "# Save or display the resulting image\n",
        "image.show()  # Display the image\n",
        "image.save('masked/backgroun8.jpg',format = 'JPEG')  # Save the image\n"
      ]
    },
    {
      "cell_type": "code",
      "execution_count": null,
      "metadata": {
        "id": "U3CawUuBXZ0A"
      },
      "outputs": [],
      "source": [
        "#for font\n",
        "# Load the image\n",
        "#image_path = \"your_image.jpg\"  # Replace with the path to your image\n",
        "image = Image.open('masked/background8.jpg')\n",
        "\n",
        "# Initialize the drawing context\n",
        "draw = ImageDraw.Draw(image)\n",
        "\n",
        "# Define the text to be added\n",
        "text = \"SEVILLE\"\n",
        "\n",
        "# Define the font size and font type\n",
        "font_size = 50\n",
        "font = ImageFont.truetype(\"/content/fonts/calibri-bold-italic.ttf\",font_size)\n",
        "# Determine the position to place the text\n",
        "text_position = (430, 60)  # Adjust the coordinates as needed\n",
        "\n",
        "# Define text color\n",
        "text_color = (255, 255, 255)  # White color in RGB format\n",
        "\n",
        "# Add the text to the image\n",
        "draw.text(text_position, text, fill=text_color, font=font)\n",
        "\n",
        "# Save or display the resulting image\n",
        "image.show()  # Display the image with the added text\n",
        "image.save(\"/content/outputs/background8.jpg\")  # Save the image with the added text\n"
      ]
    },
    {
      "cell_type": "code",
      "execution_count": null,
      "metadata": {
        "id": "h18y3j-fg0Ue"
      },
      "outputs": [],
      "source": [
        "#background 44"
      ]
    },
    {
      "cell_type": "code",
      "execution_count": null,
      "metadata": {
        "id": "HlUXXlwbXZyt"
      },
      "outputs": [],
      "source": [
        "from PIL import Image, ImageFilter, ImageEnhance, ImageOps, ImageChops\n",
        "import PIL\n",
        "\n",
        "\n",
        "background_img = Image.open(\"/content/background_images/white.jpg\")\n",
        "foreground_img = Image.open(output_pATHH)\n",
        "foreground_img1 = Image.open('/content/background_images/roundsplash.png')\n",
        "foreground_img2 = Image.open('/content/background_images/shade.png')\n",
        "foreground_img3 = Image.open('/content/background_images/drops.png')\n",
        "foreground_img4 = Image.open('/content/background_images/ip.png')\n",
        "\n",
        "\n",
        "new_width = 1000\n",
        "new_height = 1000\n",
        "new_w = 1279\n",
        "new_h = 517\n",
        "\n",
        "new_w1 = 1920\n",
        "new_h1 = 1430\n",
        "\n",
        "new_w2 = 1920\n",
        "new_h2 = 1430\n",
        "\n",
        "new_w3 = 1400\n",
        "new_h3 = 1400\n",
        "\n",
        "\n",
        "\n",
        "foreground_img = foreground_img.resize((new_width, new_height))\n",
        "foreground_img1 = foreground_img1.resize((new_w, new_h))\n",
        "foreground_img2 = foreground_img2.resize((new_w1, new_h1))\n",
        "foreground_img3 = foreground_img3.resize((new_w2, new_h2))\n",
        "foreground_img4 = foreground_img4.resize((new_w3, new_h3))\n",
        "\n",
        "angleee = 7\n",
        "anglee = 0\n",
        "angle = 0\n",
        "yangl = 5\n",
        "anglei = 180\n",
        "\n",
        "foreground_img1 = foreground_img1.rotate(anglee, expand = True)\n",
        "background_img.paste(foreground_img1, (320,450), foreground_img1)\n",
        "\n",
        "foreground_img2 = foreground_img2.rotate(angle, expand = True)\n",
        "background_img.paste(foreground_img2, (0,0), foreground_img2)\n",
        "\n",
        "foreground_img3 = foreground_img3.rotate(anglei, expand = True)\n",
        "background_img.paste(foreground_img3, (100,-520), foreground_img3)\n",
        "\n",
        "foreground_img = foreground_img.rotate(angleee, expand = True)\n",
        "background_img.paste(foreground_img, (420,-10), foreground_img)\n",
        "\n",
        "foreground_img4 = foreground_img4.rotate(yangl, expand = True)\n",
        "background_img.paste(foreground_img4, (350,75), foreground_img4)\n",
        "\n",
        "background_img.save('masked/background9.jpg',format = 'JPEG')\n",
        "\n",
        "#backgroundd = foreground_img.rotate(270, PIL.Image.NEAREST, expand = 1)\n",
        "#vertical_img = img.transpose(method=Image.FLIP_TOP_BOTTOM)\n",
        "#vertical_img.show()\n",
        "\n"
      ]
    },
    {
      "cell_type": "code",
      "execution_count": null,
      "metadata": {
        "id": "5-B-fH36XZxR"
      },
      "outputs": [],
      "source": [
        "image = Image.open('/content/masked/background9.jpg')\n",
        "image_detail = image.filter(ImageFilter.DETAIL)\n",
        "#image_sharp = image_detail.filter(ImageFilter.SHARPEN)\n",
        "image_smooth = image_detail.filter(ImageFilter.SMOOTH)\n",
        "image_detailed = image_smooth.filter(ImageFilter.DETAIL)\n",
        "image_detailedd = image_detailed.filter(ImageFilter.DETAIL)\n",
        "#image_contour = image.filter(ImageFilter.SMOOTH_MORE)\n",
        "#image_edge = image_detailedd.filter(ImageFilter.EDGE_ENHANCE)\n",
        "#image_find_edges = image_sharp.filter(ImageFilter.FIND_EDGES)\n",
        "color_enhancer = ImageEnhance.Color(image_detailedd)\n",
        "sharpness_enhancer = ImageEnhance.Sharpness(image_detailedd)\n",
        "enhanced_image = color_enhancer.enhance(1.1)\n",
        "\n",
        "brightness_enhancer = ImageEnhance.Brightness(enhanced_image) # contrast\n",
        "brighter = brightness_enhancer.enhance(1)\n",
        "\n",
        "contrast_enhancer = ImageEnhance.Contrast(brighter) # contrast\n",
        "brighterr = contrast_enhancer.enhance(1.2)\n",
        "\n",
        "brighterr.show()\n",
        "brighterr.save('masked/background9.jpg',format = 'JPEG')\n",
        "#brighterr.save('background.jpg')\n"
      ]
    },
    {
      "cell_type": "code",
      "execution_count": null,
      "metadata": {
        "id": "WpZIM7ShkVdw"
      },
      "outputs": [],
      "source": [
        "from PIL import Image, ImageEnhance\n",
        "\n",
        "# Load the image\n",
        "image_path = \"masked/background9.jpg\"  # Replace with the path to your image\n",
        "image = Image.open(image_path)\n",
        "\n",
        "# Adjust brightness\n",
        "brightness_factor = 1  # Increase or decrease as needed (1.0 means no change)\n",
        "enhancer_brightness = ImageEnhance.Brightness(image)\n",
        "image = enhancer_brightness.enhance(brightness_factor)\n",
        "\n",
        "# Adjust contrast\n",
        "contrast_factor = 1  # Increase or decrease as needed (1.0 means no change)\n",
        "enhancer_contrast = ImageEnhance.Contrast(image)\n",
        "image = enhancer_contrast.enhance(contrast_factor)\n",
        "\n",
        "# Save or display the resulting image\n",
        "image.show()  # Display the image\n",
        "image.save('outputs/background9.jpg',format = 'JPEG')  # Save the image\n"
      ]
    },
    {
      "cell_type": "code",
      "execution_count": null,
      "metadata": {
        "id": "Y0cOJv0RyvaB"
      },
      "outputs": [],
      "source": [
        "#for font\n",
        "# Load the image\n",
        "#image_path = \"your_image.jpg\"  # Replace with the path to your image\n",
        "image = Image.open('masked/background9.jpg')\n",
        "\n",
        "# Initialize the drawing context\n",
        "draw = ImageDraw.Draw(image)\n",
        "\n",
        "# Define the text to be added\n",
        "text = \"SEVILLE\"\n",
        "\n",
        "# Define the font size and font type\n",
        "font_size = 70\n",
        "font = ImageFont.truetype(\"/content/fonts/calibri-bold-italic.ttf\",font_size)\n",
        "# Determine the position to place the text\n",
        "text_position = (60, 70)  # Adjust the coordinates as needed\n",
        "\n",
        "# Define text color\n",
        "text_color = (255, 255, 255)  # White color in RGB format\n",
        "\n",
        "# Add the text to the image\n",
        "draw.text(text_position, text, fill=text_color, font=font)\n",
        "\n",
        "# Save or display the resulting image\n",
        "image.show()  # Display the image with the added text\n",
        "image.save(\"/content/outputs/background9.jpg\")  # Save the image with the added text\n"
      ]
    },
    {
      "cell_type": "code",
      "execution_count": null,
      "metadata": {
        "id": "DTSvB_6IXZvf"
      },
      "outputs": [],
      "source": [
        "#background 55"
      ]
    },
    {
      "cell_type": "code",
      "execution_count": null,
      "metadata": {
        "id": "AdkFdjSRXZuG"
      },
      "outputs": [],
      "source": [
        "from PIL import Image, ImageFilter, ImageEnhance, ImageOps, ImageChops\n",
        "import PIL\n",
        "\n",
        "\n",
        "background_img = Image.open(\"/content/background_images/skyblu.jpg\")\n",
        "foreground_img = Image.open(output_pATHH)\n",
        "foreground_img1 = Image.open('/content/background_images/ripple.png')\n",
        "foreground_img2 = Image.open('/content/background_images/kk.png')\n",
        "\n",
        "new_width = 400\n",
        "new_height = 400\n",
        "\n",
        "new_w = 400\n",
        "new_h = 400\n",
        "\n",
        "\n",
        "new_w1 = 440\n",
        "new_h1 = 440\n",
        "\n",
        "\n",
        "foreground_img = foreground_img.resize((new_width, new_height))\n",
        "foreground_img1 = foreground_img1.resize((new_w, new_h))\n",
        "foreground_img2 = foreground_img2.resize((new_w1, new_h1))\n",
        "\n",
        "\n",
        "angle = 7\n",
        "anglee = 0\n",
        "angle =0\n",
        "\n",
        "foreground_img1 = foreground_img1.rotate(anglee, expand = True)\n",
        "background_img.paste(foreground_img1, (320,405), foreground_img1)\n",
        "\n",
        "foreground_img2 = foreground_img2.rotate(anglee, expand = True)\n",
        "background_img.paste(foreground_img2, (320,310), foreground_img2)\n",
        "\n",
        "foreground_img = foreground_img.rotate(angle, expand = True)\n",
        "background_img.paste(foreground_img, (310,150), foreground_img)\n",
        "\n",
        "\n",
        "\n",
        "\n",
        "\n",
        "background_img.save('masked/background10.jpg',format = 'JPEG')\n",
        "\n",
        "#backgroundd = foreground_img.rotate(270, PIL.Image.NEAREST, expand = 1)\n",
        "#vertical_img = img.transpose(method=Image.FLIP_TOP_BOTTOM)\n",
        "#vertical_img.show()\n",
        "\n"
      ]
    },
    {
      "cell_type": "code",
      "execution_count": null,
      "metadata": {
        "id": "At34QYMLmMNj"
      },
      "outputs": [],
      "source": [
        "image = Image.open('/content/masked/background10.jpg')\n",
        "image_detail = image.filter(ImageFilter.DETAIL)\n",
        "#image_sharp = image_detail.filter(ImageFilter.SHARPEN)\n",
        "image_smooth = image_detail.filter(ImageFilter.SMOOTH)\n",
        "image_detailed = image_smooth.filter(ImageFilter.DETAIL)\n",
        "image_detailedd = image_detailed.filter(ImageFilter.DETAIL)\n",
        "#image_contour = image.filter(ImageFilter.SMOOTH_MORE)\n",
        "#image_edge = image_detailedd.filter(ImageFilter.EDGE_ENHANCE)\n",
        "#image_find_edges = image_sharp.filter(ImageFilter.FIND_EDGES)\n",
        "color_enhancer = ImageEnhance.Color(image_detailedd)\n",
        "sharpness_enhancer = ImageEnhance.Sharpness(image_detailedd)\n",
        "enhanced_image = color_enhancer.enhance(1)\n",
        "\n",
        "brightness_enhancer = ImageEnhance.Brightness(enhanced_image) # contrast\n",
        "brighter = brightness_enhancer.enhance(1)\n",
        "\n",
        "contrast_enhancer = ImageEnhance.Contrast(brighter) # contrast\n",
        "brighterr = contrast_enhancer.enhance(1)\n",
        "\n",
        "brighterr.show()\n",
        "brighterr.save('masked/background10.jpg',format = 'JPEG')\n",
        "#brighterr.save('background.jpg')\n"
      ]
    },
    {
      "cell_type": "code",
      "execution_count": null,
      "metadata": {
        "id": "tA6qYQOKXZst"
      },
      "outputs": [],
      "source": [
        "from PIL import Image, ImageEnhance\n",
        "\n",
        "# Load the image\n",
        "image_path = \"masked/background10.jpg\"  # Replace with the path to your image\n",
        "image = Image.open(image_path)\n",
        "\n",
        "# Adjust brightness\n",
        "brightness_factor = 1 # Increase or decrease as needed (1.0 means no change)\n",
        "enhancer_brightness = ImageEnhance.Brightness(image)\n",
        "image = enhancer_brightness.enhance(brightness_factor)\n",
        "\n",
        "# Adjust contrast\n",
        "contrast_factor = 0.7  # Increase or decrease as needed (1.0 means no change)\n",
        "enhancer_contrast = ImageEnhance.Contrast(image)\n",
        "image = enhancer_contrast.enhance(contrast_factor)\n",
        "\n",
        "# Save or display the resulting image\n",
        "image.show()  # Display the image\n",
        "image.save('masked/backgroun10.jpg',format = 'JPEG')  # Save the image\n"
      ]
    },
    {
      "cell_type": "code",
      "execution_count": null,
      "metadata": {
        "id": "8yrhyd5UXZq3"
      },
      "outputs": [],
      "source": [
        "from PIL import Image, ImageDraw, ImageFont\n",
        "\n",
        "# Load the image # Replace with the path to your image\n",
        "image = Image.open('masked/background10.jpg')\n",
        "\n",
        "# Initialize the drawing context\n",
        "draw = ImageDraw.Draw(image)\n",
        "\n",
        "# Define the text to be added\n",
        "text = \"SERVILLE\"\n",
        "\n",
        "# Define the font size and font type\n",
        "font_size = 40\n",
        "font = ImageFont.truetype(\"/content/fonts/calibri-bold.ttf\", font_size)  # You can specify the path to your desired font file\n",
        "\n",
        "# Determine the position to place the text\n",
        "text_position = (440, 120)  # Adjust the coordinates as needed\n",
        "\n",
        "# Define text color\n",
        "text_color = (255, 128, 0)  # White color in RGB format\n",
        "\n",
        "# Add the text to the image\n",
        "draw.text(text_position, text, fill=text_color, font=font)\n",
        "\n",
        "# Save or display the resulting image\n",
        "image.show()  # Display the image with the added text\n",
        "# image.save(\"output_image_with_text.jpg\")\n",
        "image.save('/content/outputs/background10.jpg') # Save the image with the added text\n"
      ]
    },
    {
      "cell_type": "code",
      "execution_count": null,
      "metadata": {
        "id": "QAFpBPb0XZpV"
      },
      "outputs": [],
      "source": []
    },
    {
      "cell_type": "code",
      "execution_count": null,
      "metadata": {
        "id": "J3mcV0Jh61az"
      },
      "outputs": [],
      "source": []
    },
    {
      "cell_type": "code",
      "execution_count": null,
      "metadata": {
        "id": "7HbdG2KTXZn-"
      },
      "outputs": [],
      "source": [
        "#product 4 background 111"
      ]
    },
    {
      "cell_type": "code",
      "execution_count": null,
      "metadata": {
        "id": "qjwdxlu3XZmB"
      },
      "outputs": [],
      "source": [
        "img3_url = \"/content/original/product4.jpg\""
      ]
    },
    {
      "cell_type": "code",
      "execution_count": null,
      "metadata": {
        "id": "yVcpPrvEXZks"
      },
      "outputs": [],
      "source": [
        "img_name = img_url.split('/')[-1]"
      ]
    },
    {
      "cell_type": "code",
      "execution_count": null,
      "metadata": {
        "id": "9-PoRHx3XZi4"
      },
      "outputs": [],
      "source": [
        "img = Image.open(\"/content/original/product4.jpg\")"
      ]
    },
    {
      "cell_type": "code",
      "execution_count": null,
      "metadata": {
        "id": "LyFnhi0GXZha"
      },
      "outputs": [],
      "source": [
        "img.save('original/' +img_name, format = 'jpeg')"
      ]
    },
    {
      "cell_type": "code",
      "execution_count": null,
      "metadata": {
        "id": "qFdVXc3QXZf4"
      },
      "outputs": [],
      "source": [
        "output_pATH = 'masked/' + img_name"
      ]
    },
    {
      "cell_type": "code",
      "execution_count": null,
      "metadata": {
        "id": "jZbtD2aQXZeK"
      },
      "outputs": [],
      "source": [
        "with open(output_pATH, 'wb') as f:\n",
        "  input = open('original/' +img_name, 'rb').read()\n",
        "  subject = remove(input)\n",
        "  f.write(subject)"
      ]
    },
    {
      "cell_type": "code",
      "execution_count": null,
      "metadata": {
        "id": "oh18sCCWXZcn"
      },
      "outputs": [],
      "source": [
        "background_img = Image.open(\"/content/background_images/white.jpg\")\n",
        "background_img = background_img.resize((img.width, img.height))\n",
        "foreground_img = Image.open(output_pATH)\n",
        "background_img.paste(foreground_img,(440,-70),foreground_img)\n",
        "background_img.save('masked/background11.jpg',format = 'jpeg')\n"
      ]
    },
    {
      "cell_type": "code",
      "execution_count": null,
      "metadata": {
        "id": "AFi49G8RXZbE"
      },
      "outputs": [],
      "source": [
        "from PIL import Image, ImageFilter, ImageEnhance, ImageOps, ImageChops\n",
        "import PIL\n",
        "\n",
        "foreground_img = Image.open(output_pATH)\n",
        "#foreground_img4 = Image.open('/content/background_images/leaves.png')\n",
        "foreground_img2 = Image.open('/content/background_images/sand.png')\n",
        "background_img = Image.open(\"/content/background_images/white.jpg\")\n",
        "foreground_img3 = Image.open('/content/background_images/log.png')\n",
        "foreground_img5 = Image.open('/content/background_images/greenleaf.png')\n",
        "foreground_img6 = Image.open('/content/background_images/sand.png')\n",
        "#foreground_img7 = Image.open('/content/background_images/stones.png')\n",
        "foreground_img8 = Image.open('/content/background_images/greenleaf.png')\n",
        "foreground_img9 = Image.open('/content/background_images/sky.png')\n",
        "\n",
        "new_width = 700\n",
        "new_height = 700\n",
        "\n",
        "new_width1 = 1230\n",
        "new_height1 = 750\n",
        "\n",
        "new_width2 = 500\n",
        "new_height2 = 500\n",
        "\n",
        "new_width3 = 2000\n",
        "new_height3 = 800\n",
        "\n",
        "new_width4 = 2000\n",
        "new_height4 = 900\n",
        "\n",
        "new_width6 = 500\n",
        "new_height6 = 500\n",
        "\n",
        "#new_width7 = 700\n",
        "#new_height7 = 700\n",
        "\n",
        "new_width11 = 1230\n",
        "new_height11 = 750\n",
        "\n",
        "\n",
        "new_width12 = 3000\n",
        "new_height12 = 3430\n",
        "\n",
        "foreground_img = foreground_img.resize((new_width, new_height))\n",
        "foreground_img5 = foreground_img5.resize((new_width11, new_height11))\n",
        "#foreground_img7 = foreground_img7.resize((new_width7, new_height7))\n",
        "foreground_img2 = foreground_img2.resize((new_width2, new_height2))\n",
        "foreground_img3 = foreground_img3.resize((new_width3, new_height3))\n",
        "foreground_img4 = foreground_img4.resize((new_width4, new_height4))\n",
        "foreground_img6 = foreground_img6.resize((new_width6, new_height6))\n",
        "foreground_img8 = foreground_img8.resize((new_width1, new_height1))\n",
        "foreground_img9 = foreground_img9.resize((new_width12, new_height12))\n",
        "\n",
        "angle = 0\n",
        "anglee = 0\n",
        "yangl =90\n",
        "\n",
        "#foreground_img1 = foreground_img1.rotate(angle, expand = True)\n",
        "#background_img.paste(foreground_img1, (400,150), foreground_img1)\n",
        "\n",
        "foreground_img9= foreground_img9.rotate(anglee, expand = True)\n",
        "background_img.paste(foreground_img9, (0,0), foreground_img9)\n",
        "\n",
        "\n",
        "foreground_img3= foreground_img3.rotate(anglee, expand = True)\n",
        "background_img.paste(foreground_img3, (0,720), foreground_img3)\n",
        "\n",
        "foreground_img5= foreground_img5.rotate(anglee, expand = True)\n",
        "background_img.paste(foreground_img5, (800,-10), foreground_img5)\n",
        "\n",
        "\n",
        "foreground_img8= foreground_img8.rotate(yangl, expand = True)\n",
        "background_img.paste(foreground_img8, (0,0), foreground_img8)\n",
        "\n",
        "#foreground_img7 = foreground_img7.rotate(angle, expand = True)\n",
        "#background_img.paste(foreground_img7, (694,1070), foreground_img7)\n",
        "\n",
        "foreground_img2 = foreground_img2.rotate(angle, expand = True)\n",
        "background_img.paste(foreground_img2, (650,950), foreground_img2)\n",
        "\n",
        "foreground_img6 = foreground_img6.rotate(angle, expand = True)\n",
        "background_img.paste(foreground_img6, (1090,970), foreground_img6)\n",
        "\n",
        "foreground_img = foreground_img.rotate(angle, expand = True)\n",
        "background_img.paste(foreground_img, (750,820), foreground_img)\n",
        "\n",
        "background_img.save('masked/background11.jpg',format = 'JPEG')\n",
        "\n",
        "#backgroundd = foreground_img.rotate(270, PIL.Image.NEAREST, expand = 1)\n",
        "#vertical_img = img.transpose(method=Image.FLIP_TOP_BOTTOM)\n",
        "#vertical_img.show()\n"
      ]
    },
    {
      "cell_type": "code",
      "execution_count": null,
      "metadata": {
        "id": "-yVsBO_5XZZQ"
      },
      "outputs": [],
      "source": [
        "image = Image.open('/content/masked/background11.jpg')\n",
        "image_detail = image.filter(ImageFilter.DETAIL)\n",
        "#image_sharp = image_detail.filter(ImageFilter.SHARPEN)\n",
        "image_smooth = image_detail.filter(ImageFilter.SMOOTH)\n",
        "image_detailed = image_smooth.filter(ImageFilter.DETAIL)\n",
        "image_detailedd = image_detailed.filter(ImageFilter.DETAIL)\n",
        "#image_contour = image.filter(ImageFilter.SMOOTH_MORE)\n",
        "#image_edge = image_detailedd.filter(ImageFilter.EDGE_ENHANCE)\n",
        "#image_find_edges = image_sharp.filter(ImageFilter.FIND_EDGES)\n",
        "color_enhancer = ImageEnhance.Color(image_detailedd)\n",
        "sharpness_enhancer = ImageEnhance.Sharpness(image_detailedd)\n",
        "enhanced_image = color_enhancer.enhance(1)\n",
        "\n",
        "brightness_enhancer = ImageEnhance.Brightness(enhanced_image) # contrast\n",
        "brighter = brightness_enhancer.enhance(1)\n",
        "\n",
        "contrast_enhancer = ImageEnhance.Contrast(brighter) # contrast\n",
        "brighterr = contrast_enhancer.enhance(1)\n",
        "\n",
        "brighterr.show()\n",
        "brighterr.save('masked/background11.jpg',format = 'JPEG')\n",
        "#brighterr.save('background.jpg')\n"
      ]
    },
    {
      "cell_type": "code",
      "execution_count": null,
      "metadata": {
        "id": "8o1uULhzXZXs"
      },
      "outputs": [],
      "source": [
        "from PIL import Image, ImageEnhance\n",
        "\n",
        "# Load the image\n",
        "image_path = \"masked/background11.jpg\"  # Replace with the path to your image\n",
        "image = Image.open(image_path)\n",
        "\n",
        "# Adjust brightness\n",
        "brightness_factor = 1 # Increase or decrease as needed (1.0 means no change)\n",
        "enhancer_brightness = ImageEnhance.Brightness(image)\n",
        "image = enhancer_brightness.enhance(brightness_factor)\n",
        "\n",
        "# Adjust contrast\n",
        "contrast_factor = 0.7  # Increase or decrease as needed (1.0 means no change)\n",
        "enhancer_contrast = ImageEnhance.Contrast(image)\n",
        "image = enhancer_contrast.enhance(contrast_factor)\n",
        "\n",
        "# Save or display the resulting image\n",
        "image.show()  # Display the image\n",
        "image.save('masked/backgroun11.jpg',format = 'JPEG')  # Save the image\n"
      ]
    },
    {
      "cell_type": "code",
      "execution_count": null,
      "metadata": {
        "id": "CJHHLWTkXZVs"
      },
      "outputs": [],
      "source": [
        "from PIL import Image, ImageDraw, ImageFont\n",
        "\n",
        "# Load the image # Replace with the path to your image\n",
        "image = Image.open('masked/background11.jpg')\n",
        "\n",
        "# Initialize the drawing context\n",
        "draw = ImageDraw.Draw(image)\n",
        "\n",
        "# Define the text to be added\n",
        "text = \"\"\n",
        "\n",
        "# Define the font size and font type\n",
        "font_size = 120\n",
        "font = ImageFont.truetype(\"/content/fonts/calibri-bold.ttf\", font_size)  # You can specify the path to your desired font file\n",
        "\n",
        "# Determine the position to place the text\n",
        "text_position = (890, 300)  # Adjust the coordinates as needed\n",
        "\n",
        "# Define text color\n",
        "text_color = (0, 0, 0)  # White color in RGB format\n",
        "\n",
        "# Add the text to the image\n",
        "draw.text(text_position, text, fill=text_color, font=font)\n",
        "\n",
        "# Save or display the resulting image\n",
        "image.show()  # Display the image with the added text\n",
        "# image.save(\"output_image_with_text.jpg\")\n",
        "image.save('/content/outputs/background11.jpg') # Save the image with the added text\n"
      ]
    },
    {
      "cell_type": "code",
      "execution_count": null,
      "metadata": {
        "id": "Of_hUahGXZUa"
      },
      "outputs": [],
      "source": [
        "#background 12"
      ]
    },
    {
      "cell_type": "code",
      "execution_count": null,
      "metadata": {
        "id": "VrIh1FHrXZSu"
      },
      "outputs": [],
      "source": [
        "from PIL import Image, ImageFilter, ImageEnhance, ImageOps, ImageChops\n",
        "import PIL\n",
        "\n",
        "foreground_img = Image.open(output_pATH)\n",
        "#foreground_img4 = Image.open('/content/background_images/leaves.png')\n",
        "foreground_img2 = Image.open('/content/background_images/sand.png')\n",
        "background_img = Image.open(\"/content/background_images/dirt.jpg\")\n",
        "foreground_img3 = Image.open('/content/background_images/log.png')\n",
        "foreground_img5 = Image.open('/content/background_images/greenleaf.png')\n",
        "foreground_img6 = Image.open('/content/background_images/sand.png')\n",
        "foreground_img7 = Image.open('/content/background_images/stones.png')\n",
        "#foreground_img8 = Image.open('/content/background_images/smoke.png')\n",
        "\n",
        "new_width = 700\n",
        "new_height = 700\n",
        "\n",
        "#new_width1 = 900\n",
        "#new_height1 = 900\n",
        "\n",
        "new_width2 = 500\n",
        "new_height2 = 500\n",
        "\n",
        "new_width3 = 2000\n",
        "new_height3 = 900\n",
        "\n",
        "new_width4 = 2000\n",
        "new_height4 = 900\n",
        "\n",
        "new_width6 = 500\n",
        "new_height6 = 500\n",
        "\n",
        "new_width7 = 200\n",
        "new_height7 = 200\n",
        "\n",
        "new_width8 = 500\n",
        "new_height8 = 500\n",
        "\n",
        "foreground_img = foreground_img.resize((new_width, new_height))\n",
        "foreground_img5 = foreground_img5.resize((new_width1, new_height1))\n",
        "foreground_img7 = foreground_img7.resize((new_width7, new_height7))\n",
        "foreground_img2 = foreground_img2.resize((new_width2, new_height2))\n",
        "foreground_img3 = foreground_img3.resize((new_width3, new_height3))\n",
        "foreground_img4 = foreground_img4.resize((new_width4, new_height4))\n",
        "foreground_img6 = foreground_img6.resize((new_width6, new_height6))\n",
        "#foreground_img8 = foreground_img8.resize((new_width8, new_height8))\n",
        "angle = 0\n",
        "anglee = 0\n",
        "yangl =180\n",
        "angleee = 1\n",
        "#foreground_img1 = foreground_img1.rotate(angle, expand = True)\n",
        "#background_img.paste(foreground_img1, (400,150), foreground_img1)\n",
        "\n",
        "\n",
        "\n",
        "foreground_img3= foreground_img3.rotate(anglee, expand = True)\n",
        "background_img.paste(foreground_img3, (0,720), foreground_img3)\n",
        "\n",
        "foreground_img5= foreground_img5.rotate(angleee, expand = True)\n",
        "background_img.paste(foreground_img5, (700,0), foreground_img5)\n",
        "\n",
        "\n",
        "#foreground_img8= foreground_img8.rotate(yangl, expand = True)\n",
        "#background_img.paste(foreground_img8, (100,107), foreground_img8)\n",
        "\n",
        "foreground_img7 = foreground_img7.rotate(angle, expand = True)\n",
        "background_img.paste(foreground_img7, (400,1190), foreground_img7)\n",
        "\n",
        "foreground_img2 = foreground_img2.rotate(angle, expand = True)\n",
        "background_img.paste(foreground_img2, (410,970), foreground_img2)\n",
        "\n",
        "foreground_img6 = foreground_img6.rotate(angle, expand = True)\n",
        "background_img.paste(foreground_img6, (940,1050), foreground_img6)\n",
        "\n",
        "foreground_img = foreground_img.rotate(angle, expand = True)\n",
        "background_img.paste(foreground_img, (550,850), foreground_img)\n",
        "\n",
        "background_img.save('masked/background12.jpg',format = 'JPEG')\n",
        "\n",
        "#backgroundd = foreground_img.rotate(270, PIL.Image.NEAREST, expand = 1)\n",
        "#vertical_img = img.transpose(method=Image.FLIP_TOP_BOTTOM)\n",
        "#vertical_img.show()\n"
      ]
    },
    {
      "cell_type": "code",
      "execution_count": null,
      "metadata": {
        "id": "y7BLlVFUXZRb"
      },
      "outputs": [],
      "source": [
        "image = Image.open('/content/masked/background12.jpg')\n",
        "image_detail = image.filter(ImageFilter.DETAIL)\n",
        "#image_sharp = image_detail.filter(ImageFilter.SHARPEN)\n",
        "image_smooth = image_detail.filter(ImageFilter.SMOOTH)\n",
        "image_detailed = image_smooth.filter(ImageFilter.DETAIL)\n",
        "image_detailedd = image_detailed.filter(ImageFilter.DETAIL)\n",
        "#image_contour = image.filter(ImageFilter.SMOOTH_MORE)\n",
        "#image_edge = image_detailedd.filter(ImageFilter.EDGE_ENHANCE)\n",
        "#image_find_edges = image_sharp.filter(ImageFilter.FIND_EDGES)\n",
        "color_enhancer = ImageEnhance.Color(image_detailedd)\n",
        "sharpness_enhancer = ImageEnhance.Sharpness(image_detailedd)\n",
        "enhanced_image = color_enhancer.enhance(1)\n",
        "\n",
        "brightness_enhancer = ImageEnhance.Brightness(enhanced_image) # contrast\n",
        "brighter = brightness_enhancer.enhance(1)\n",
        "\n",
        "contrast_enhancer = ImageEnhance.Contrast(brighter) # contrast\n",
        "brighterr = contrast_enhancer.enhance(1)\n",
        "\n",
        "brighterr.show()\n",
        "brighterr.save('masked/background12.jpg',format = 'JPEG')\n",
        "#brighterr.save('background.jpg')\n"
      ]
    },
    {
      "cell_type": "code",
      "execution_count": null,
      "metadata": {
        "id": "WMqPYgpyXZOo"
      },
      "outputs": [],
      "source": [
        "from PIL import Image, ImageDraw, ImageFont\n",
        "\n",
        "# Load the image # Replace with the path to your image\n",
        "image = Image.open('masked/background12.jpg')\n",
        "\n",
        "# Initialize the drawing context\n",
        "draw = ImageDraw.Draw(image)\n",
        "\n",
        "# Define the text to be added\n",
        "text = \"\"\n",
        "\n",
        "# Define the font size and font type\n",
        "font_size = 120\n",
        "font = ImageFont.truetype(\"/content/fonts/Arialn.ttf\", font_size)  # You can specify the path to your desired font file\n",
        "\n",
        "# Determine the position to place the text\n",
        "text_position = (450, 370)  # Adjust the coordinates as needed\n",
        "\n",
        "# Define text color\n",
        "text_color = (51, 25, 0)  # White color in RGB format\n",
        "\n",
        "# Add the text to the image\n",
        "draw.text(text_position, text, fill=text_color, font=font)\n",
        "\n",
        "# Save or display the resulting image\n",
        "image.show()  # Display the image with the added text\n",
        "# image.save(\"output_image_with_text.jpg\")\n",
        "image.save('/content/outputs/background12.jpg') # Save the image with the added text\n"
      ]
    },
    {
      "cell_type": "code",
      "execution_count": null,
      "metadata": {
        "id": "KLFV20GlXZKT"
      },
      "outputs": [],
      "source": [
        "#background 3"
      ]
    },
    {
      "cell_type": "code",
      "execution_count": null,
      "metadata": {
        "id": "2yLb8DVKXZIW"
      },
      "outputs": [],
      "source": [
        "from PIL import Image, ImageFilter, ImageEnhance, ImageOps, ImageChops\n",
        "import PIL\n",
        "\n",
        "foreground_img = Image.open(output_pATH)\n",
        "#foreground_img4 = Image.open('/content/background_images/leaves.png')\n",
        "foreground_img2 = Image.open('/content/background_images/sand.png')\n",
        "background_img = Image.open(\"/content/background_images/plate.jpg\")\n",
        "foreground_img3 = Image.open('/content/background_images/shave.png')\n",
        "f#oreground_img5 = Image.open('/content/background_images/shade.png')\n",
        "foreground_img6 = Image.open('/content/background_images/sand.png')\n",
        "foreground_img7 = Image.open('/content/background_images/Orange.png')\n",
        "#foreground_img8 = Image.open('/content/background_images/smoke.png')\n",
        "\n",
        "new_width = 235\n",
        "new_height = 235\n",
        "\n",
        "new_width1 = 1920\n",
        "new_height1 = 1070\n",
        "\n",
        "new_width2 = 150\n",
        "new_height2 = 150\n",
        "\n",
        "new_width3 = 120\n",
        "new_height3 = 120\n",
        "\n",
        "new_width4 = 2000\n",
        "new_height4 = 900\n",
        "\n",
        "new_width6 = 500\n",
        "new_height6 = 500\n",
        "\n",
        "new_width7 = 140\n",
        "new_height7 = 100\n",
        "\n",
        "new_width8 = 500\n",
        "new_height8 = 500\n",
        "\n",
        "foreground_img = foreground_img.resize((new_width, new_height))\n",
        "foreground_img5 = foreground_img5.resize((new_width1, new_height1))\n",
        "foreground_img7 = foreground_img7.resize((new_width7, new_height7))\n",
        "foreground_img2 = foreground_img2.resize((new_width2, new_height2))\n",
        "foreground_img3 = foreground_img3.resize((new_width3, new_height3))\n",
        "foreground_img4 = foreground_img4.resize((new_width4, new_height4))\n",
        "foreground_img6 = foreground_img6.resize((new_width6, new_height6))\n",
        "#foreground_img8 = foreground_img8.resize((new_width8, new_height8))\n",
        "angle = 0\n",
        "anglee = 0\n",
        "yangl =180\n",
        "angleee = 0\n",
        "yangle = 358\n",
        "#foreground_img1 = foreground_img1.rotate(angle, expand = True)\n",
        "#background_img.paste(foreground_img1, (400,150), foreground_img1)\n",
        "\n",
        "\n",
        "\n",
        "foreground_img3= foreground_img3.rotate(anglee, expand = True)\n",
        "background_img.paste(foreground_img3, (485,440), foreground_img3)\n",
        "\n",
        "#foreground_img5= foreground_img5.rotate(angleee, expand = True)\n",
        "#background_img.paste(foreground_img5, (-540,0), foreground_img5)\n",
        "\n",
        "\n",
        "#foreground_img8= foreground_img8.rotate(yangl, expand = True)\n",
        "#background_img.paste(foreground_img8, (100,107), foreground_img8)\n",
        "\n",
        "foreground_img7 = foreground_img7.rotate(angle, expand = True)\n",
        "background_img.paste(foreground_img7, (420,490), foreground_img7)\n",
        "\n",
        "foreground_img2 = foreground_img2.rotate(angle, expand = True)\n",
        "background_img.paste(foreground_img2, (185,390), foreground_img2)\n",
        "\n",
        "foreground_img6 = foreground_img6.rotate(angle, expand = True)\n",
        "background_img.paste(foreground_img6, (940,1050), foreground_img6)\n",
        "\n",
        "foreground_img = foreground_img.rotate(yangle, expand = True)\n",
        "background_img.paste(foreground_img, (200,320), foreground_img)\n",
        "\n",
        "background_img.save('masked/background13.jpg',format = 'JPEG')\n",
        "\n",
        "#backgroundd = foreground_img.rotate(270, PIL.Image.NEAREST, expand = 1)\n",
        "#vertical_img = img.transpose(method=Image.FLIP_TOP_BOTTOM)\n",
        "#vertical_img.show()\n"
      ]
    },
    {
      "cell_type": "code",
      "source": [
        "image = Image.open('/content/masked/background13.jpg')\n",
        "image_detail = image.filter(ImageFilter.DETAIL)\n",
        "#image_sharp = image_detail.filter(ImageFilter.SHARPEN)\n",
        "image_smooth = image_detail.filter(ImageFilter.SMOOTH)\n",
        "image_detailed = image_smooth.filter(ImageFilter.DETAIL)\n",
        "image_detailedd = image_detailed.filter(ImageFilter.DETAIL)\n",
        "#image_contour = image.filter(ImageFilter.SMOOTH_MORE)\n",
        "#image_edge = image_detailedd.filter(ImageFilter.EDGE_ENHANCE)\n",
        "#image_find_edges = image_sharp.filter(ImageFilter.FIND_EDGES)\n",
        "color_enhancer = ImageEnhance.Color(image_detailedd)\n",
        "sharpness_enhancer = ImageEnhance.Sharpness(image_detailedd)\n",
        "enhanced_image = color_enhancer.enhance(1)\n",
        "\n",
        "brightness_enhancer = ImageEnhance.Brightness(enhanced_image) # contrast\n",
        "brighter = brightness_enhancer.enhance(1)\n",
        "\n",
        "contrast_enhancer = ImageEnhance.Contrast(brighter) # contrast\n",
        "brighterr = contrast_enhancer.enhance(1)\n",
        "\n",
        "brighterr.show()\n",
        "brighterr.save('masked/background13.jpg',format = 'JPEG')\n",
        "#brighterr.save('background.jpg')\n"
      ],
      "metadata": {
        "id": "l1J_COg0MtGp"
      },
      "execution_count": null,
      "outputs": []
    },
    {
      "cell_type": "code",
      "execution_count": null,
      "metadata": {
        "id": "EQRMwJwAXZG3"
      },
      "outputs": [],
      "source": []
    },
    {
      "cell_type": "code",
      "execution_count": null,
      "metadata": {
        "id": "iRX2Iia5XZFs"
      },
      "outputs": [],
      "source": [
        "from PIL import Image, ImageDraw, ImageFont\n",
        "\n",
        "# Load the image # Replace with the path to your image\n",
        "image = Image.open('masked/background13.jpg')\n",
        "\n",
        "# Initialize the drawing context\n",
        "draw = ImageDraw.Draw(image)\n",
        "\n",
        "# Define the text to be added\n",
        "text = \"\"\n",
        "\n",
        "# Define the font size and font type\n",
        "font_size = 120\n",
        "font = ImageFont.truetype(\"/content/fonts/Arialn.ttf\", font_size)  # You can specify the path to your desired font file\n",
        "\n",
        "# Determine the position to place the text\n",
        "text_position = (450, 370)  # Adjust the coordinates as needed\n",
        "\n",
        "# Define text color\n",
        "text_color = (51, 25, 0)  # White color in RGB format\n",
        "\n",
        "# Add the text to the image\n",
        "draw.text(text_position, text, fill=text_color, font=font)\n",
        "\n",
        "# Save or display the resulting image\n",
        "image.show()  # Display the image with the added text\n",
        "# image.save(\"output_image_with_text.jpg\")\n",
        "image.save('/content/outputs/background13.jpg') # Save the image with the added text\n"
      ]
    },
    {
      "cell_type": "code",
      "execution_count": null,
      "metadata": {
        "id": "vY6JLfsRXZDa"
      },
      "outputs": [],
      "source": [
        "#background 14"
      ]
    },
    {
      "cell_type": "code",
      "execution_count": null,
      "metadata": {
        "id": "lfaDGAWnXZCQ"
      },
      "outputs": [],
      "source": [
        "from PIL import Image, ImageFilter, ImageEnhance, ImageOps, ImageChops\n",
        "import PIL\n",
        "\n",
        "foreground_img = Image.open(output_pATH)\n",
        "#foreground_img4 = Image.open('/content/background_images/leaves.png')\n",
        "foreground_img2 = Image.open('/content/background_images/sand.png')\n",
        "background_img = Image.open(\"/content/background_images/platform.jpg\")\n",
        "foreground_img3 = Image.open('/content/background_images/shave.png')\n",
        "foreground_img5 = Image.open('/content/background_images/shavingbowl.png')\n",
        "foreground_img6 = Image.open('/content/background_images/sand.png')\n",
        "foreground_img7 = Image.open('/content/background_images/openbook.png')\n",
        "foreground_img8 = Image.open('/content/background_images/shade.png')\n",
        "\n",
        "new_width = 945\n",
        "new_height = 945\n",
        "\n",
        "new_width1 = 420\n",
        "new_height1 = 470\n",
        "\n",
        "new_width2 = 550\n",
        "new_height2 = 550\n",
        "\n",
        "new_width3 = 420\n",
        "new_height3 = 420\n",
        "\n",
        "new_width4 = 2000\n",
        "new_height4 = 900\n",
        "\n",
        "new_width6 = 500\n",
        "new_height6 = 500\n",
        "\n",
        "new_width7 = 600\n",
        "new_height7 = 280\n",
        "\n",
        "new_width8 = 2000\n",
        "new_height8 = 2000\n",
        "\n",
        "foreground_img = foreground_img.resize((new_width, new_height))\n",
        "foreground_img5 = foreground_img5.resize((new_width1, new_height1))\n",
        "foreground_img7 = foreground_img7.resize((new_width7, new_height7))\n",
        "foreground_img2 = foreground_img2.resize((new_width2, new_height2))\n",
        "foreground_img3 = foreground_img3.resize((new_width3, new_height3))\n",
        "foreground_img4 = foreground_img4.resize((new_width4, new_height4))\n",
        "foreground_img6 = foreground_img6.resize((new_width6, new_height6))\n",
        "foreground_img8 = foreground_img8.resize((new_width8, new_height8))\n",
        "angle = 8\n",
        "anglee = 0\n",
        "yangl = 90\n",
        "angleee = 0\n",
        "yangle = 0\n",
        "#foreground_img1 = foreground_img1.rotate(angle, expand = True)\n",
        "#background_img.paste(foreground_img1, (400,150), foreground_img1)\n",
        "\n",
        "\n",
        "foreground_img8= foreground_img8.rotate(yangl, expand = True)\n",
        "background_img.paste(foreground_img8, (-5,620), foreground_img8)\n",
        "\n",
        "\n",
        "foreground_img3= foreground_img3.rotate(anglee, expand = True)\n",
        "background_img.paste(foreground_img3, (-40,1300), foreground_img3)\n",
        "\n",
        "foreground_img5= foreground_img5.rotate(angleee, expand = True)\n",
        "background_img.paste(foreground_img5, (140,1300), foreground_img5)\n",
        "\n",
        "\n",
        "foreground_img7 = foreground_img7.rotate(angle, expand = True)\n",
        "background_img.paste(foreground_img7, (1520,1400), foreground_img7)\n",
        "\n",
        "foreground_img2 = foreground_img2.rotate(angle, expand = True)\n",
        "background_img.paste(foreground_img2, (475,1450), foreground_img2)\n",
        "\n",
        "foreground_img6 = foreground_img6.rotate(angle, expand = True)\n",
        "background_img.paste(foreground_img6, (1070,1550), foreground_img6)\n",
        "\n",
        "foreground_img = foreground_img.rotate(yangle, expand = True)\n",
        "background_img.paste(foreground_img, (590,1190), foreground_img)\n",
        "\n",
        "background_img.save('masked/background14.jpg',format = 'JPEG')\n",
        "\n",
        "#backgroundd = foreground_img.rotate(270, PIL.Image.NEAREST, expand = 1)\n",
        "#vertical_img = img.transpose(method=Image.FLIP_TOP_BOTTOM)\n",
        "#vertical_img.show()\n"
      ]
    },
    {
      "cell_type": "code",
      "execution_count": null,
      "metadata": {
        "id": "J5wEZI7oXZAN"
      },
      "outputs": [],
      "source": [
        "image = Image.open('/content/masked/background14.jpg')\n",
        "image_detail = image.filter(ImageFilter.DETAIL)\n",
        "#image_sharp = image_detail.filter(ImageFilter.SHARPEN)\n",
        "image_smooth = image_detail.filter(ImageFilter.SMOOTH)\n",
        "image_detailed = image_smooth.filter(ImageFilter.DETAIL)\n",
        "image_detailedd = image_detailed.filter(ImageFilter.DETAIL)\n",
        "#image_contour = image.filter(ImageFilter.SMOOTH_MORE)\n",
        "#image_edge = image_detailedd.filter(ImageFilter.EDGE_ENHANCE)\n",
        "#image_find_edges = image_sharp.filter(ImageFilter.FIND_EDGES)\n",
        "color_enhancer = ImageEnhance.Color(image_detailedd)\n",
        "sharpness_enhancer = ImageEnhance.Sharpness(image_detailedd)\n",
        "enhanced_image = color_enhancer.enhance(1)\n",
        "\n",
        "brightness_enhancer = ImageEnhance.Brightness(enhanced_image) # contrast\n",
        "brighter = brightness_enhancer.enhance(1)\n",
        "\n",
        "contrast_enhancer = ImageEnhance.Contrast(brighter) # contrast\n",
        "brighterr = contrast_enhancer.enhance(1)\n",
        "\n",
        "brighterr.show()\n",
        "brighterr.save('masked/background14.jpg',format = 'JPEG')\n",
        "#brighterr.save('background.jpg')\n"
      ]
    },
    {
      "cell_type": "code",
      "source": [
        "from PIL import Image, ImageEnhance\n",
        "\n",
        "# Load the image\n",
        "image_path = \"masked/background14.jpg\"  # Replace with the path to your image\n",
        "image = Image.open(image_path)\n",
        "\n",
        "# Adjust brightness\n",
        "brightness_factor = 1 # Increase or decrease as needed (1.0 means no change)\n",
        "enhancer_brightness = ImageEnhance.Brightness(image)\n",
        "image = enhancer_brightness.enhance(brightness_factor)\n",
        "\n",
        "# Adjust contrast\n",
        "contrast_factor = 1  # Increase or decrease as needed (1.0 means no change)\n",
        "enhancer_contrast = ImageEnhance.Contrast(image)\n",
        "image = enhancer_contrast.enhance(contrast_factor)\n",
        "\n",
        "# Save or display the resulting image\n",
        "image.show()  # Display the image\n",
        "image.save('masked/background14.jpg',format = 'JPEG')  # Save the image\n"
      ],
      "metadata": {
        "id": "5LMJnA1QY7fW"
      },
      "execution_count": null,
      "outputs": []
    },
    {
      "cell_type": "code",
      "execution_count": null,
      "metadata": {
        "id": "gcVJ2M60XY-y"
      },
      "outputs": [],
      "source": [
        "from PIL import Image, ImageDraw, ImageFont\n",
        "\n",
        "# Load the image # Replace with the path to your image\n",
        "image = Image.open('masked/background14.jpg')\n",
        "\n",
        "# Initialize the drawing context\n",
        "draw = ImageDraw.Draw(image)\n",
        "\n",
        "# Define the text to be added\n",
        "text = \"SHOES'\"\n",
        "\n",
        "# Define the font size and font type\n",
        "font_size = 140\n",
        "font = ImageFont.truetype(\"/content/fonts/Halogen (1).ttf\", font_size)  # You can specify the path to your desired font file\n",
        "\n",
        "# Determine the position to place the text\n",
        "text_position = (870, 390)  # Adjust the coordinates as needed\n",
        "\n",
        "# Define text color\n",
        "text_color = (51, 25, 0)  # White color in RGB format\n",
        "\n",
        "# Add the text to the image\n",
        "draw.text(text_position, text, fill=text_color, font=font)\n",
        "\n",
        "# Save or display the resulting image\n",
        "image.show()  # Display the image with the added text\n",
        "# image.save(\"output_image_with_text.jpg\")\n",
        "image.save('/content/outputs/background14.jpg') # Save the image with the added text\n"
      ]
    },
    {
      "cell_type": "code",
      "execution_count": null,
      "metadata": {
        "id": "x4O9uioyXY8-"
      },
      "outputs": [],
      "source": [
        "#background 15"
      ]
    },
    {
      "cell_type": "code",
      "execution_count": null,
      "metadata": {
        "id": "uexU-iDcXY7K"
      },
      "outputs": [],
      "source": [
        "from PIL import Image, ImageFilter, ImageEnhance, ImageOps, ImageChops\n",
        "import PIL\n",
        "\n",
        "foreground_img = Image.open(output_pATH)\n",
        "background_img = Image.open(\"/content/background_images/broawn.jpg\")\n",
        "\n",
        "foreground_img2 = Image.open('/content/background_images/shadow2.png')\n",
        "foreground_img3 = Image.open('/content/background_images/shavingbowl.png')\n",
        "#foreground_img4 = Image.open('/content/background_images/laid.png')\n",
        "foreground_img5 = Image.open('/content/background_images/blop.png')\n",
        "foreground_img6 = Image.open('/content/background_images/sand.png')\n",
        "foreground_img7 = Image.open('/content/background_images/shadow2.png')\n",
        "foreground_img8 = Image.open('/content/background_images/shade.png')\n",
        "foreground_img9 = Image.open('/content/background_images/suitcase.png')\n",
        "foreground_img10 = Image.open('/content/background_images/shadow2.png')\n",
        "foreground_img11 = Image.open('/content/background_images/sunlight.png')\n",
        "#foreground_img12= Image.open('/content/background_images/sunn.png')\n",
        "\n",
        "new_width = 600\n",
        "new_height = 600\n",
        "\n",
        "new_width1 = 220\n",
        "new_height1 = 270\n",
        "\n",
        "new_width2 = 500\n",
        "new_height2 = 500\n",
        "\n",
        "new_width3 = 240\n",
        "new_height3 = 240\n",
        "\n",
        "new_width9 = 600\n",
        "new_height9 = 600\n",
        "\n",
        "new_width5 = 220\n",
        "new_height5 = 100\n",
        "\n",
        "new_width6 = 300\n",
        "new_height6 = 300\n",
        "\n",
        "new_width7 = 500\n",
        "new_height7 = 500\n",
        "\n",
        "new_width8 = 1000\n",
        "new_height8 = 1600\n",
        "\n",
        "new_width10 = 270\n",
        "new_height10 = 270\n",
        "\n",
        "new_width11 = 1020\n",
        "new_height11 = 970\n",
        "\n",
        "foreground_img = foreground_img.resize((new_width, new_height))\n",
        "foreground_imgg = ImageOps.mirror(foreground_img)\n",
        "\n",
        "foreground_img2 = foreground_img2.resize((new_width2, new_height2))\n",
        "foreground_img3 = foreground_img3.resize((new_width3, new_height3))\n",
        "foreground_img9 = foreground_img9.resize((new_width9, new_height9))\n",
        "foreground_img5 = foreground_img5.resize((new_width5, new_height5))\n",
        "foreground_img6 = foreground_img6.resize((new_width6, new_height6))\n",
        "foreground_img7 = foreground_img7.resize((new_width7, new_height7))\n",
        "foreground_img8 = foreground_img8.resize((new_width8, new_height8))\n",
        "foreground_img10 = foreground_img10.resize((new_width10, new_height10))\n",
        "foreground_img11 = foreground_img11.resize((new_width11, new_height11))\n",
        "#foreground_img12 = foreground_img12.resize((new_width12, new_height12))\n",
        "#foreground_img9 = foreground_img9.resize((new_width9, new_height9))\n",
        "angle3 = 8\n",
        "angle = 8\n",
        "angle2 = 4\n",
        "anglee = 0\n",
        "yangl = 4\n",
        "angleee = 0\n",
        "yangle = 39\n",
        "angle5 = 90\n",
        "angle6 =0\n",
        "angle11 = 90\n",
        "angle12 = 0\n",
        "#foreground_img1 = foreground_img1.rotate(angle, expand = True)\n",
        "#background_img.paste(foreground_img1, (400,150), foreground_img1)\n",
        "\n",
        "\n",
        "foreground_img11 = foreground_img11.rotate(angle2, expand = True)\n",
        "background_img.paste(foreground_img11, (-470,-280), foreground_img11)\n",
        "\n",
        "foreground_img2 = foreground_img2.rotate(angle2, expand = True)\n",
        "background_img.paste(foreground_img2, (99,1120), foreground_img2)\n",
        "\n",
        "foreground_img6 = foreground_img6.rotate(angle, expand = True)\n",
        "background_img.paste(foreground_img6, (182,1250), foreground_img6)\n",
        "\n",
        "foreground_img7= foreground_img7.rotate(yangl, expand = True)\n",
        "background_img.paste(foreground_img7, (216,1140), foreground_img7)\n",
        "\n",
        "foreground_img8 = foreground_img8.rotate(angle5, expand = True)\n",
        "background_img.paste(foreground_img8, (1,814), foreground_img8)\n",
        "\n",
        "\n",
        "\n",
        "foreground_img10 = foreground_img10.rotate(anglee, expand = True)\n",
        "background_img.paste(foreground_img10, (67,1149), foreground_img10)\n",
        "\n",
        "foreground_img3= foreground_img3.rotate(anglee, expand = True)\n",
        "background_img.paste(foreground_img3, (35,1135), foreground_img3)\n",
        "\n",
        "foreground_img5 = foreground_img5.rotate(angle6, expand = True)\n",
        "background_img.paste(foreground_img5, (40,1164), foreground_img5)\n",
        "\n",
        "foreground_img9= foreground_img9.rotate(angleee, expand = True)\n",
        "background_img.paste(foreground_img9, (599,955), foreground_img9)\n",
        "\n",
        "foreground_imgg = foreground_imgg.rotate(yangle, expand = True)\n",
        "background_img.paste(foreground_imgg, (99,840), foreground_imgg)\n",
        "\n",
        "#foreground_img12 = foreground_img12.rotate(angle2, expand = True)\n",
        "#background_img.paste(foreground_img12, (70,28), foreground_img12)\n",
        "\n",
        "\n",
        "background_img.save('masked/background15.jpg',format = 'JPEG')\n",
        "\n",
        "#backgroundd = foreground_img.rotate(270, PIL.Image.NEAREST, expand = 1)\n",
        "#vertical_img = img.transpose(method=Image.FLIP_TOP_BOTTOM)\n",
        "#vertical_img.show()\n"
      ]
    },
    {
      "cell_type": "code",
      "execution_count": null,
      "metadata": {
        "id": "Fuhc4E-6XY5N"
      },
      "outputs": [],
      "source": [
        "image = Image.open('/content/masked/background15.jpg')\n",
        "image_detail = image.filter(ImageFilter.DETAIL)\n",
        "#image_sharp = image_detail.filter(ImageFilter.SHARPEN)\n",
        "image_smooth = image_detail.filter(ImageFilter.SMOOTH)\n",
        "image_detailed = image_smooth.filter(ImageFilter.DETAIL)\n",
        "image_detailedd = image_detailed.filter(ImageFilter.DETAIL)\n",
        "#image_contour = image.filter(ImageFilter.SMOOTH_MORE)\n",
        "#image_edge = image_detailedd.filter(ImageFilter.EDGE_ENHANCE)\n",
        "#image_find_edges = image_sharp.filter(ImageFilter.FIND_EDGES)\n",
        "color_enhancer = ImageEnhance.Color(image_detailedd)\n",
        "sharpness_enhancer = ImageEnhance.Sharpness(image_detailedd)\n",
        "enhanced_image = color_enhancer.enhance(1)\n",
        "\n",
        "brightness_enhancer = ImageEnhance.Brightness(enhanced_image) # contrast\n",
        "brighter = brightness_enhancer.enhance(1)\n",
        "\n",
        "contrast_enhancer = ImageEnhance.Contrast(brighter) # contrast\n",
        "brighterr = contrast_enhancer.enhance(1)\n",
        "\n",
        "brighterr.show()\n",
        "brighterr.save('masked/background15.jpg',format = 'JPEG')\n",
        "#brighterr.save('background.jpg')\n"
      ]
    },
    {
      "cell_type": "code",
      "execution_count": null,
      "metadata": {
        "id": "th8Gv7KPXY3m"
      },
      "outputs": [],
      "source": [
        "from PIL import Image, ImageEnhance\n",
        "\n",
        "# Load the image\n",
        "image_path = \"masked/background15.jpg\"  # Replace with the path to your image\n",
        "image = Image.open(image_path)\n",
        "\n",
        "# Adjust brightness\n",
        "brightness_factor = 1 # Increase or decrease as needed (1.0 means no change)\n",
        "enhancer_brightness = ImageEnhance.Brightness(image)\n",
        "image = enhancer_brightness.enhance(brightness_factor)\n",
        "\n",
        "# Adjust contrast\n",
        "contrast_factor = 1  # Increase or decrease as needed (1.0 means no change)\n",
        "enhancer_contrast = ImageEnhance.Contrast(image)\n",
        "image = enhancer_contrast.enhance(contrast_factor)\n",
        "\n",
        "# Save or display the resulting image\n",
        "image.show()  # Display the image\n",
        "image.save('/content/outputs/background15.jpg')  # Save the image\n"
      ]
    },
    {
      "cell_type": "code",
      "source": [
        "from PIL import Image, ImageDraw, ImageFont\n",
        "\n",
        "# Load the image # Replace with the path to your image\n",
        "image = Image.open('masked/background15.jpg')\n",
        "\n",
        "# Initialize the drawing context\n",
        "draw = ImageDraw.Draw(image)\n",
        "\n",
        "# Define the text to be added\n",
        "text = \"SHOES'\"\n",
        "\n",
        "# Define the font size and font type\n",
        "font_size = 185\n",
        "font = ImageFont.truetype(\"/content/fonts/CANDY___.otf\", font_size)  # You can specify the path to your desired font file\n",
        "\n",
        "# Determine the position to place the text\n",
        "text_position = (490, 390)  # Adjust the coordinates as needed\n",
        "\n",
        "# Define text color\n",
        "text_color = (51, 25, 0)  # White color in RGB format\n",
        "\n",
        "# Add the text to the image\n",
        "draw.text(text_position, text, fill=text_color, font=font)\n",
        "\n",
        "# Save or display the resulting image\n",
        "image.show()  # Display the image with the added text\n",
        "# image.save(\"output_image_with_text.jpg\")\n",
        "image.save('/content/outputs/background15.jpg') # Save the image with the added text\n"
      ],
      "metadata": {
        "id": "CQCGkBioRQ0U"
      },
      "execution_count": null,
      "outputs": []
    },
    {
      "cell_type": "code",
      "execution_count": null,
      "metadata": {
        "id": "kyzR8q4nXY1u"
      },
      "outputs": [],
      "source": [
        "#background 16"
      ]
    },
    {
      "cell_type": "code",
      "execution_count": null,
      "metadata": {
        "id": "sMW2oZ-qXYz1"
      },
      "outputs": [],
      "source": [
        "img3_url = \"/content/original/Product2.png\""
      ]
    },
    {
      "cell_type": "code",
      "execution_count": null,
      "metadata": {
        "id": "59U-zQZ0XYyA"
      },
      "outputs": [],
      "source": [
        "img_name = img_url.split('/')[-1]"
      ]
    },
    {
      "cell_type": "code",
      "execution_count": null,
      "metadata": {
        "id": "-t-YXGwuXYwb"
      },
      "outputs": [],
      "source": [
        "img = Image.open(\"/content/original/Product2.png\")\n"
      ]
    },
    {
      "cell_type": "code",
      "execution_count": null,
      "metadata": {
        "id": "d-deRvm_XYug"
      },
      "outputs": [],
      "source": [
        "img.save('original/' +img_name, format = 'png')"
      ]
    },
    {
      "cell_type": "code",
      "execution_count": null,
      "metadata": {
        "id": "C6SO66CCXYsy"
      },
      "outputs": [],
      "source": [
        "with open(output_pATH, 'wb') as f:\n",
        "  input = open('original/' +img_name, 'rb').read()\n",
        "  subject = remove(input)\n",
        "  f.write(subject)\n"
      ]
    },
    {
      "cell_type": "code",
      "execution_count": null,
      "metadata": {
        "id": "-rmqgfKHXYq3"
      },
      "outputs": [],
      "source": [
        "background_img = Image.open(\"/content/background_images/white.jpg\")\n",
        "background_img = background_img.resize((img.width, img.height))\n",
        "foreground_img = Image.open(output_pATH)\n",
        "background_img.paste(foreground_img,(440,-70),foreground_img)\n",
        "background_img.save('masked/background16.jpg',format = 'jpeg')"
      ]
    },
    {
      "cell_type": "code",
      "execution_count": null,
      "metadata": {
        "id": "ORmTIPm0XYpG"
      },
      "outputs": [],
      "source": [
        "from PIL import Image, ImageFilter, ImageEnhance, ImageOps, ImageChops\n",
        "import PIL\n",
        "\n",
        "foreground_img = Image.open(output_pATH)\n",
        "#foreground_img4 = Image.open('/content/background_images/leaves.png')\n",
        "foreground_img2 = Image.open('/content/background_images/flower.png')\n",
        "background_img = Image.open(\"/content/background_images/backdrop.jpg\")\n",
        "foreground_img3 = Image.open('/content/background_images/flower.png')\n",
        "foreground_img5 = Image.open('/content/background_images/shadow.png')\n",
        "foreground_img6 = Image.open('/content/background_images/cube.png')\n",
        "#foreground_img7 = Image.open('/content/background_images/stones.png')\n",
        "#foreground_img8 = Image.open('/content/background_images/vase.png')\n",
        "foreground_img9 = Image.open('/content/background_images/mirrorbokeh.png')\n",
        "\n",
        "new_width = 450\n",
        "new_height = 450\n",
        "\n",
        "new_width1 = 1230\n",
        "new_height1 = 750\n",
        "\n",
        "new_width2 = 350\n",
        "new_height2 = 400\n",
        "\n",
        "new_width3 = 310\n",
        "new_height3 = 250\n",
        "\n",
        "new_width4 = 2000\n",
        "new_height4 = 1000\n",
        "\n",
        "new_width6 = 1900\n",
        "new_height6 = 700\n",
        "\n",
        "#new_width7 = 700\n",
        "#new_height7 = 700\n",
        "\n",
        "new_width11 = 1230\n",
        "new_height11 = 750\n",
        "\n",
        "\n",
        "new_width5 = 400\n",
        "new_height5 = 443\n",
        "\n",
        "\n",
        "foreground_img6 = foreground_img6.resize((new_width6, new_height6))\n",
        "foreground_imgg = ImageOps.mirror(foreground_img6)\n",
        "\n",
        "foreground_img = foreground_img.resize((new_width, new_height))\n",
        "foreground_img5 = foreground_img5.resize((new_width5, new_height5))\n",
        "#foreground_img7 = foreground_img7.resize((new_width7, new_height7))\n",
        "foreground_img2 = foreground_img2.resize((new_width2, new_height2))\n",
        "foreground_img3 = foreground_img3.resize((new_width3, new_height3))\n",
        "foreground_img4 = foreground_img4.resize((new_width4, new_height4))\n",
        "#foreground_img6 = foreground_img6.resize((new_width6, new_height6))\n",
        "#foreground_img8 = foreground_img8.resize((new_width1, new_height1))\n",
        "foreground_img9 = foreground_img9.resize((new_width12, new_height12))\n",
        "\n",
        "angle1 = 345\n",
        "angle = 0\n",
        "anglee = 0\n",
        "anglee3 = 340\n",
        "yangl =90\n",
        "angle2 = 320\n",
        "#foreground_img1 = foreground_img1.rotate(angle, expand = True)\n",
        "#background_img.paste(foreground_img1, (400,150), foreground_img1)\n",
        "\n",
        "foreground_img9= foreground_img9.rotate(anglee, expand = True)\n",
        "background_img.paste(foreground_img9, (0,0), foreground_img9)\n",
        "\n",
        "#foreground_img8= foreground_img8.rotate(yangl, expand = True)\n",
        "#background_img.paste(foreground_img8, (0,0), foreground_img8)\n",
        "\n",
        "#foreground_img7 = foreground_img7.rotate(angle, expand = True)\n",
        "#background_img.paste(foreground_img7, (694,1070), foreground_img7)\n",
        "\n",
        "foreground_imgg = foreground_imgg.rotate(angle, expand = True)\n",
        "background_img.paste(foreground_imgg, (1150,1100), foreground_imgg)\n",
        "\n",
        "foreground_img5= foreground_img5.rotate(anglee, expand = True)\n",
        "background_img.paste(foreground_img5, (1550,980), foreground_img5)\n",
        "\n",
        "\n",
        "foreground_img3= foreground_img3.rotate(anglee3, expand = True)\n",
        "background_img.paste(foreground_img3, (1070,1440), foreground_img3)\n",
        "\n",
        "foreground_img2 = foreground_img2.rotate(angle2, expand = True)\n",
        "background_img.paste(foreground_img2, (1840,1390), foreground_img2)\n",
        "\n",
        "foreground_img = foreground_img.rotate(angle1, expand = True)\n",
        "background_img.paste(foreground_img, (1400,800), foreground_img)\n",
        "\n",
        "background_img.save('masked/background16.jpg',format = 'JPEG')\n",
        "\n",
        "#backgroundd = foreground_img.rotate(270, PIL.Image.NEAREST, expand = 1)\n",
        "#vertical_img = img.transpose(method=Image.FLIP_TOP_BOTTOM)\n",
        "#vertical_img.show()\n",
        "\n",
        "\n"
      ]
    },
    {
      "cell_type": "code",
      "execution_count": null,
      "metadata": {
        "id": "qcBzQng0XYnR"
      },
      "outputs": [],
      "source": [
        "image = Image.open('/content/masked/background16.jpg')\n",
        "image_detail = image.filter(ImageFilter.DETAIL)\n",
        "#image_sharp = image_detail.filter(ImageFilter.SHARPEN)\n",
        "image_smooth = image_detail.filter(ImageFilter.SMOOTH)\n",
        "image_detailed = image_smooth.filter(ImageFilter.DETAIL)\n",
        "image_detailedd = image_detailed.filter(ImageFilter.DETAIL)\n",
        "#image_contour = image.filter(ImageFilter.SMOOTH_MORE)\n",
        "#image_edge = image_detailedd.filter(ImageFilter.EDGE_ENHANCE)\n",
        "#image_find_edges = image_sharp.filter(ImageFilter.FIND_EDGES)\n",
        "color_enhancer = ImageEnhance.Color(image_detailedd)\n",
        "sharpness_enhancer = ImageEnhance.Sharpness(image_detailedd)\n",
        "enhanced_image = color_enhancer.enhance(1)\n",
        "\n",
        "brightness_enhancer = ImageEnhance.Brightness(enhanced_image) # contrast\n",
        "brighter = brightness_enhancer.enhance(1)\n",
        "\n",
        "contrast_enhancer = ImageEnhance.Contrast(brighter) # contrast\n",
        "brighterr = contrast_enhancer.enhance(1)\n",
        "\n",
        "brighterr.show()\n",
        "brighterr.save('masked/background16.jpg',format = 'JPEG')\n",
        "#brighterr.save('background.jpg')\n"
      ]
    },
    {
      "cell_type": "code",
      "execution_count": null,
      "metadata": {
        "id": "CiukDox8XYlk"
      },
      "outputs": [],
      "source": [
        "from PIL import Image, ImageEnhance\n",
        "\n",
        "# Load the image\n",
        "image_path = \"masked/background16.jpg\"  # Replace with the path to your image\n",
        "image = Image.open(image_path)\n",
        "\n",
        "# Adjust brightness\n",
        "brightness_factor = 1 # Increase or decrease as needed (1.0 means no change)\n",
        "enhancer_brightness = ImageEnhance.Brightness(image)\n",
        "image = enhancer_brightness.enhance(brightness_factor)\n",
        "\n",
        "# Adjust contrast\n",
        "contrast_factor = 1  # Increase or decrease as needed (1.0 means no change)\n",
        "enhancer_contrast = ImageEnhance.Contrast(image)\n",
        "image = enhancer_contrast.enhance(contrast_factor)\n",
        "\n",
        "# Save or display the resulting image\n",
        "image.show()  # Display the image\n",
        "image.save('/content/outputs/background16.jpg')  # Save the image\n"
      ]
    },
    {
      "cell_type": "code",
      "execution_count": null,
      "metadata": {
        "id": "rNOgyT5tXYjw"
      },
      "outputs": [],
      "source": [
        "#background 17"
      ]
    },
    {
      "cell_type": "code",
      "execution_count": null,
      "metadata": {
        "id": "zmS0ug3aXYh9"
      },
      "outputs": [],
      "source": []
    },
    {
      "cell_type": "code",
      "execution_count": null,
      "metadata": {
        "id": "TgQUG3M8XYf2"
      },
      "outputs": [],
      "source": [
        "from PIL import Image, ImageFilter, ImageEnhance, ImageOps, ImageChops\n",
        "import PIL\n",
        "\n",
        "foreground_img = Image.open(output_pATH)\n",
        "foreground_img4 = Image.open('/content/background_images/yellow.png')\n",
        "foreground_img2 = Image.open('/content/background_images/flower.png')\n",
        "background_img = Image.open(\"/content/background_images/bokeh3.jpg\")\n",
        "foreground_img3 = Image.open('/content/background_images/flower.png')\n",
        "foreground_img5 = Image.open('/content/background_images/shadow.png')\n",
        "foreground_img6 = Image.open('/content/background_images/vase.png')\n",
        "foreground_img7 = Image.open('/content/background_images/shadow.png')\n",
        "foreground_img8 = Image.open('/content/background_images/shadow.png')\n",
        "foreground_img9 = Image.open('/content/background_images/log.png')\n",
        "foreground_img10 = Image.open('/content/background_images/shadow.png')\n",
        "\n",
        "\n",
        "new_width = 450\n",
        "new_height = 450\n",
        "\n",
        "new_width1 = 1230\n",
        "new_height1 = 750\n",
        "\n",
        "new_width2 = 250\n",
        "new_height2 = 300\n",
        "\n",
        "new_width3 = 310\n",
        "new_height3 = 250\n",
        "\n",
        "new_width4 = 2000\n",
        "new_height4 = 1000\n",
        "\n",
        "new_width6 = 500\n",
        "new_height6 = 700\n",
        "\n",
        "new_width7 = 400\n",
        "new_height7 = 400\n",
        "\n",
        "new_width8 = 600\n",
        "new_height8 = 400\n",
        "\n",
        "new_width10= 400\n",
        "new_height10 = 400\n",
        "\n",
        "new_width9 = 1530\n",
        "new_height9 = 1020\n",
        "\n",
        "\n",
        "new_width5 = 400\n",
        "new_height5 = 443\n",
        "\n",
        "\n",
        "foreground_img6 = foreground_img6.resize((new_width6, new_height6))\n",
        "foreground_imgg = ImageOps.mirror(foreground_img6)\n",
        "\n",
        "foreground_img = foreground_img.resize((new_width, new_height))\n",
        "foreground_img5 = foreground_img5.resize((new_width5, new_height5))\n",
        "foreground_img7 = foreground_img7.resize((new_width7, new_height7))\n",
        "foreground_img2 = foreground_img2.resize((new_width2, new_height2))\n",
        "foreground_img3 = foreground_img3.resize((new_width3, new_height3))\n",
        "foreground_img4 = foreground_img4.resize((new_width4, new_height4))\n",
        "foreground_img8 = foreground_img8.resize((new_width8, new_height8))\n",
        "foreground_img10 = foreground_img10.resize((new_width10, new_height10))\n",
        "foreground_img9 = foreground_img9.resize((new_width9, new_height9))\n",
        "\n",
        "angle1 = 345\n",
        "angle = 0\n",
        "anglee = 0\n",
        "anglee3 = 340\n",
        "yangl =90\n",
        "angle2 = 320\n",
        "angle7 = 2\n",
        "#foreground_img1 = foreground_img1.rotate(angle, expand = True)\n",
        "#background_img.paste(foreground_img1, (400,150), foreground_img1)\n",
        "\n",
        "foreground_img9= foreground_img9.rotate(anglee, expand = True)\n",
        "background_img.paste(foreground_img9, (0,140), foreground_img9)\n",
        "\n",
        "foreground_img8= foreground_img8.rotate(angle, expand = True)\n",
        "background_img.paste(foreground_img8, (90,555), foreground_img8)\n",
        "\n",
        "\n",
        "foreground_imgg = foreground_imgg.rotate(angle, expand = True)\n",
        "background_img.paste(foreground_imgg, (-45,59), foreground_imgg)\n",
        "\n",
        "foreground_img5= foreground_img5.rotate(anglee, expand = True)\n",
        "background_img.paste(foreground_img5, (150,980), foreground_img5)\n",
        "\n",
        "\n",
        "\n",
        "foreground_img10= foreground_img10.rotate(angle, expand = True)\n",
        "background_img.paste(foreground_img10, (1150,620), foreground_img10)\n",
        "\n",
        "foreground_img3= foreground_img3.rotate(anglee3, expand = True)\n",
        "background_img.paste(foreground_img3, (1207,564), foreground_img3)\n",
        "\n",
        "\n",
        "foreground_img2 = foreground_img2.rotate(angle2, expand = True)\n",
        "background_img.paste(foreground_img2, (214,479), foreground_img2)\n",
        "\n",
        "\n",
        "\n",
        "foreground_img7 = foreground_img7.rotate(angle7, expand = True)\n",
        "background_img.paste(foreground_img7, (709,600), foreground_img7)\n",
        "\n",
        "foreground_img = foreground_img.rotate(angle1, expand = True)\n",
        "background_img.paste(foreground_img, (600,420), foreground_img)\n",
        "\n",
        "background_img.save('masked/background17.jpg',format = 'JPEG')\n",
        "\n",
        "#backgroundd = foreground_img.rotate(270, PIL.Image.NEAREST, expand = 1)"
      ]
    },
    {
      "cell_type": "code",
      "execution_count": null,
      "metadata": {
        "id": "bfXSGERuXYeS"
      },
      "outputs": [],
      "source": [
        "image = Image.open('/content/masked/background17.jpg')\n",
        "image_detail = image.filter(ImageFilter.DETAIL)\n",
        "#image_sharp = image_detail.filter(ImageFilter.SHARPEN)\n",
        "image_smooth = image_detail.filter(ImageFilter.SMOOTH)\n",
        "image_detailed = image_smooth.filter(ImageFilter.DETAIL)\n",
        "image_detailedd = image_detailed.filter(ImageFilter.DETAIL)\n",
        "#image_contour = image.filter(ImageFilter.SMOOTH_MORE)\n",
        "#image_edge = image_detailedd.filter(ImageFilter.EDGE_ENHANCE)\n",
        "#image_find_edges = image_sharp.filter(ImageFilter.FIND_EDGES)\n",
        "color_enhancer = ImageEnhance.Color(image_detailedd)\n",
        "sharpness_enhancer = ImageEnhance.Sharpness(image_detailedd)\n",
        "enhanced_image = color_enhancer.enhance(1.3)\n",
        "\n",
        "brightness_enhancer = ImageEnhance.Brightness(enhanced_image) # contrast\n",
        "brighter = brightness_enhancer.enhance(1)\n",
        "\n",
        "contrast_enhancer = ImageEnhance.Contrast(brighter) # contrast\n",
        "brighterr = contrast_enhancer.enhance(1)\n",
        "\n",
        "brighterr.show()\n",
        "brighterr.save('masked/background17.jpg',format = 'JPEG')\n",
        "#brighterr.save('background.jpg')\n"
      ]
    },
    {
      "cell_type": "code",
      "execution_count": null,
      "metadata": {
        "id": "WvaBi7skXYch"
      },
      "outputs": [],
      "source": [
        "from PIL import Image, ImageEnhance\n",
        "\n",
        "# Load the image\n",
        "image_path = \"masked/background17.jpg\"  # Replace with the path to your image\n",
        "image = Image.open(image_path)\n",
        "\n",
        "# Adjust brightness\n",
        "brightness_factor = 1 # Increase or decrease as needed (1.0 means no change)\n",
        "enhancer_brightness = ImageEnhance.Brightness(image)\n",
        "image = enhancer_brightness.enhance(brightness_factor)\n",
        "\n",
        "# Adjust contrast\n",
        "contrast_factor = 1.2  # Increase or decrease as needed (1.0 means no change)\n",
        "enhancer_contrast = ImageEnhance.Contrast(image)\n",
        "image = enhancer_contrast.enhance(contrast_factor)\n",
        "\n",
        "# Save or display the resulting image\n",
        "image.show()  # Display the image\n",
        "image.save('/content/outputs/background17.jpg')  # Save the image\n"
      ]
    },
    {
      "cell_type": "code",
      "execution_count": null,
      "metadata": {
        "id": "n04QDqFAXYav"
      },
      "outputs": [],
      "source": [
        "#background 18"
      ]
    },
    {
      "cell_type": "code",
      "execution_count": null,
      "metadata": {
        "id": "kTfkuertXYY_"
      },
      "outputs": [],
      "source": [
        "from PIL import Image, ImageFilter, ImageEnhance, ImageOps, ImageChops\n",
        "import PIL\n",
        "\n",
        "foreground_img = Image.open(output_pATH)\n",
        "foreground_img4 = Image.open('/content/background_images/wood-slab-png-4.png')\n",
        "foreground_img2 = Image.open('/content/background_images/flower.png')\n",
        "background_img = Image.open(\"/content/background_images/Purple.jpg\")\n",
        "foreground_img3 = Image.open('/content/background_images/flower.png')\n",
        "foreground_img5 = Image.open('/content/background_images/shadow4.png')\n",
        "foreground_img6 = Image.open('/content/background_images/whitebokeh.png')\n",
        "foreground_img7 = Image.open('/content/background_images/shadow2.png')\n",
        "foreground_img8 = Image.open('/content/background_images/shadow2.png')\n",
        "foreground_img9 = Image.open('/content/background_images/lensbokeh.png')\n",
        "foreground_img10 = Image.open('/content/background_images/shadow2.png')\n",
        "\n",
        "\n",
        "new_width = 450\n",
        "new_height = 450\n",
        "\n",
        "new_width1 = 1230\n",
        "new_height1 = 750\n",
        "\n",
        "new_width2 = 320\n",
        "new_height2 = 260\n",
        "\n",
        "new_width3 = 310\n",
        "new_height3 = 250\n",
        "\n",
        "new_width4 = 1080\n",
        "new_height4 = 1800\n",
        "\n",
        "new_width6 = 1990\n",
        "new_height6 = 900\n",
        "\n",
        "new_width7 = 400\n",
        "new_height7 = 400\n",
        "\n",
        "new_width8 = 400\n",
        "new_height8 = 400\n",
        "\n",
        "new_width10= 400\n",
        "new_height10 = 400\n",
        "\n",
        "new_width9 = 2530\n",
        "new_height9 = 1520\n",
        "\n",
        "\n",
        "new_width5 = 400\n",
        "new_height5 = 443\n",
        "\n",
        "\n",
        "foreground_img6 = foreground_img6.resize((new_width6, new_height6))\n",
        "#foreground_imgg = ImageOps.mirror(foreground_img6)\n",
        "\n",
        "foreground_img = foreground_img.resize((new_width, new_height))\n",
        "foreground_img5 = foreground_img5.resize((new_width5, new_height5))\n",
        "foreground_img7 = foreground_img7.resize((new_width7, new_height7))\n",
        "foreground_img2 = foreground_img2.resize((new_width2, new_height2))\n",
        "foreground_img3 = foreground_img3.resize((new_width3, new_height3))\n",
        "foreground_img4 = foreground_img4.resize((new_width4, new_height4))\n",
        "foreground_img8 = foreground_img8.resize((new_width8, new_height8))\n",
        "foreground_img10 = foreground_img10.resize((new_width10, new_height10))\n",
        "foreground_img9 = foreground_img9.resize((new_width9, new_height9))\n",
        "\n",
        "angle1 = 105\n",
        "angle = 0\n",
        "anglee = 0\n",
        "anglee3 = 340\n",
        "yangl =90\n",
        "angle2 = 335\n",
        "angle7 = 2\n",
        "anglee4 = 45\n",
        "#foreground_img1 = foreground_img1.rotate(angle, expand = True)\n",
        "#background_img.paste(foreground_img1, (400,150), foreground_img1)\n",
        "\n",
        "\n",
        "foreground_img9 = foreground_img9.rotate(angle7, expand = True)\n",
        "background_img.paste(foreground_img9, (9,-40), foreground_img9)\n",
        "\n",
        "foreground_img6 = foreground_img6.rotate(angle, expand = True)\n",
        "background_img.paste(foreground_img6, (-205,-49), foreground_img6)\n",
        "\n",
        "\n",
        "foreground_img4= foreground_img4.rotate(anglee4, expand = True)\n",
        "background_img.paste(foreground_img4, (-1000,-1800), foreground_img4)\n",
        "\n",
        "\n",
        "foreground_img8= foreground_img8.rotate(angle, expand = True)\n",
        "background_img.paste(foreground_img8, (120,555), foreground_img8)\n",
        "\n",
        "foreground_img5= foreground_img5.rotate(anglee, expand = True)\n",
        "background_img.paste(foreground_img5, (150,980), foreground_img5)\n",
        "\n",
        "foreground_img10= foreground_img10.rotate(angle, expand = True)\n",
        "background_img.paste(foreground_img10, (1150,620), foreground_img10)\n",
        "\n",
        "foreground_img3= foreground_img3.rotate(anglee3, expand = True)\n",
        "background_img.paste(foreground_img3, (1207,624), foreground_img3)\n",
        "\n",
        "\n",
        "foreground_img2 = foreground_img2.rotate(angle2, expand = True)\n",
        "background_img.paste(foreground_img2, (214,539), foreground_img2)\n",
        "\n",
        "foreground_img7 = foreground_img7.rotate(angle7, expand = True)\n",
        "background_img.paste(foreground_img7, (609,400), foreground_img7)\n",
        "\n",
        "foreground_img = foreground_img.rotate(angle1, expand = True)\n",
        "background_img.paste(foreground_img, (550,310), foreground_img)\n",
        "\n",
        "\n",
        "background_img.save('masked/background18.jpg',format = 'JPEG')\n",
        "\n",
        "#backgroundd = foreground_img.rotate(270, PIL.Image.NEAREST, expand = 1)"
      ]
    },
    {
      "cell_type": "code",
      "execution_count": null,
      "metadata": {
        "id": "mL4chFIDXYXj"
      },
      "outputs": [],
      "source": [
        "image = Image.open('/content/masked/background18.jpg')\n",
        "image_detail = image.filter(ImageFilter.DETAIL)\n",
        "#image_sharp = image_detail.filter(ImageFilter.SHARPEN)\n",
        "image_smooth = image_detail.filter(ImageFilter.SMOOTH)\n",
        "image_detailed = image_smooth.filter(ImageFilter.DETAIL)\n",
        "image_detailedd = image_detailed.filter(ImageFilter.DETAIL)\n",
        "#image_contour = image.filter(ImageFilter.SMOOTH_MORE)\n",
        "#image_edge = image_detailedd.filter(ImageFilter.EDGE_ENHANCE)\n",
        "#image_find_edges = image_sharp.filter(ImageFilter.FIND_EDGES)\n",
        "color_enhancer = ImageEnhance.Color(image_detailedd)\n",
        "sharpness_enhancer = ImageEnhance.Sharpness(image_detailedd)\n",
        "enhanced_image = color_enhancer.enhance(1.3)\n",
        "\n",
        "brightness_enhancer = ImageEnhance.Brightness(enhanced_image) # contrast\n",
        "brighter = brightness_enhancer.enhance(1)\n",
        "\n",
        "contrast_enhancer = ImageEnhance.Contrast(brighter) # contrast\n",
        "brighterr = contrast_enhancer.enhance(1)\n",
        "\n",
        "brighterr.show()\n",
        "brighterr.save('masked/background18.jpg',format = 'JPEG')\n",
        "#brighterr.save('background.jpg')\n"
      ]
    },
    {
      "cell_type": "code",
      "execution_count": null,
      "metadata": {
        "id": "gbtCBFTeXYV2"
      },
      "outputs": [],
      "source": [
        "from PIL import Image, ImageEnhance\n",
        "\n",
        "# Load the image\n",
        "image_path = \"masked/background18.jpg\"  # Replace with the path to your image\n",
        "image = Image.open(image_path)\n",
        "\n",
        "# Adjust brightness\n",
        "brightness_factor = 1 # Increase or decrease as needed (1.0 means no change)\n",
        "enhancer_brightness = ImageEnhance.Brightness(image)\n",
        "image = enhancer_brightness.enhance(brightness_factor)\n",
        "\n",
        "# Adjust contrast\n",
        "contrast_factor = 1.2  # Increase or decrease as needed (1.0 means no change)\n",
        "enhancer_contrast = ImageEnhance.Contrast(image)\n",
        "image = enhancer_contrast.enhance(contrast_factor)\n",
        "\n",
        "# Save or display the resulting image\n",
        "image.show()  # Display the image\n",
        "image.save('/content/outputs/background18.jpg')  # Save the image\n"
      ]
    },
    {
      "cell_type": "code",
      "execution_count": null,
      "metadata": {
        "id": "s11vYZUtXYUU"
      },
      "outputs": [],
      "source": [
        "#background 19"
      ]
    },
    {
      "cell_type": "code",
      "execution_count": null,
      "metadata": {
        "id": "--bEh6Y-XYSh"
      },
      "outputs": [],
      "source": [
        "from PIL import Image, ImageFilter, ImageEnhance, ImageOps, ImageChops\n",
        "import PIL\n",
        "\n",
        "background_img = Image.open(\"/content/background_images/plain.jpg\")\n",
        "foreground_img = Image.open(output_pATH)\n",
        "foreground_img2 = Image.open('/content/background_images/roses.png')\n",
        "foreground_img3 = Image.open('/content/background_images/redflower.png')\n",
        "foreground_img4 = Image.open('/content/background_images/shadow2.png')\n",
        "foreground_img5 = Image.open('/content/background_images/shadow2.png')\n",
        "foreground_img6 = Image.open('/content/background_images/roses.png')\n",
        "foreground_img7 = Image.open('/content/background_images/shadow2.png')\n",
        "foreground_img8 = Image.open('/content/background_images/shadow2.png')\n",
        "foreground_img9 = Image.open('/content/background_images/wine.png')\n",
        "foreground_img10 = Image.open('/content/background_images/shadow2.png')\n",
        "\n",
        "new_width = 270\n",
        "new_height = 290\n",
        "\n",
        "new_width2 = 350\n",
        "new_height2 = 400\n",
        "\n",
        "new_width3 = 310\n",
        "new_height3 = 250\n",
        "\n",
        "new_width4 = 250\n",
        "new_height4 = 470\n",
        "\n",
        "new_width5 = 150\n",
        "new_height5 = 150\n",
        "\n",
        "new_width6 = 190\n",
        "new_height6 = 700\n",
        "\n",
        "new_width7 = 100\n",
        "new_height7 = 100\n",
        "\n",
        "new_width8= 199\n",
        "new_height8 = 199\n",
        "\n",
        "new_width9 = 10\n",
        "new_height9 = 4\n",
        "\n",
        "new_width10 = 150\n",
        "new_height10 = 150\n",
        "\n",
        "\n",
        "foreground_img = foreground_img.resize((new_width, new_height))\n",
        "foreground_img2 = foreground_img2.resize((new_width2, new_height2))\n",
        "foreground_img3 = foreground_img3.resize((new_width3, new_height3))\n",
        "foreground_img4 = foreground_img4.resize((new_width4, new_height4))\n",
        "foreground_img5 = foreground_img5.resize((new_width5, new_height5))\n",
        "foreground_img6 = foreground_img6.resize((new_width6, new_height6))\n",
        "foreground_imgg = ImageOps.mirror(foreground_img6)\n",
        "foreground_img7 = foreground_img7.resize((new_width7, new_height7))\n",
        "foreground_img8 = foreground_img8.resize((new_width8, new_height8))\n",
        "foreground_img9 = foreground_img9.resize((new_width9, new_height9))\n",
        "foreground_img10 = foreground_img10.resize((new_width10, new_height10))\n",
        "\n",
        "angle1 = 340\n",
        "angle = 0\n",
        "anglee = 0\n",
        "angle9 = 90\n",
        "anglee3 = 0\n",
        "yangl = 0\n",
        "angle2 = 2\n",
        "\n",
        "foreground_img4 = foreground_img4.rotate(angle, expand = True)\n",
        "background_img.paste(foreground_img4, (585,370), foreground_img4)\n",
        "\n",
        "foreground_img9= foreground_img9.rotate(angle9, expand = True)\n",
        "background_img.paste(foreground_img9, (100,100), foreground_img9)\n",
        "\n",
        "foreground_img8= foreground_img8.rotate(yangl, expand = True)\n",
        "background_img.paste(foreground_img8, (100,100), foreground_img8)\n",
        "\n",
        "foreground_img7 = foreground_img7.rotate(angle, expand = True)\n",
        "background_img.paste(foreground_img7, (64,70), foreground_img7)\n",
        "\n",
        "foreground_imgg = foreground_imgg.rotate(angle, expand = True)\n",
        "background_img.paste(foreground_imgg, (115,110), foreground_imgg)\n",
        "\n",
        "foreground_img5= foreground_img5.rotate(anglee, expand = True)\n",
        "background_img.paste(foreground_img5, (155,98), foreground_img5)\n",
        "\n",
        "foreground_img10= foreground_img10.rotate(anglee, expand = True)\n",
        "background_img.paste(foreground_img10, (155,98), foreground_img10)\n",
        "\n",
        "foreground_img3= foreground_img3.rotate(anglee3, expand = True)\n",
        "background_img.paste(foreground_img3, (70,14), foreground_img3)\n",
        "\n",
        "foreground_img2 = foreground_img2.rotate(angle2, expand = True)\n",
        "background_img.paste(foreground_img2, (14,39), foreground_img2)\n",
        "\n",
        "foreground_img = foreground_img.rotate(angle1, expand = True)\n",
        "background_img.paste(foreground_img, (500,415), foreground_img)\n",
        "\n",
        "background_img.save('masked/background19.jpg',format = 'JPEG')\n",
        "\n",
        "#backgroundd = foreground_img.rotate(270, PIL.Image.NEAREST, expand = 1)\n",
        "#vertical_img = img.transpose(method=Image.FLIP_TOP_BOTTOM)\n",
        "#vertical_img.show()\n",
        "\n",
        "\n",
        "\n",
        "\n",
        "\n",
        "\n",
        "\n",
        "\n",
        "\n",
        "\n",
        "\n",
        "\n",
        "\n"
      ]
    },
    {
      "cell_type": "code",
      "execution_count": null,
      "metadata": {
        "id": "F2tGKNuUXYQw"
      },
      "outputs": [],
      "source": []
    },
    {
      "cell_type": "code",
      "execution_count": null,
      "metadata": {
        "id": "TV_xJI1NXYO1"
      },
      "outputs": [],
      "source": []
    },
    {
      "cell_type": "code",
      "execution_count": null,
      "metadata": {
        "id": "Kk7zJIEZXYKJ"
      },
      "outputs": [],
      "source": []
    },
    {
      "cell_type": "code",
      "execution_count": null,
      "metadata": {
        "id": "awEV_ZopXYIc"
      },
      "outputs": [],
      "source": []
    },
    {
      "cell_type": "code",
      "execution_count": null,
      "metadata": {
        "id": "ohNLtnzkXYHO"
      },
      "outputs": [],
      "source": []
    },
    {
      "cell_type": "code",
      "execution_count": null,
      "metadata": {
        "id": "dd_Y552fXYEc"
      },
      "outputs": [],
      "source": []
    },
    {
      "cell_type": "code",
      "execution_count": null,
      "metadata": {
        "id": "NtMvBGigXYA6"
      },
      "outputs": [],
      "source": []
    },
    {
      "cell_type": "code",
      "execution_count": null,
      "metadata": {
        "id": "R4W-83RSXX-s"
      },
      "outputs": [],
      "source": []
    },
    {
      "cell_type": "code",
      "execution_count": null,
      "metadata": {
        "id": "o41hbHPIXX8R"
      },
      "outputs": [],
      "source": []
    },
    {
      "cell_type": "code",
      "execution_count": null,
      "metadata": {
        "id": "rjLRb0W5XX5u"
      },
      "outputs": [],
      "source": []
    },
    {
      "cell_type": "code",
      "execution_count": null,
      "metadata": {
        "id": "O-6DOmDwXX3b"
      },
      "outputs": [],
      "source": []
    },
    {
      "cell_type": "code",
      "execution_count": null,
      "metadata": {
        "id": "Mx2b-m4sXX0u"
      },
      "outputs": [],
      "source": []
    },
    {
      "cell_type": "code",
      "execution_count": null,
      "metadata": {
        "id": "wa-vdtDPXXyb"
      },
      "outputs": [],
      "source": []
    },
    {
      "cell_type": "code",
      "execution_count": null,
      "metadata": {
        "id": "L0N5zNQcXXvl"
      },
      "outputs": [],
      "source": []
    },
    {
      "cell_type": "code",
      "execution_count": null,
      "metadata": {
        "id": "r62I4vfhXXtE"
      },
      "outputs": [],
      "source": []
    },
    {
      "cell_type": "code",
      "execution_count": null,
      "metadata": {
        "id": "p45RhC44XXqp"
      },
      "outputs": [],
      "source": []
    },
    {
      "cell_type": "code",
      "execution_count": null,
      "metadata": {
        "id": "e4QYyq2zXXoD"
      },
      "outputs": [],
      "source": []
    },
    {
      "cell_type": "code",
      "execution_count": null,
      "metadata": {
        "id": "pCDzOIP3XXli"
      },
      "outputs": [],
      "source": []
    },
    {
      "cell_type": "code",
      "execution_count": null,
      "metadata": {
        "id": "QBT-MkLwXXjK"
      },
      "outputs": [],
      "source": []
    },
    {
      "cell_type": "code",
      "execution_count": null,
      "metadata": {
        "id": "--1joEHBXXgy"
      },
      "outputs": [],
      "source": []
    },
    {
      "cell_type": "code",
      "execution_count": null,
      "metadata": {
        "id": "R_FLQE7cXXbx"
      },
      "outputs": [],
      "source": []
    },
    {
      "cell_type": "code",
      "execution_count": null,
      "metadata": {
        "id": "W5-Abg8FXXYI"
      },
      "outputs": [],
      "source": []
    },
    {
      "cell_type": "code",
      "execution_count": null,
      "metadata": {
        "id": "Fu8w3dRqXXVo"
      },
      "outputs": [],
      "source": []
    },
    {
      "cell_type": "code",
      "execution_count": null,
      "metadata": {
        "id": "CIMvJ3xVXXTA"
      },
      "outputs": [],
      "source": []
    },
    {
      "cell_type": "code",
      "execution_count": null,
      "metadata": {
        "id": "bLhnVF2OXXQa"
      },
      "outputs": [],
      "source": []
    },
    {
      "cell_type": "code",
      "execution_count": null,
      "metadata": {
        "id": "bT2htjBLF4_G"
      },
      "outputs": [],
      "source": [
        "#shadow"
      ]
    },
    {
      "cell_type": "code",
      "execution_count": null,
      "metadata": {
        "id": "OwVW3KkQMUxM"
      },
      "outputs": [],
      "source": []
    },
    {
      "cell_type": "code",
      "execution_count": null,
      "metadata": {
        "id": "1mOe1jJ-TA_i"
      },
      "outputs": [],
      "source": []
    },
    {
      "cell_type": "code",
      "execution_count": null,
      "metadata": {
        "id": "5qNaVzavTA71"
      },
      "outputs": [],
      "source": []
    },
    {
      "cell_type": "code",
      "execution_count": null,
      "metadata": {
        "id": "XvNIaJI6TA5J"
      },
      "outputs": [],
      "source": []
    },
    {
      "cell_type": "code",
      "execution_count": null,
      "metadata": {
        "id": "9sEqJntNTA2K"
      },
      "outputs": [],
      "source": []
    },
    {
      "cell_type": "code",
      "execution_count": null,
      "metadata": {
        "id": "XMKFFooZTAsw"
      },
      "outputs": [],
      "source": []
    },
    {
      "cell_type": "code",
      "execution_count": null,
      "metadata": {
        "id": "5rFhR-HhU_r8"
      },
      "outputs": [],
      "source": []
    },
    {
      "cell_type": "code",
      "execution_count": null,
      "metadata": {
        "id": "FJpR85nBU_oa"
      },
      "outputs": [],
      "source": []
    },
    {
      "cell_type": "code",
      "execution_count": null,
      "metadata": {
        "id": "dLdDiaf1U_l6"
      },
      "outputs": [],
      "source": []
    },
    {
      "cell_type": "code",
      "execution_count": null,
      "metadata": {
        "id": "UiaEypIvU_jK"
      },
      "outputs": [],
      "source": []
    },
    {
      "cell_type": "code",
      "execution_count": null,
      "metadata": {
        "id": "SFzkVJtHU_gr"
      },
      "outputs": [],
      "source": []
    },
    {
      "cell_type": "code",
      "execution_count": null,
      "metadata": {
        "id": "HySrYuTJU_dl"
      },
      "outputs": [],
      "source": []
    },
    {
      "cell_type": "code",
      "execution_count": null,
      "metadata": {
        "id": "eZCU41J6U_a2"
      },
      "outputs": [],
      "source": []
    },
    {
      "cell_type": "code",
      "execution_count": null,
      "metadata": {
        "id": "x6zPvr6mR9pu"
      },
      "outputs": [],
      "source": []
    },
    {
      "cell_type": "code",
      "execution_count": null,
      "metadata": {
        "id": "G4sj899gMUtq"
      },
      "outputs": [],
      "source": []
    },
    {
      "cell_type": "code",
      "execution_count": null,
      "metadata": {
        "id": "Ybp3D3oBMUcl"
      },
      "outputs": [],
      "source": []
    },
    {
      "cell_type": "code",
      "execution_count": null,
      "metadata": {
        "id": "hMy9s95-MUYp"
      },
      "outputs": [],
      "source": []
    },
    {
      "cell_type": "code",
      "execution_count": null,
      "metadata": {
        "id": "3W6zh7vMRUAP"
      },
      "outputs": [],
      "source": []
    },
    {
      "cell_type": "code",
      "execution_count": null,
      "metadata": {
        "id": "8pDLbYfIRT8y"
      },
      "outputs": [],
      "source": []
    },
    {
      "cell_type": "code",
      "execution_count": null,
      "metadata": {
        "id": "esssgT31RT6R"
      },
      "outputs": [],
      "source": []
    },
    {
      "cell_type": "code",
      "execution_count": null,
      "metadata": {
        "id": "Zd9dtpjDRT3y"
      },
      "outputs": [],
      "source": []
    },
    {
      "cell_type": "code",
      "execution_count": null,
      "metadata": {
        "id": "XNtz2-7jRT1K"
      },
      "outputs": [],
      "source": []
    },
    {
      "cell_type": "code",
      "execution_count": null,
      "metadata": {
        "id": "_aS7IDhHMUVC"
      },
      "outputs": [],
      "source": []
    },
    {
      "cell_type": "code",
      "execution_count": null,
      "metadata": {
        "id": "yu0KTZTclsi5"
      },
      "outputs": [],
      "source": []
    },
    {
      "cell_type": "code",
      "execution_count": null,
      "metadata": {
        "id": "BROzMoHkMTKP"
      },
      "outputs": [],
      "source": []
    },
    {
      "cell_type": "code",
      "execution_count": null,
      "metadata": {
        "id": "M9KNq90elsgV"
      },
      "outputs": [],
      "source": []
    },
    {
      "cell_type": "code",
      "execution_count": null,
      "metadata": {
        "id": "4FPnOMOWlsdq"
      },
      "outputs": [],
      "source": []
    }
  ],
  "metadata": {
    "colab": {
      "provenance": []
    },
    "kernelspec": {
      "display_name": "Python 3",
      "name": "python3"
    },
    "language_info": {
      "name": "python"
    }
  },
  "nbformat": 4,
  "nbformat_minor": 0
}